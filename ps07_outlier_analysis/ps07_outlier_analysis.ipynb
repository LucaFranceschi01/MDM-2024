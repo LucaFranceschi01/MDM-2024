{
 "cells": [
  {
   "cell_type": "markdown",
   "metadata": {},
   "source": [
    "# Practice PS07: Outlier analysis"
   ]
  },
  {
   "cell_type": "markdown",
   "metadata": {},
   "source": [
    "The objective of this session is to practice finding outliers by implementing the [Isolation Forest](https://en.wikipedia.org/wiki/Isolation_forest) algorithm.\n",
    "\n",
    "<font size=\"-1\" color=\"gray\">(Remove this cell when delivering.)</font>"
   ]
  },
  {
   "cell_type": "markdown",
   "metadata": {},
   "source": [
    "Author: <font color=\"blue\">Your name here</font>\n",
    "\n",
    "E-mail: <font color=\"blue\">Your e-mail here</font>\n",
    "\n",
    "Date: <font color=\"blue\">The current date here</font>"
   ]
  },
  {
   "cell_type": "code",
   "execution_count": null,
   "metadata": {},
   "outputs": [],
   "source": [
    "import pandas as pd\n",
    "import matplotlib.pyplot as plt\n",
    "import csv\n",
    "import io\n",
    "import random\n",
    "import numpy as np"
   ]
  },
  {
   "cell_type": "markdown",
   "metadata": {},
   "source": [
    "# 1. Dataset"
   ]
  },
  {
   "cell_type": "markdown",
   "metadata": {},
   "source": [
    "We will use the file `annthyroid.csv` that contains data about exams of the thyroid gland of 7,200 patients. In each exam, six attributes *f1*, *f2*, ..., *f6* of each patient are measured. A ground-truth label indicating if the thyroid was finally found to be normal or abnormal is included in the dataset. Further information on this dataset can be found in this [free repository](http://odds.cs.stonybrook.edu/annthyroid-dataset/).\n",
    "\n",
    "Leave the loading code below as-is.\n",
    "\n",
    "<font size=\"-1\" color=\"gray\">(Remove this cell when delivering.)</font>"
   ]
  },
  {
   "cell_type": "code",
   "execution_count": null,
   "metadata": {},
   "outputs": [],
   "source": [
    "# LEAVE AS-IS\n",
    "\n",
    "df = pd.read_csv('annthyroid.csv', sep=',')\n",
    "\n",
    "# Replace the \"label\" column by an \"abnormal\" column\n",
    "df['result'] = df['label'].apply(lambda x: 'abnormal' if x == 1 else 'normal')\n",
    "df.drop(columns=['label'], inplace=True)"
   ]
  },
  {
   "cell_type": "markdown",
   "metadata": {},
   "source": [
    "Print the total number of patients, the number and percentage of patients with a normal thyroid, and the number and percentage of patients with an abnormal thyroid. Your code should print:\n",
    "\n",
    "```\n",
    "Total patients   : 7200\n",
    "Normal thyroid   : 6666 (92.58%)\n",
    "Abnormal thyroid : 534 (7.42%)\n",
    "```\n",
    "\n",
    "<font size=\"-1\" color=\"gray\">(Remove this cell when delivering.)</font>"
   ]
  },
  {
   "cell_type": "markdown",
   "metadata": {},
   "source": [
    "<font size=\"+1\" color=\"red\">Replace this cell with your code to print the number and percentages of patients in each group.</font>"
   ]
  },
  {
   "cell_type": "markdown",
   "metadata": {},
   "source": [
    "Print the first 10 normal exams, and the \"centroid\" (average) of a normal exam.\n",
    "\n",
    "Print the first 10 abnormal exams, and the \"centroid\" (average) of a normal exam.\n",
    "\n",
    "<font size=\"-1\" color=\"gray\">(Remove this cell when delivering.)</font>"
   ]
  },
  {
   "cell_type": "markdown",
   "metadata": {},
   "source": [
    "<font size=\"+1\" color=\"red\">Replace this cell with your code to print the 10 normal exams and the centroid of all normal exams, and the first 10 abnormal exams and the centroid of all abnormal exams.</font>"
   ]
  },
  {
   "cell_type": "markdown",
   "metadata": {},
   "source": [
    "<font size=\"+1\" color=\"red\">Replace this cell with a brief comment indicating, based only on the centroids, which features do you think could be useful for differentiating between normal and abnormal thyroids? Why?</font>"
   ]
  },
  {
   "cell_type": "markdown",
   "metadata": {},
   "source": [
    "Note that identifying outliers in this dataset is possible because outliers seem to be quite different, across many dimensions, from inliers. To show this, we can create all scatter plots of combinations of two dimensions in the data. In these, you can see that feature values for the minority class (represented by the color red), indeed are quite different from feature values for the majority class (represented by the color blue).\n",
    "\n",
    "Use [scatter_matrix](https://pandas.pydata.org/pandas-docs/stable/reference/api/pandas.plotting.scatter_matrix.html) to create a matrix of scatter plots. The following code creates a simple scatter matrix. Pick color1 and color2 from the list of [matplotlib colors](https://matplotlib.org/stable/gallery/color/named_colors.html).\n",
    "\n",
    "```python\n",
    "color_code = {'abnormal': ..., 'normal': ...}\n",
    "\n",
    "colors = df['result'].apply(lambda x: color_code[x])\n",
    "\n",
    "pd.plotting.scatter_matrix(df, c=colors)\n",
    "```\n",
    "\n",
    "Change the figure size with parameter `figsize`.\n",
    "\n",
    "<font size=\"-1\" color=\"gray\">(Remove this cell when delivering.)</font>"
   ]
  },
  {
   "cell_type": "markdown",
   "metadata": {},
   "source": [
    "<font size=\"+1\" color=\"red\">Replace this cell with your code to create a scatter matrix as described above.</font>"
   ]
  },
  {
   "cell_type": "markdown",
   "metadata": {},
   "source": [
    "<font size=\"+1\" color=\"red\">Replace this cell with a brief commentary on whether you already guess any difference between normal and abnormal exams, based on combinations of features. What are the differences you can appreciate?</font>"
   ]
  },
  {
   "cell_type": "markdown",
   "metadata": {},
   "source": [
    "# 1. Create isolation tree"
   ]
  },
  {
   "cell_type": "markdown",
   "metadata": {},
   "source": [
    "## 1.1. Random dimension and random split"
   ]
  },
  {
   "cell_type": "markdown",
   "metadata": {},
   "source": [
    "Create a function that returns a random dimension in the dataset. We will ignore some columns, because the random dimension can never be *id* or *result*, but instead should be one of the other dimensions 'f1', 'f2', ..., 'f6'. Do not hard-code these dimensions into your function, instead, read df.columns.\n",
    "\n",
    "The signature of your function should be `pick_random_dimension(df, columns_to_ignore)`.\n",
    "\n",
    "Test your function by calling it a few times. It should return a random dimension every time, among the columns of the dataset, excluding the *columns_to_ignore*.\n",
    "\n",
    "<font size=\"-1\" color=\"gray\">(Remove this cell when delivering.)</font>"
   ]
  },
  {
   "cell_type": "markdown",
   "metadata": {},
   "source": [
    "<font size=\"+1\" color=\"red\">Replace this cell with code implementing \"pick_random_dimension\" and a couple of calls to this function.</font>"
   ]
  },
  {
   "cell_type": "markdown",
   "metadata": {},
   "source": [
    "Create a function that returns a random split point along a dimension. Do not rely on the fact that, *on this dataset* every dimension takes a value between 0.0 and 1.0. Instead, use `np.min(df[dimension])` and `np.max(df[dimension])`.\n",
    "\n",
    "The signature of your function should be `pick_random_split(df, dimension)`.\n",
    "\n",
    "<font size=\"-1\" color=\"gray\">(Remove this cell when delivering.)</font>"
   ]
  },
  {
   "cell_type": "markdown",
   "metadata": {},
   "source": [
    "<font size=\"+1\" color=\"red\">Replace this cell with code implementing \"pick_random_split\" and a couple of calls to test this function; each call should return a random split point chosen uniformly at random between the minimum and the maximum value along a dimension.</font>"
   ]
  },
  {
   "cell_type": "markdown",
   "metadata": {},
   "source": [
    "## 1.2. Implement split data into two"
   ]
  },
  {
   "cell_type": "markdown",
   "metadata": {},
   "source": [
    "Implement a function `split_dataset(df, dimension, split)` that returns two sub-datasets: one with all elements having *dimension <= split*, and another one with all elements having *dimension > split*.\n",
    "\n",
    "The signature of your function should be `split_dataset(df, dimension, split)`.\n",
    "\n",
    "<font size=\"-1\" color=\"gray\">(Remove this cell when delivering.)</font>"
   ]
  },
  {
   "cell_type": "markdown",
   "metadata": {},
   "source": [
    "<font size=\"+1\" color=\"red\">Replace this cell with code implementing \"split_dataset\".</font>"
   ]
  },
  {
   "cell_type": "markdown",
   "metadata": {},
   "source": [
    "Remember to test your function; for instance, split on dimension `f1` at `0.5` by doing:\n",
    "\n",
    "```python\n",
    "(left, right) = split_dataset(df, 'f1', 0.5)\n",
    "```\n",
    "\n",
    "In the output, all the rows in *left* have *f1 <= 0.5* and all the rows in *right* have *f1 > 0.5*.\n",
    "\n",
    "<font size=\"-1\" color=\"gray\">(Remove this cell when delivering.)</font>"
   ]
  },
  {
   "cell_type": "markdown",
   "metadata": {},
   "source": [
    "<font size=\"+1\" color=\"red\">Replace this cell with code testing \"split_dataset\", i.e., select a dimension and a cut-off and split the dataset, then print the two pieces and check that it is working correctly. Also check that the sum of the sizes of the two pieces is the size of the original data.</font>"
   ]
  },
  {
   "cell_type": "markdown",
   "metadata": {},
   "source": [
    "## 1.3. Create one isolation tree"
   ]
  },
  {
   "cell_type": "markdown",
   "metadata": {},
   "source": [
    "First, let us add a patient identifier in column \"id\". The new dataframe is called `dfi`.\n",
    "\n",
    "<font size=\"-1\" color=\"gray\">(Remove this cell when delivering.)</font>"
   ]
  },
  {
   "cell_type": "code",
   "execution_count": null,
   "metadata": {},
   "outputs": [],
   "source": [
    "# LEAVE AS-IS\n",
    "\n",
    "dfi = df.copy()\n",
    "dfi.insert(0, 'id', [(\"P%.4d\" % x) for x in range(1, 1 + len(df))])\n",
    "dfi"
   ]
  },
  {
   "cell_type": "markdown",
   "metadata": {},
   "source": [
    "An isolation tree will be a dictionary. In this dictionary, having *contents*, indicates an external node of the tree, while having *left* and *right* indicates an internal node of the tree.\n",
    "\n",
    "Create a recursive function `isolation_tree(data, columns_to_ignore, min_items)` that:\n",
    "\n",
    "* If the *data* has *min_items* or less:\n",
    "    * Return a dictionary `{\"contents\": data}`\n",
    "* If the *data* has more than *min_items*\n",
    "    * Selects a random dimension from the data, ignoring the *columns_to_ignore*\n",
    "    * Selects a random split point along that dimension\n",
    "    * Sets `left` to an isolation tree containing points having dimension <= split\n",
    "    * Sets `right` to an isolation tree containing points having dimension > split\n",
    "    * Returns a dictionary `{\"left\": left, \"right\": right, \"dimension\": dimension, \"split\": split}`\n",
    "\n",
    "You can use the following skeleton:\n",
    "\n",
    "```python\n",
    "def isolation_tree(data, columns_to_ignore, min_items):\n",
    "    tree = {}\n",
    "    if len(data) <= min_items:\n",
    "        return {\"contents\": data}\n",
    "    else:\n",
    "        # REPLACE WITH YOUR CODE \n",
    "        return tree   \n",
    "```\n",
    "\n",
    "<font size=\"-1\" color=\"gray\">(Remove this cell when delivering.)</font>"
   ]
  },
  {
   "cell_type": "markdown",
   "metadata": {},
   "source": [
    "<font size=\"+1\" color=\"red\">Replace this cell with you code implementing \"isolation_tree\".</font>"
   ]
  },
  {
   "cell_type": "markdown",
   "metadata": {},
   "source": [
    "Test your function creating a shallow tree.\n",
    "\n",
    "<font size=\"-1\" color=\"gray\">(Remove this cell when delivering.)</font>"
   ]
  },
  {
   "cell_type": "code",
   "execution_count": null,
   "metadata": {},
   "outputs": [],
   "source": [
    "# LEAVE AS-IS\n",
    "\n",
    "mytree = isolation_tree(dfi, ['id', 'result'], 2000)"
   ]
  },
  {
   "cell_type": "markdown",
   "metadata": {},
   "source": [
    "You do not need to modify the next function, which is useful to print a tree in ASCII.\n",
    "\n",
    "<font size=\"-1\" color=\"gray\">(Remove this cell when delivering.)</font>"
   ]
  },
  {
   "cell_type": "code",
   "execution_count": null,
   "metadata": {},
   "outputs": [],
   "source": [
    "# LEAVE AS-IS\n",
    "\n",
    "class tree_drawing(object):\n",
    "    def __init__(self, value, left=None, right=None):\n",
    "        self.value = value\n",
    "        self.left = left\n",
    "        self.right = right\n",
    "\n",
    "    def __str__(self, label='', level=0):\n",
    "        ret = \"-\" * level + label + \":\" + repr(self.value)+\"\\n\"\n",
    "        if self.left:\n",
    "            ret += self.left.__str__(\"<\", level+1)\n",
    "        if self.right:\n",
    "            ret += self.right.__str__(\">\", level+1)\n",
    "        return ret\n",
    "\n",
    "    def __repr__(self):\n",
    "        return self.value\n",
    "    \n",
    "def tree_to_nodes(tree):\n",
    "    if 'contents' in tree:\n",
    "        data = tree['contents']\n",
    "        normal_count = len(data[data['result'] == 'normal'])\n",
    "        abnormal_count = len(data[data['result'] == 'abnormal'])\n",
    "        description = \"external node: %d normal + %d abnormal\" % (normal_count, abnormal_count)\n",
    "        return tree_drawing(description)\n",
    "    else:\n",
    "        left = tree['left']\n",
    "        right = tree['right']\n",
    "        description = 'internal node: ' + tree['dimension'] + ' <= ' + (\"%.2f\" % tree['split'])\n",
    "        n = tree_drawing(description, tree_to_nodes(left), tree_to_nodes(right) )\n",
    "        return n"
   ]
  },
  {
   "cell_type": "markdown",
   "metadata": {},
   "source": [
    "Print your tree using this function. It should look something like this:\n",
    "\n",
    "```\n",
    ":'internal node: f4 <= 0.30'\n",
    "-<:'internal node: f3 <= 0.03'\n",
    "--<:'internal node: f5 <= 0.07'\n",
    "---<:'external node: 226 normal + 16 abnormal'\n",
    "--->:'internal node: f6 <= 0.12'\n",
    "----<:'external node: 4215 normal + 473 abnormal'\n",
    "---->:'external node: 1641 normal + 34 abnormal'\n",
    "-->:'external node: 576 normal + 11 abnormal'\n",
    "->:'external node: 8 normal + 0 abnormal'\n",
    "```\n",
    "\n",
    "Given that the tree is created by a **randomized process**, your tree will be different.\n",
    "\n",
    "<font size=\"-1\" color=\"gray\">(Remove this cell when delivering.)</font>"
   ]
  },
  {
   "cell_type": "code",
   "execution_count": null,
   "metadata": {},
   "outputs": [],
   "source": [
    "print(tree_to_nodes(mytree))"
   ]
  },
  {
   "cell_type": "markdown",
   "metadata": {},
   "source": [
    "Create a function `get_max_tree_depth` that returns the maximum depth of a tree.\n",
    "\n",
    "<font size=\"-1\" color=\"gray\">(Remove this cell when delivering.)</font>"
   ]
  },
  {
   "cell_type": "markdown",
   "metadata": {},
   "source": [
    "<font size=\"+1\" color=\"red\">Replace this cell with you code implementing `get_max_tree_depth`</font>"
   ]
  },
  {
   "cell_type": "markdown",
   "metadata": {},
   "source": [
    "<font size=\"+1\" color=\"red\">Replace this cell with you code testing `get_max_tree_depth` on `mytree`.</font>"
   ]
  },
  {
   "cell_type": "markdown",
   "metadata": {},
   "source": [
    "# 2. Create isolation forests and find depth of items\n",
    "\n",
    "An isolation forest will be simply a an array of isolation trees.\n",
    "\n",
    "<font size=\"-1\" color=\"gray\">(Remove this cell when delivering.)</font>"
   ]
  },
  {
   "cell_type": "markdown",
   "metadata": {},
   "source": [
    "## 2.1. Create an isolation forest"
   ]
  },
  {
   "cell_type": "markdown",
   "metadata": {},
   "source": [
    "Write a function `isolation_forest(dfi, columns_to_ignore, min_items, num_trees)` that creates an array of *num_trees* isolation trees.\n",
    "\n",
    "<font size=\"-1\" color=\"gray\">(Remove this cell when delivering.)</font>"
   ]
  },
  {
   "cell_type": "markdown",
   "metadata": {},
   "source": [
    "<font size=\"+1\" color=\"red\">Replace this cell with you code implementing \"isolation_tree\".</font>"
   ]
  },
  {
   "cell_type": "markdown",
   "metadata": {},
   "source": [
    "Use the next code to test how to create an isolation forest of 20 trees, in which leaves have at least 50 items. It might take a few minutes to run.\n",
    "\n",
    "<font size=\"-1\" color=\"gray\">(Remove this cell when delivering.)</font>"
   ]
  },
  {
   "cell_type": "markdown",
   "metadata": {},
   "source": [
    "Use the next code to test how to create an isolation forest of 30 trees, in which leaves have at least 100 items. It might take a few minutes to run.\n",
    "\n",
    "**Note: please feel free to experiment with different number of trees and different number of minimum items.** If when performing the rest of the experiments and the histograms below, you notice that a different set of parameters yields more separation between classes, modify the next cell. If you do, please indicate clearly that you changed these parameters.\n",
    "\n",
    "<font size=\"-1\" color=\"gray\">(Remove this cell when delivering.)</font>"
   ]
  },
  {
   "cell_type": "code",
   "execution_count": null,
   "metadata": {},
   "outputs": [],
   "source": [
    "# MODIFY IF YOU SEE THAT IT IMPROVES THE SEPARATION BETWEEN CLASSES\n",
    "\n",
    "min_items = 50\n",
    "num_trees = 20"
   ]
  },
  {
   "cell_type": "code",
   "execution_count": null,
   "metadata": {},
   "outputs": [],
   "source": [
    "# LEAVE AS-IS\n",
    "\n",
    "myforest = isolation_forest(dfi, ['id', 'result'], min_items, num_trees)\n",
    "print(\"The forest has %d trees\" % len(myforest))"
   ]
  },
  {
   "cell_type": "markdown",
   "metadata": {},
   "source": [
    "Now we print the first two trees of this forest.\n",
    "\n",
    "<font size=\"-1\" color=\"gray\">(Remove this cell when delivering.)</font>"
   ]
  },
  {
   "cell_type": "code",
   "execution_count": null,
   "metadata": {},
   "outputs": [],
   "source": [
    "# LEAVE AS-IS\n",
    "\n",
    "for i in range(0, 2):\n",
    "    print(\"Tree number %d\" % i)\n",
    "    print(tree_to_nodes(myforest[i]))\n",
    "    print()"
   ]
  },
  {
   "cell_type": "markdown",
   "metadata": {},
   "source": [
    "## 2.2. Find the average depth of an item"
   ]
  },
  {
   "cell_type": "markdown",
   "metadata": {},
   "source": [
    "Thie function `find_element_depth` finds the depth of a given element by recursively traversing the tree. It is a complicated function so we provide it. You can leave as-is.\n",
    "\n",
    "<font size=\"-1\" color=\"gray\">(Remove this cell when delivering.)</font>"
   ]
  },
  {
   "cell_type": "code",
   "execution_count": null,
   "metadata": {},
   "outputs": [],
   "source": [
    "# LEAVE AS-IS\n",
    "\n",
    "def find_element_depth_aux(tree, column_name, column_value, depth):\n",
    "    \n",
    "    if 'contents' in tree:\n",
    "        # We are in a leaf node\n",
    "        \n",
    "        data = tree['contents']\n",
    "        matching = data[data[column_name] == column_value]\n",
    "        if len(matching) == 0:\n",
    "            return None\n",
    "        elif len(matching) > 1:\n",
    "            print(\"Error: multiple elements match your search criterion\")\n",
    "            return None\n",
    "        else:\n",
    "            return depth\n",
    "    else:\n",
    "        # We are in an internal node\n",
    "        \n",
    "        in_left = find_element_depth_aux(tree['left'], column_name, column_value, depth+1)\n",
    "        if in_left == None:\n",
    "            in_right = find_element_depth_aux(tree['right'], column_name, column_value, depth+1)\n",
    "            return in_right\n",
    "        else:\n",
    "            return in_left\n",
    "        \n",
    "def find_element_depth(tree, column_name, column_value):\n",
    "    return find_element_depth_aux(tree, column_name, column_value, 0)"
   ]
  },
  {
   "cell_type": "markdown",
   "metadata": {},
   "source": [
    "Test this function by running it to find 5 normal and 5 abnormal thyroid exams on the shallow tree `mytree` that we created above, and on the first tree of the forest we created.\n",
    "\n",
    "<font size=\"-1\" color=\"gray\">(Remove this cell when delivering.)</font>"
   ]
  },
  {
   "cell_type": "code",
   "execution_count": null,
   "metadata": {},
   "outputs": [],
   "source": [
    "# LEAVE AS-IS\n",
    "\n",
    "def print_sample_depths(df, sample_size, tested_tree):\n",
    "\n",
    "    for result in ['normal', 'abnormal']:\n",
    "        print(\"Depths for %s items\" % result)\n",
    "\n",
    "        sample = list(df[df['result'] == result]['id'].sample(sample_size))\n",
    "\n",
    "        max_depth = get_max_tree_depth(tested_tree)\n",
    "        for random_id in sample:\n",
    "            print(\"- id=%s is at depth %d/%d\" % (random_id, find_element_depth(tested_tree, \"id\", random_id), max_depth))\n",
    "            \n",
    "    \n",
    "print(\"On shallow tree, having maximum depth %d\" % get_max_tree_depth(mytree))\n",
    "print_sample_depths(dfi, 5, mytree)\n",
    "print()\n",
    "\n",
    "print(\"On first tree of forest, having maximum depth %d\" % get_max_tree_depth(myforest[0]))\n",
    "print_sample_depths(dfi, 5, myforest[0])\n",
    "print()\n"
   ]
  },
  {
   "cell_type": "markdown",
   "metadata": {},
   "source": [
    "<font size=\"+1\" color=\"red\">Replace this cell with a brief commentary on these depths.</font>"
   ]
  },
  {
   "cell_type": "markdown",
   "metadata": {},
   "source": [
    "Write function `find_average_depth(forest, column_name, value)` that finds the the average depth of an element having *column_name = value*\n",
    "\n",
    "<font size=\"-1\" color=\"gray\">(Remove this cell when delivering.)</font>\n"
   ]
  },
  {
   "cell_type": "markdown",
   "metadata": {},
   "source": [
    "<font size=\"+1\" color=\"red\">Replace this cell with you code implementing \"find_average_depth\".</font>"
   ]
  },
  {
   "cell_type": "markdown",
   "metadata": {},
   "source": [
    "Test this function with five random elements.\n",
    "\n",
    "<font size=\"-1\" color=\"gray\">(Remove this cell when delivering.)</font>"
   ]
  },
  {
   "cell_type": "code",
   "execution_count": null,
   "metadata": {},
   "outputs": [],
   "source": [
    "# LEAVE AS-IS\n",
    "\n",
    "for result in ['normal', 'abnormal']:\n",
    "    print(\"Average depths for %s items\" % result)\n",
    "    \n",
    "    sample = list(dfi[dfi['result'] == result]['id'].sample(5))\n",
    "    \n",
    "    for random_id in sample:\n",
    "        print(\"- id=%s is at average depth %.1f\" % (random_id, find_average_depth(myforest, \"id\", random_id)))\n",
    "    \n",
    "    print()"
   ]
  },
  {
   "cell_type": "markdown",
   "metadata": {},
   "source": [
    "<font size=\"+1\" color=\"red\">Replace this cell with a brief commentary indicating how would you make the \"find_average_depth\" function more efficient if you wanted to obtain the average depth of **all** elements. Be concise but be precise, providing pseudocode if you consider it clearer than a text explanation.</font>"
   ]
  },
  {
   "cell_type": "markdown",
   "metadata": {},
   "source": [
    "# 3. Find the average depth of a sample of normal and abnormal points"
   ]
  },
  {
   "cell_type": "markdown",
   "metadata": {},
   "source": [
    "## 3.1. Determine average depths"
   ]
  },
  {
   "cell_type": "markdown",
   "metadata": {},
   "source": [
    "Next we sample 30 normal and 30 abnormal points, and store their average depths in `myforest` into arrays `normal_depths` and `abnormal_depths`.\n",
    "\n",
    "<font size=\"-1\" color=\"gray\">(Remove this cell when delivering.)</font>"
   ]
  },
  {
   "cell_type": "code",
   "execution_count": null,
   "metadata": {},
   "outputs": [],
   "source": [
    "# LEAVE AS-IS\n",
    "\n",
    "abnormal_point_ids = list(dfi[dfi['result'] == 'abnormal']['id'].sample(30))\n",
    "normal_point_ids = list(dfi[dfi['result'] == 'normal']['id'].sample(30))\n",
    "\n",
    "print(\"Normal point sample ids   : %s\" % normal_point_ids)\n",
    "print(\"Abnormal point sample ids : %s\" % abnormal_point_ids)"
   ]
  },
  {
   "cell_type": "code",
   "execution_count": null,
   "metadata": {},
   "outputs": [],
   "source": [
    "# LEAVE AS-IS\n",
    "\n",
    "normal_depths = []\n",
    "print(\"Depths of items in the 'normal' sample:\")\n",
    "for i in normal_point_ids:\n",
    "    depth = find_average_depth(myforest, 'id', i)\n",
    "    normal_depths.append(depth)\n",
    "    print(\" element id=%s is at average depth %.2f\" % (i, depth))\n",
    "print()"
   ]
  },
  {
   "cell_type": "code",
   "execution_count": null,
   "metadata": {},
   "outputs": [],
   "source": [
    "# LEAVE AS-IS\n",
    "\n",
    "abnormal_depths = []\n",
    "print(\"Depths of items in the 'abnormal' sample:\")\n",
    "for i in abnormal_point_ids:\n",
    "    depth = find_average_depth(myforest, 'id', i)\n",
    "    abnormal_depths.append(depth)\n",
    "    print(\" element id=%s is at average depth %.2f\" % (i, depth))\n",
    "print()"
   ]
  },
  {
   "cell_type": "markdown",
   "metadata": {},
   "source": [
    "Now, we create an histogram of the depths of normal and abnormal items.\n",
    "\n",
    "<font size=\"-1\" color=\"gray\">(Remove this cell when delivering.)</font>"
   ]
  },
  {
   "cell_type": "code",
   "execution_count": null,
   "metadata": {},
   "outputs": [],
   "source": [
    "# LEAVE AS-IS\n",
    "\n",
    "plt.figure(figsize=(12,4))\n",
    "plt.hist(normal_depths, label='Normal', bins=15, density=False, histtype='step', color='blue')\n",
    "plt.hist(abnormal_depths, label='Abnormal', bins=15, density=False, histtype='step', color='red')\n",
    "plt.xlabel('Average depth in the isolation forest')\n",
    "plt.ylabel('Frequency')\n",
    "plt.legend()\n",
    "plt.show()"
   ]
  },
  {
   "cell_type": "markdown",
   "metadata": {},
   "source": [
    "<font size=\"+1\" color=\"red\">Replace this cell with a brief commentary of what you see in this histogram.</font>"
   ]
  },
  {
   "cell_type": "markdown",
   "metadata": {},
   "source": [
    "## 3.2. Compute outlier scores and conclude"
   ]
  },
  {
   "cell_type": "markdown",
   "metadata": {},
   "source": [
    "Use this fast method to compute harmonic numbers. Leave as-is.\n",
    "\n",
    "<font size=\"-1\" color=\"gray\">(Remove this cell when delivering.)</font>"
   ]
  },
  {
   "cell_type": "code",
   "execution_count": null,
   "metadata": {},
   "outputs": [],
   "source": [
    "# LEAVE AS-IS\n",
    "\n",
    "# Source: https://stackoverflow.com/a/27683292/1235784\n",
    "\n",
    "from numpy import euler_gamma\n",
    "from scipy.special import digamma\n",
    "def harmonic(s):\n",
    "    return digamma(s + 1) + euler_gamma"
   ]
  },
  {
   "cell_type": "markdown",
   "metadata": {},
   "source": [
    "With this and the formula seen in class, you can compute outlier scores. The function below, which you should leave as-is, uses the *factory* design pattern to avoid computing *c(n)* every time the outlier score needs to be computed.\n",
    "\n",
    "<font size=\"-1\" color=\"gray\">(Remove this cell when delivering.)</font>"
   ]
  },
  {
   "cell_type": "code",
   "execution_count": null,
   "metadata": {},
   "outputs": [],
   "source": [
    "# LEAVE AS-IS\n",
    "\n",
    "def outlier_score_factory():\n",
    "    n = len(df.index)\n",
    "    c_n = 2.0 * harmonic(n - 1.0) - (2.0 * (n-1)/n)\n",
    "    return lambda d: 2.0**(-d/c_n)\n",
    "\n",
    "outlier_score = outlier_score_factory()\n",
    "\n",
    "normal_scores = [outlier_score(d) for d in normal_depths]\n",
    "abnormal_scores = [outlier_score(d) for d in abnormal_depths]"
   ]
  },
  {
   "cell_type": "markdown",
   "metadata": {},
   "source": [
    "Finally, we plot an histogram of outlier scores of normal and abnormal items.\n",
    "\n",
    "<font size=\"-1\" color=\"gray\">(Remove this cell when delivering.)</font>"
   ]
  },
  {
   "cell_type": "code",
   "execution_count": null,
   "metadata": {},
   "outputs": [],
   "source": [
    "# LEAVE AS-IS\n",
    "\n",
    "plt.figure(figsize=(16,3))\n",
    "\n",
    "# Plot the two histograms; the parameter 'alpha' is the transparency of the bar\n",
    "plt.hist(normal_scores, label='Normal', bins=20, density=False, histtype='step', color='blue', alpha=0.7)\n",
    "plt.hist(abnormal_scores, label='Abnormal', bins=20, density=False, histtype='step', color='red', alpha=0.7)\n",
    "\n",
    "# Draw the axis labels, legend, and display\n",
    "plt.xlabel('Outlier score')\n",
    "plt.ylabel('Frequency')\n",
    "plt.legend()\n",
    "plt.show()"
   ]
  },
  {
   "cell_type": "markdown",
   "metadata": {},
   "source": [
    "<font size=\"+1\" color=\"red\">Replace this cell with a brief commentary of what you see in this histogram.</font>"
   ]
  },
  {
   "cell_type": "markdown",
   "metadata": {},
   "source": [
    "Next, write code to determine an optimal outlier score threshold based on `normal_scores` and `abnormal_scores` assuming every thyroid exam having *score <= threshold* will be classified as normal, and every thyroid exam with score > threshold will be classified as abnormal.\n",
    "\n",
    "You can do binary search, linear search, random search, etc.\n",
    "\n",
    "<font size=\"-1\" color=\"gray\">(Remove this cell when delivering.)</font>"
   ]
  },
  {
   "cell_type": "markdown",
   "metadata": {},
   "source": [
    "<font size=\"+1\" color=\"red\">Replace this cell with your code to determine an optimal threshold.</font>"
   ]
  },
  {
   "cell_type": "markdown",
   "metadata": {},
   "source": [
    "Evaluate the threshold you have found. We know results will not be perfect as in this dataset there are some normal exams that look like abnormal and viceversa. If you use this threshold, indicate what is the estimated **false positive rate** (the probability of saying that a thyroid is abnormal when it is normal), and **false negative rate** (the probability of saying that a thyroid is normal when it is abnormal).\n",
    "\n",
    "<font size=\"-1\" color=\"gray\">(Remove this cell when delivering.)</font>"
   ]
  },
  {
   "cell_type": "markdown",
   "metadata": {},
   "source": [
    "<font size=\"+1\" color=\"red\">Replace this cell with your evaluation of the optimal threshold.</font>"
   ]
  },
  {
   "cell_type": "markdown",
   "metadata": {},
   "source": [
    "# DELIVER (individually)\n",
    "\n",
    "Remember to read the section on \"delivering your code\" in the [course evaluation guidelines](https://github.com/chatox/data-mining-course/blob/master/upf/upf-evaluation.md).\n",
    "\n",
    "Deliver a zip file containing:\n",
    "\n",
    "* This notebook\n",
    "\n",
    "## Extra points available\n",
    "\n",
    "For more learning and extra points, implement a faster method for finding_average_depths, indicating in your report that you implemented a faster method. Then, in the histograms do not sample but instead use all the elements in the dataset, i.e., remove `.sample(...)`.\n",
    "\n",
    "**Note:** if you go for the extra points, add ``<font size=\"+2\" color=\"blue\">Additional results: faster method to find all depths</font>`` at the top of your notebook.\n",
    "\n",
    "<font size=\"-1\" color=\"gray\">(Remove this cell when delivering.)</font>"
   ]
  },
  {
   "cell_type": "markdown",
   "metadata": {},
   "source": [
    "<font size=\"+2\" color=\"#003300\">I hereby declare that, except for the code provided by the course instructors, all of my code, report, and figures were produced by myself.</font>"
   ]
  }
 ],
 "metadata": {
  "kernelspec": {
   "display_name": "Python 3",
   "language": "python",
   "name": "python3"
  },
  "language_info": {
   "codemirror_mode": {
    "name": "ipython",
    "version": 3
   },
   "file_extension": ".py",
   "mimetype": "text/x-python",
   "name": "python",
   "nbconvert_exporter": "python",
   "pygments_lexer": "ipython3",
   "version": "3.10.12"
  }
 },
 "nbformat": 4,
 "nbformat_minor": 2
}
