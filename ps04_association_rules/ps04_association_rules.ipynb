{
 "cells": [
  {
   "cell_type": "markdown",
   "metadata": {},
   "source": [
    "# Practice Session 04: Basket analysis"
   ]
  },
  {
   "cell_type": "markdown",
   "metadata": {},
   "source": [
    "Association rule mining techniques are useful to analyze datasets consisting of transactions, in which each transaction is a collection of items.\n",
    "\n",
    "We will use a well-known dataset named [Instacart](https://www.kaggle.com/c/instacart-market-basket-analysis) containing more than 3 million orders of products through a grocery shopping app. You can find it in the `instacart/` directory of the practicum data files.\n",
    "\n",
    "<font size=\"-1\" color=\"gray\">(Remove this cell when delivering.)</font>"
   ]
  },
  {
   "cell_type": "markdown",
   "metadata": {},
   "source": [
    "Author: <font color=\"blue\">Luca Franceschi</font>\n",
    "\n",
    "E-mail: <font color=\"blue\">luca.franceschi01@estudiant.upf.edu</font>\n",
    "\n",
    "Date: <font color=\"blue\">?/10/2024</font>"
   ]
  },
  {
   "cell_type": "code",
   "execution_count": 1,
   "metadata": {},
   "outputs": [],
   "source": [
    "import numpy as np  \n",
    "import matplotlib.pyplot as plt\n",
    "import pandas as pd  \n",
    "import csv\n",
    "import gzip\n",
    "                     \n",
    "from apyori import apriori"
   ]
  },
  {
   "cell_type": "markdown",
   "metadata": {},
   "source": [
    "## 0. The Apriori Algorithm in a nutshell\n",
    "\n",
    "There are three major components of Apriori algorithm, which we describe below using as an example the case where transactions are purchase histories.\n",
    "\n",
    "**Support**: the number of transactions containing a particular item divided by total number of transactions:\n",
    "\n",
    "   *Support(A) = (Transactions containing (A))/(Total Transactions)*\n",
    "\n",
    "**Confidence**: normally indicates the likelihood that an item B is also bought if item A is bought. It can be calculated by finding the number of transactions where A and B are bought together, divided by total number of transactions where A is bought:\n",
    "\n",
    "   *Confidence(A→B) = (Transactions containing both (A and B))/(Transactions containing A)*\n",
    "\n",
    "**Lift**: the increase in the ratio of sale of B when A is sold. Lift(A –> B) can be calculated by dividing Confidence(A -> B) by Support(B):\n",
    "\n",
    "   *Lift(A→B) = (Confidence (A→B))/(Support (B))*\n",
    "   \n",
    "A Lift of 1 means there is no association between products A and B. Lift greater than 1.0 means products A and B are more likely to be bought together. Lift less than 1.0 indicates two products are unlikely to be bought together.\n",
    "\n",
    "The Apriori algorithm first finds itemsets having the desired level of support, and then within those itemsets tries to derive rules having the desired confidence and lift.\n",
    "\n",
    "<font size=\"-1\" color=\"gray\">(Remove this cell when delivering.)</font>"
   ]
  },
  {
   "cell_type": "markdown",
   "metadata": {},
   "source": [
    "# 1. Playing with apyori"
   ]
  },
  {
   "cell_type": "markdown",
   "metadata": {},
   "source": [
    "The [apyori library](https://pypi.org/project/apyori/) is an implementation of the Apriori algorithm. Its typical usage is to receive a list of transactions and then print the association rules it found.\n",
    "\n",
    "To use this library, we pass a list in which each element represents a transaction, for instance:\n",
    "\n",
    "```python\n",
    "transactions = [\n",
    "    ['Barbie', 'Nomadland', 'Everything,   Everywhere, all at Once'],\n",
    "    ['Barbie', 'Everything, Everywhere, all at Once'],\n",
    "    ['Nomadland', 'Everything, Everywhere, all at Once'],\n",
    "    ['Barbie', 'Nomadland', 'Soul', 'Everything, Everywhere, all at Once'],\n",
    "    ['Encanto', 'Nomadland'],\n",
    "    ['Barbie', 'Nomadland', 'Mad Max: Furiosa', 'Everything, Everywhere, all at Once'],\n",
    "    ['Barbie', 'Mad Max: Furiosa'],\n",
    "    ['Oppenheimer', 'Spiderman'],\n",
    "    ['Spiderman', 'Top Gun: Maverick', 'Mad Max: Furiosa'],\n",
    "    ['Spiderman', 'Top Gun: Maverick', 'Suicide Squad', 'Max Max: Furiosa'],\n",
    "    ['Suicide Squad', 'Top Gun: Maverick', 'Mad Max: Furiosa'],\n",
    "    ['Tenet', 'Everything, Everywhere, all at Once'],\n",
    "    ['Encanto', 'Soul'],\n",
    "    ['Soul', 'Spiderman'],\n",
    "    ['Encanto', 'Soul', 'Inside Out'],\n",
    "    ['Encanto', 'Inside Out'],\n",
    "    ['Inside Out', 'Spiderman'],\n",
    "    ['Nomadland', 'Soul'],\n",
    "    \n",
    "]\n",
    "results = list(apriori(transactions, min_support=0.1, min_confidence=0.9, min_lift=1.0))\n",
    "print_apyori_output(results)\n",
    "\n",
    "```\n",
    "\n",
    "The function below, which you can leave as-is, prints the output of the apyori library in a readable format. Use it to print the results of your association rules mining:\n",
    "\n",
    "```python\n",
    "print_apyori_output(results)\n",
    "```\n",
    "\n",
    "<font size=\"-1\" color=\"gray\">(Remove this cell when delivering.)</font>"
   ]
  },
  {
   "cell_type": "code",
   "execution_count": 2,
   "metadata": {},
   "outputs": [],
   "source": [
    "# LEAVE AS-IS\n",
    "\n",
    "def print_apyori_output (association_results, info=False, info_key=False):\n",
    "    for relation_record in association_results:\n",
    "        itemset = list(relation_record.items)\n",
    "        \n",
    "        # Consider only itemsets of two elements\n",
    "        if len(itemset) > 1: \n",
    "        \n",
    "            print(\"Rules involving itemset %s\" % itemset)\n",
    "            support = relation_record.support\n",
    "\n",
    "            for rules in relation_record.ordered_statistics:\n",
    "                antecedent = list(rules.items_base)\n",
    "                consequent = list(rules.items_add)\n",
    "                \n",
    "                if info_key:\n",
    "                    antecedent = [info.loc[x][info_key] for x in antecedent]\n",
    "                    consequent = [info.loc[x][info_key] for x in consequent]\n",
    "                \n",
    "                confidence = rules.confidence\n",
    "                lift = rules.lift\n",
    "\n",
    "                print(\"%s => %s (support=%.4f, confidence=%.2f, lift=%.2f)\" %\n",
    "                      (antecedent, consequent, support, confidence, lift))\n",
    "            print()"
   ]
  },
  {
   "cell_type": "markdown",
   "metadata": {},
   "source": [
    "Next, invent your own set of transactions. Be **creative** but **tasteful,** and think of a list of transactions that **makes sense,** e.g., involving food, music, books, products, places, apps, or other items. \n",
    "\n",
    "<font size=\"-1\" color=\"gray\">(Remove this cell when delivering.)</font>"
   ]
  },
  {
   "cell_type": "markdown",
   "metadata": {},
   "source": [
    "<font size=\"+1\" color=\"red\">Replace this cell with your own example of transactions (at least 20 transactions). Execute the apriori algorithm, in which you should obtain at least <strong>two</strong> rules of the form ['A', 'B'] => ['C'], i.e., at least two rules having a 2-itemset in the antecedent and a 1-itemset in the consequent. Modify the transactions until you obtain such rules.</font>"
   ]
  },
  {
   "cell_type": "code",
   "execution_count": 3,
   "metadata": {},
   "outputs": [
    {
     "name": "stdout",
     "output_type": "stream",
     "text": [
      "Rules involving itemset ['BBQ Chicken', 'White Pizza', 'Hawaiian']\n",
      "['BBQ Chicken', 'Hawaiian'] => ['White Pizza'] (support=0.1000, confidence=1.00, lift=3.33)\n",
      "['White Pizza', 'Hawaiian'] => ['BBQ Chicken'] (support=0.1000, confidence=1.00, lift=4.00)\n",
      "\n",
      "Rules involving itemset ['Margarita', 'Pesto', 'Buffalo Chicken']\n",
      "['Margarita', 'Buffalo Chicken'] => ['Pesto'] (support=0.1000, confidence=1.00, lift=4.00)\n",
      "['Margarita', 'Pesto'] => ['Buffalo Chicken'] (support=0.1000, confidence=1.00, lift=4.00)\n",
      "\n",
      "Rules involving itemset ['Four-Cheese', 'Pepperoni', 'Sicilian']\n",
      "['Four-Cheese', 'Pepperoni'] => ['Sicilian'] (support=0.1000, confidence=1.00, lift=2.86)\n",
      "\n",
      "Rules involving itemset ['Four-Cheese', 'White Pizza', 'Sicilian']\n",
      "['White Pizza', 'Sicilian'] => ['Four-Cheese'] (support=0.1000, confidence=1.00, lift=2.86)\n",
      "\n"
     ]
    }
   ],
   "source": [
    "transactions = [\n",
    "    ['Margarita', 'Pepperoni', 'Veggie Supreme', 'Spicy Sausage'],\n",
    "    ['BBQ Chicken', 'Meat Lovers'],\n",
    "    ['Pesto', 'Four-Cheese', 'Sicilian', 'Pepperoni'],\n",
    "    ['White Pizza', 'Buffalo Chicken', 'Hawaiian', 'Pesto', 'BBQ Chicken'],\n",
    "    ['Sicilian', 'Veggie Supreme', 'Pepperoni'],\n",
    "    ['Margarita', 'Spicy Sausage', 'Pesto', 'Buffalo Chicken'],\n",
    "    ['Meat Lovers', 'White Pizza', 'BBQ Chicken', 'Pepperoni'],\n",
    "    ['Sicilian', 'Four-Cheese', 'White Pizza', 'Pepperoni', 'Margarita'],\n",
    "    ['Hawaiian', 'Spicy Sausage', 'Four-Cheese'],\n",
    "    ['BBQ Chicken', 'Sicilian', 'Pepperoni'],\n",
    "    ['Veggie Supreme', 'Meat Lovers', 'Four-Cheese'],\n",
    "    ['White Pizza', 'Four-Cheese'],\n",
    "    ['Pepperoni', 'BBQ Chicken', 'White Pizza', 'Hawaiian'],\n",
    "    ['Margarita', 'Veggie Supreme', 'Buffalo Chicken', 'Pesto'],\n",
    "    ['Spicy Sausage', 'Meat Lovers', 'Four-Cheese'],\n",
    "    ['Veggie Supreme', 'Sicilian', 'Buffalo Chicken'],\n",
    "    ['Pesto', 'Hawaiian'],\n",
    "    ['Four-Cheese', 'Buffalo Chicken', 'Sicilian', 'White Pizza'],\n",
    "    ['Pepperoni', 'Hawaiian'],\n",
    "    ['Spicy Sausage', 'Sicilian', 'Veggie Supreme', 'Meat Lovers'],\n",
    "]\n",
    "\n",
    "results = list(apriori(transactions, min_support=0.1, min_confidence=0.9, min_lift=1.0))\n",
    "print_apyori_output(results)"
   ]
  },
  {
   "cell_type": "markdown",
   "metadata": {},
   "source": [
    "<font size=\"+1\" color=\"red\">Replace this cell with a markdown cell containing (1) a printout of the rules you have obtained, and (2) for each of those rules, indicate clearly how the support, confidence, and lift is calculated. Do not merely repeat the formula: indicate how each number is computed based on the transactions you provided, as if you were trying to verify that the numbers are correct.</font>"
   ]
  },
  {
   "cell_type": "markdown",
   "metadata": {},
   "source": [
    "We first have to construct the table containing the 1-itemsets along with their count and support (count / len(transactions)).\n",
    "\n",
    "| Pizza Type          | Count | Support |\n",
    "| ------------------- | ----- | ------- |\n",
    "| {Margarita}         | 4     | 0.2     |\n",
    "| {Pepperoni}         | 8     | 0.4     |\n",
    "| {Veggie Supreme}    | 6     | 0.3     |\n",
    "| {Spicy Sausage}     | 5     | 0.25    |\n",
    "| {BBQ Chicken}       | 5     | 0.25    |\n",
    "| {Meat Lovers}       | 5     | 0.25    |\n",
    "| {Pesto}             | 5     | 0.25    |\n",
    "| {Four-Cheese}       | 7     | 0.35    |\n",
    "| {Sicilian}          | 7     | 0.35    |\n",
    "| {White Pizza}       | 6     | 0.3     |\n",
    "| {Buffalo Chicken}   | 5     | 0.25    |\n",
    "| {Hawaiian}          | 5     | 0.25    |\n",
    "\n",
    "Now we have to discard the ones that have less than 0.1 support (none). After that, construct the same table but with 2-itemsets in a similar way (note that there are no entries with count=0, I skipped them):\n",
    "\n",
    "I am starting to believe that this exercise was supposed to have like 3 elements but I chose 12... It is getting out of hand... In my defense I will say that for 20 transactions only 3 elements seemed too little. The little support of 0.1 does not help, too.\n",
    "\n",
    "| Pizza Type                        | Count | Support |\n",
    "| --------------------------------- | ----- | ------- |\n",
    "| {Margarita, Pepperoni}            | 2     | 0.10    |\n",
    "| {Margarita, Veggie Supreme}       | 2     | 0.10    |\n",
    "| {Margarita, Spicy Sausage}        | 2     | 0.10    |\n",
    "| {Pepperoni, Veggie Supreme}       | 2     | 0.10    |\n",
    "| {Pepperoni, Spicy Sausage}        | 1     | 0.05    |\n",
    "| {Veggie Supreme, Spicy Sausage}   | 2     | 0.10    |\n",
    "| {BBQ Chicken, Meat Lovers}        | 2     | 0.10    |\n",
    "| {Pepperoni, Pesto}                | 1     | 0.05    |\n",
    "| {Pepperoni, Four-Cheese}          | 2     | 0.10    |\n",
    "| {Pepperoni, Sicilian}             | 4     | 0.20    |\n",
    "| {Pesto, Four-Cheese}              | 1     | 0.05    |\n",
    "| {Pesto, Sicilian}                 | 1     | 0.05    |\n",
    "| {Four-Cheese, Sicilian}           | 3     | 0.15    |\n",
    "| {BBQ Chicken, Pesto}              | 1     | 0.05    |\n",
    "| {BBQ Chicken, White Pizza}        | 3     | 0.15    |\n",
    "| {BBQ Chicken, Buffalo Chicken}    | 1     | 0.05    |\n",
    "| {BBQ Chicken, Hawaiian}           | 2     | 0.10    |\n",
    "| {Pesto, White Pizza}              | 1     | 0.05    |\n",
    "| {Pesto, Buffalo Chicken}          | 3     | 0.15    |\n",
    "| {Pesto, Hawaiian}                 | 2     | 0.10    |\n",
    "| {White Pizza, Buffalo Chicken}    | 2     | 0.10    |\n",
    "| {White Pizza, Hawaiian}           | 2     | 0.10    |\n",
    "| {Buffalo Chicken, Hawaiian}       | 1     | 0.05    |\n",
    "| {Veggie Supreme, Sicilian}        | 3     | 0.15    |\n",
    "| {Margarita, Pesto}                | 2     | 0.10    |\n",
    "| {Margarita, Buffalo Chicken}      | 2     | 0.10    |\n",
    "| {Spicy Sausage, Pesto}            | 1     | 0.05    |\n",
    "| {Spicy Sausage, Buffalo Chicken}  | 1     | 0.05    |\n",
    "| {Pepperoni, BBQ Chicken}          | 3     | 0.15    |\n",
    "| {Pepperoni, Meat Lovers}          | 1     | 0.05    |\n",
    "| {Pepperoni, White Pizza}          | 3     | 0.15    |\n",
    "| {Meat Lovers, White Pizza}        | 1     | 0.05    |\n",
    "| {Margarita, Four-Cheese}          | 1     | 0.05    |\n",
    "| {Margarita, Sicilian}             | 1     | 0.05    |\n",
    "| {Margarita, White Pizza}          | 1     | 0.05    |\n",
    "| {Four-Cheese, White Pizza}        | 3     | 0.15    |\n",
    "| {Sicilian, White Pizza}           | 2     | 0.10    |\n",
    "| {Spicy Sausage, Four-Cheese}      | 2     | 0.10    |\n",
    "| {Spicy Sausage, Hawaiian}         | 1     | 0.05    |\n",
    "| {Four-Cheese, Hawaiian}           | 1     | 0.05    |\n",
    "| {BBQ Chicken, Sicilian}           | 1     | 0.05    |\n",
    "| {Veggie Supreme, Meat Lovers}     | 2     | 0.10    |\n",
    "| {Veggie Supreme, Four-Cheese}     | 1     | 0.05    |\n",
    "| {Meat Lovers, Four-Cheese}        | 2     | 0.10    |\n",
    "| {Pepperoni, Hawaiian}             | 2     | 0.10    |\n",
    "| {Veggie Supreme, Pesto}           | 1     | 0.05    |\n",
    "| {Veggie Supreme, Buffalo Chicken} | 2     | 0.10    |\n",
    "| {Spicy Sausage, Meat Lovers}      | 2     | 0.10    |\n",
    "| {Sicilian, Buffalo Chicken}       | 2     | 0.10    |\n",
    "| {Four-Cheese, Buffalo Chicken}    | 1     | 0.05    |\n",
    "| {Spicy Sausage, Sicilian}         | 1     | 0.05    |\n",
    "| {Meat Lovers, Sicilian}           | 1     | 0.05    |\n",
    "\n",
    "Similarly, now we have to discard the ones that have less than 0.1 support, below the simplified table.\n",
    "\n",
    "| Pizza Type                        | Count | Support |\n",
    "| --------------------------------- | ----- | ------- |\n",
    "| {Margarita, Pepperoni}            | 2     | 0.10    |\n",
    "| {Margarita, Veggie Supreme}       | 2     | 0.10    |\n",
    "| {Margarita, Spicy Sausage}        | 2     | 0.10    |\n",
    "| {Pepperoni, Veggie Supreme}       | 2     | 0.10    |\n",
    "| {Veggie Supreme, Spicy Sausage}   | 2     | 0.10    |\n",
    "| {BBQ Chicken, Meat Lovers}        | 2     | 0.10    |\n",
    "| {Pepperoni, Four-Cheese}          | 2     | 0.10    |\n",
    "| {Pepperoni, Sicilian}             | 4     | 0.20    |\n",
    "| {Four-Cheese, Sicilian}           | 3     | 0.15    |\n",
    "| {BBQ Chicken, White Pizza}        | 3     | 0.15    |\n",
    "| {BBQ Chicken, Hawaiian}           | 2     | 0.10    |\n",
    "| {Pesto, Buffalo Chicken}          | 3     | 0.15    |\n",
    "| {Pesto, Hawaiian}                 | 2     | 0.10    |\n",
    "| {White Pizza, Buffalo Chicken}    | 2     | 0.10    |\n",
    "| {White Pizza, Hawaiian}           | 2     | 0.10    |\n",
    "| {Veggie Supreme, Sicilian}        | 3     | 0.15    |\n",
    "| {Margarita, Pesto}                | 2     | 0.10    |\n",
    "| {Margarita, Buffalo Chicken}      | 2     | 0.10    |\n",
    "| {Pepperoni, BBQ Chicken}          | 3     | 0.15    |\n",
    "| {Pepperoni, White Pizza}          | 3     | 0.15    |\n",
    "| {Four-Cheese, White Pizza}        | 3     | 0.15    |\n",
    "| {Sicilian, White Pizza}           | 2     | 0.10    |\n",
    "| {Spicy Sausage, Four-Cheese}      | 2     | 0.10    |\n",
    "| {Veggie Supreme, Meat Lovers}     | 2     | 0.10    |\n",
    "| {Meat Lovers, Four-Cheese}        | 2     | 0.10    |\n",
    "| {Pepperoni, Hawaiian}             | 2     | 0.10    |\n",
    "| {Veggie Supreme, Buffalo Chicken} | 2     | 0.10    |\n",
    "| {Spicy Sausage, Meat Lovers}      | 2     | 0.10    |\n",
    "| {Sicilian, Buffalo Chicken}       | 2     | 0.10    |\n",
    "\n",
    "Build a table and simplify again,  for 3-itemsets\n",
    "\n",
    "| Pizza Type                            | Count | Support |\n",
    "| ------------------------------------- | ----- | ------- |\n",
    "| {Pepperoni, Four-Cheese, Sicilian}    | 2     | 0.10    |\n",
    "| {BBQ Chicken, White Pizza, Hawaiian}  | 2     | 0.10    |\n",
    "| {Margarita, Pesto, Buffalo Chicken}   | 2     | 0.10    |\n",
    "| {Pepperoni, BBQ Chicken, White Pizza} | 2     | 0.10    |\n",
    "| {Four-Cheese, Sicilian, White Pizza}  | 2     | 0.10    |\n",
    "\n",
    "Now calculate the confidence and lift for all the rules remaining in the simplified 3-itemsets. The confidence is the 3-itemset support divided by the antecedent support, and the lift is the 3-itemset support divided by the multiplication of the antecedent and consequent support.\n",
    "\n",
    "| Pizza Type                               | 3-itemset Support | Antecedent support | Consequent support | Confidence  | Lift |\n",
    "| ---------------------------------------- | ----------------- | ------------------ | ------------------ | ----------- | ---- |\n",
    "| {Pepperoni, Four-Cheese} → {Sicilian}    | 0.10              | 0.10               | 0.35               | 1.00        | 2.86 |\n",
    "| {Pepperoni, Sicilian} → {Four-Cheese}    | 0.10              | 0.20               | 0.35               | 0.50        | 1.43 |\n",
    "| {Four-Cheese, Sicilian} → {Pepperoni}    | 0.10              | 0.15               | 0.40               | 0.67        | 1.67 |\n",
    "| {BBQ Chicken, White Pizza} → {Hawaiian}  | 0.10              | 0.15               | 0.25               | 0.67        | 2.67 |\n",
    "| {BBQ Chicken, Hawaiian} → {White Pizza}  | 0.10              | 0.10               | 0.30               | 1.00        | 3.33 |\n",
    "| {White Pizza, Hawaiian} → {BBQ Chicken}  | 0.10              | 0.10               | 0.25               | 1.00        | 4.00 |\n",
    "| {Margarita, Pesto} → {Buffalo Chicken}   | 0.10              | 0.10               | 0.25               | 1.00        | 4.00 |\n",
    "| {Margarita, Buffalo Chicken} → {Pesto}   | 0.10              | 0.10               | 0.25               | 1.00        | 4.00 |\n",
    "| {Pesto, Buffalo Chicken} → {Margarita}   | 0.10              | 0.15               | 0.20               | 0.67        | 3.33 |\n",
    "| {Pepperoni, BBQ Chicken} → {White Pizza} | 0.10              | 0.15               | 0.30               | 0.67        | 2.22 |\n",
    "| {Pepperoni, White Pizza} → {BBQ Chicken} | 0.10              | 0.15               | 0.25               | 0.67        | 2.67 |\n",
    "| {BBQ Chicken, White Pizza} → {Pepperoni} | 0.10              | 0.15               | 0.40               | 0.67        | 1.67 |\n",
    "| {Four-Cheese, Sicilian} → {White Pizza}  | 0.10              | 0.15               | 0.30               | 0.67        | 2.22 |\n",
    "| {Four-Cheese, White Pizza} → {Sicilian}  | 0.10              | 0.15               | 0.35               | 0.67        | 1.90 |\n",
    "| {Sicilian, White Pizza} → {Four-Cheese}  | 0.10              | 0.10               | 0.35               | 1.00        | 2.86 |\n",
    "\n",
    "We can now simplify the table removing all the entries that have confidence smaller than 0.9 or lift smaller than 1.0:\n",
    "\n",
    "| Pizza Type                               | 3-itemset Support | Antecedent support | Consequent support | Confidence  | Lift |\n",
    "| ---------------------------------------- | ----------------- | ------------------ | ------------------ | ----------- | ---- |\n",
    "| {Pepperoni, Four-Cheese} → {Sicilian}    | 0.10              | 0.10               | 0.35               | 1.00        | 2.86 |\n",
    "| {BBQ Chicken, Hawaiian} → {White Pizza}  | 0.10              | 0.10               | 0.30               | 1.00        | 3.33 |\n",
    "| {White Pizza, Hawaiian} → {BBQ Chicken}  | 0.10              | 0.10               | 0.25               | 1.00        | 4.00 |\n",
    "| {Margarita, Pesto} → {Buffalo Chicken}   | 0.10              | 0.10               | 0.25               | 1.00        | 4.00 |\n",
    "| {Margarita, Buffalo Chicken} → {Pesto}   | 0.10              | 0.10               | 0.25               | 1.00        | 4.00 |\n",
    "| {Sicilian, White Pizza} → {Four-Cheese}  | 0.10              | 0.10               | 0.35               | 1.00        | 2.86 |"
   ]
  },
  {
   "cell_type": "markdown",
   "metadata": {},
   "source": [
    "# 2. Load and prepare the shopping baskets"
   ]
  },
  {
   "cell_type": "markdown",
   "metadata": {},
   "source": [
    "The following code, which you should leave as-is, loads the information about products into a dataframe indexed by product id.\n",
    "\n",
    "<font size=\"-1\" color=\"gray\">(Remove this cell when delivering.)</font>"
   ]
  },
  {
   "cell_type": "code",
   "execution_count": 4,
   "metadata": {},
   "outputs": [
    {
     "data": {
      "text/html": [
       "<div>\n",
       "<style scoped>\n",
       "    .dataframe tbody tr th:only-of-type {\n",
       "        vertical-align: middle;\n",
       "    }\n",
       "\n",
       "    .dataframe tbody tr th {\n",
       "        vertical-align: top;\n",
       "    }\n",
       "\n",
       "    .dataframe thead th {\n",
       "        text-align: right;\n",
       "    }\n",
       "</style>\n",
       "<table border=\"1\" class=\"dataframe\">\n",
       "  <thead>\n",
       "    <tr style=\"text-align: right;\">\n",
       "      <th></th>\n",
       "      <th>product_name</th>\n",
       "      <th>department_id</th>\n",
       "    </tr>\n",
       "    <tr>\n",
       "      <th>product_id</th>\n",
       "      <th></th>\n",
       "      <th></th>\n",
       "    </tr>\n",
       "  </thead>\n",
       "  <tbody>\n",
       "    <tr>\n",
       "      <th>1</th>\n",
       "      <td>Chocolate Sandwich Cookies</td>\n",
       "      <td>19</td>\n",
       "    </tr>\n",
       "    <tr>\n",
       "      <th>2</th>\n",
       "      <td>All-Seasons Salt</td>\n",
       "      <td>13</td>\n",
       "    </tr>\n",
       "    <tr>\n",
       "      <th>3</th>\n",
       "      <td>Robust Golden Unsweetened Oolong Tea</td>\n",
       "      <td>7</td>\n",
       "    </tr>\n",
       "    <tr>\n",
       "      <th>4</th>\n",
       "      <td>Smart Ones Classic Favorites Mini Rigatoni Wit...</td>\n",
       "      <td>1</td>\n",
       "    </tr>\n",
       "    <tr>\n",
       "      <th>5</th>\n",
       "      <td>Green Chile Anytime Sauce</td>\n",
       "      <td>13</td>\n",
       "    </tr>\n",
       "    <tr>\n",
       "      <th>...</th>\n",
       "      <td>...</td>\n",
       "      <td>...</td>\n",
       "    </tr>\n",
       "    <tr>\n",
       "      <th>96</th>\n",
       "      <td>Sprinklez Confetti Fun Organic Toppings</td>\n",
       "      <td>13</td>\n",
       "    </tr>\n",
       "    <tr>\n",
       "      <th>97</th>\n",
       "      <td>Organic Chamomile Lemon Tea</td>\n",
       "      <td>7</td>\n",
       "    </tr>\n",
       "    <tr>\n",
       "      <th>98</th>\n",
       "      <td>2% Yellow American Cheese</td>\n",
       "      <td>16</td>\n",
       "    </tr>\n",
       "    <tr>\n",
       "      <th>99</th>\n",
       "      <td>Local Living Butter Lettuce</td>\n",
       "      <td>4</td>\n",
       "    </tr>\n",
       "    <tr>\n",
       "      <th>100</th>\n",
       "      <td>Peanut Butter &amp; Strawberry Jam Sandwich</td>\n",
       "      <td>1</td>\n",
       "    </tr>\n",
       "  </tbody>\n",
       "</table>\n",
       "<p>100 rows × 2 columns</p>\n",
       "</div>"
      ],
      "text/plain": [
       "                                                 product_name  department_id\n",
       "product_id                                                                  \n",
       "1                                  Chocolate Sandwich Cookies             19\n",
       "2                                            All-Seasons Salt             13\n",
       "3                        Robust Golden Unsweetened Oolong Tea              7\n",
       "4           Smart Ones Classic Favorites Mini Rigatoni Wit...              1\n",
       "5                                   Green Chile Anytime Sauce             13\n",
       "...                                                       ...            ...\n",
       "96                    Sprinklez Confetti Fun Organic Toppings             13\n",
       "97                                Organic Chamomile Lemon Tea              7\n",
       "98                                  2% Yellow American Cheese             16\n",
       "99                                Local Living Butter Lettuce              4\n",
       "100                   Peanut Butter & Strawberry Jam Sandwich              1\n",
       "\n",
       "[100 rows x 2 columns]"
      ]
     },
     "execution_count": 4,
     "metadata": {},
     "output_type": "execute_result"
    }
   ],
   "source": [
    "# LEAVE AS-IS\n",
    "\n",
    "# File names\n",
    "INPUT_PRODUCTS = \"instacart-products.csv\"\n",
    "INPUT_TRANSACTIONS = \"instacart-transactions.csv.gz\"\n",
    "\n",
    "# Read into a dataframe\n",
    "products = pd.read_csv(INPUT_PRODUCTS, delimiter=\",\")\n",
    "\n",
    "# Set product_id as index, and drop column aisle_id\n",
    "products = products.set_index('product_id').drop(columns=['aisle_id'])\n",
    "\n",
    "products.head(100)"
   ]
  },
  {
   "cell_type": "markdown",
   "metadata": {},
   "source": [
    "## 2.1. Select by department"
   ]
  },
  {
   "cell_type": "markdown",
   "metadata": {},
   "source": [
    "As this file is large and complex, we will focus on one or two departments and try to get some conclusions about the products in those departments. The following cell, which you should leave as-is, list some department names.\n",
    "\n",
    "<font size=\"-1\" color=\"gray\">(Remove this cell when delivering.)</font>"
   ]
  },
  {
   "cell_type": "code",
   "execution_count": 5,
   "metadata": {},
   "outputs": [],
   "source": [
    "# LEAVE AS-IS\n",
    "\n",
    "DEPT_BAKERY = 3\n",
    "DEPT_VEGGIES = 4\n",
    "DEPT_ALCOHOL = 5\n",
    "DEPT_WORLD = 6\n",
    "DEPT_DRINKS = 7\n",
    "DEPT_PETS = 8\n",
    "DEPT_PHARMACY = 11\n",
    "DEPT_CLEANING = 17\n",
    "DEPT_BABIES = 18"
   ]
  },
  {
   "cell_type": "markdown",
   "metadata": {},
   "source": [
    "Write code that can select a list of products from a set of departments. Do this with a function named `select_from_departments` that takes as input:\n",
    "\n",
    "* A dataframe containing product information, which will be the `products` dataframe we just loaded.\n",
    "* A list of product ids\n",
    "* A list of department ids\n",
    "\n",
    "It should return a list containing only the product ids that belong to one of the listed departments. This may return an empty list if no product belongs to any of the specified departments.\n",
    "\n",
    "Given that the products dataframe is indexed by *product_id*, if you want to obtain the *department_id* of product *product_id*, use:\n",
    "\n",
    "```python\n",
    "products.loc[product_id].department_id\n",
    "```\n",
    "\n",
    "Note that *product_id* must be an integer.\n",
    "\n",
    "<font size=\"-1\" color=\"gray\">(Remove this cell when delivering.)</font>"
   ]
  },
  {
   "cell_type": "markdown",
   "metadata": {},
   "source": [
    "<font size=\"+1\" color=\"red\">Replace this cell with your code for *select_from_departments*.</font>"
   ]
  },
  {
   "cell_type": "code",
   "execution_count": 74,
   "metadata": {},
   "outputs": [],
   "source": [
    "def select_from_departments(df:pd.DataFrame, prod_IDs:list, dep_IDs:list=None):\n",
    "    prod_IDs = np.array(prod_IDs) - 1\n",
    "    df2 = df.iloc[prod_IDs]\n",
    "    if dep_IDs != None:\n",
    "        return df2[df2.department_id.isin(dep_IDs)]\n",
    "    return df2"
   ]
  },
  {
   "cell_type": "markdown",
   "metadata": {},
   "source": [
    "Test your function by passing it a list of products and ensuring it selects only the products in the 1-2 departments you have selected. To obtain test cases you can open the products file with a spreadsheet program.\n",
    "\n",
    "Each test case should print:\n",
    "\n",
    "* The product name and department id of each item in the input list\n",
    "* The product name and department id of each item in the output list\n",
    "\n",
    "For instance, suppose a test case is `[22, 26, 45, 54, 57, 71, 111, 112]` and we select products from DEPT_BAKERY and DEPT_CLEANING, a test case run should print something similar to this:\n",
    "\n",
    "```\n",
    "Test case:\n",
    "[22, 26, 45, 54, 57, 71, 111, 112]\n",
    "\n",
    "Input products:\n",
    "22 Fresh Breath Oral Rinse Mild Mint (dept 11)\n",
    "26 Fancy Feast Trout Feast Flaked Wet Cat Food (dept 8)\n",
    "45 European Cucumber (dept 4)\n",
    "54 24/7 Performance Cat Litter (dept 8)\n",
    "57 Flat Toothpicks (dept 17)\n",
    "71 Ultra 7 Inch Polypropylene Traditional Plates (dept 17)\n",
    "111 Fabric Softener, Geranium Scent (dept 17)\n",
    "112 Hot Tomatillo Salsa (dept 13)\n",
    "\n",
    "Selected products:\n",
    "57 Flat Toothpicks (dept 17)\n",
    "71 Ultra 7 Inch Polypropylene Traditional Plates (dept 17)\n",
    "111 Fabric Softener, Geranium Scent (dept 17)\n",
    "```\n",
    "\n",
    "Do not replicate code that can be easily factored in a function in your answer.\n",
    "\n",
    "<font size=\"-1\" color=\"gray\">(Remove this cell when delivering.)</font>"
   ]
  },
  {
   "cell_type": "markdown",
   "metadata": {},
   "source": [
    "<font size=\"+1\" color=\"red\">Replace this cell with code to test your function with three different test cases. Each test case is a list of items and a list of 1, 2, or 3 departments.</font>"
   ]
  },
  {
   "cell_type": "code",
   "execution_count": 82,
   "metadata": {},
   "outputs": [
    {
     "name": "stdout",
     "output_type": "stream",
     "text": [
      "Test case: \n",
      "Products: [22, 26, 45, 54, 57, 71, 111, 112]\n",
      "Departments:[3, 17]\n",
      "\n",
      "Input products:\n",
      "(id=  22) Fresh Breath Oral Rinse Mild Mint (dept 11)\n",
      "(id=  26) Fancy Feast Trout Feast Flaked Wet Cat Food (dept 8)\n",
      "(id=  45) European Cucumber (dept 4)\n",
      "(id=  54) 24/7 Performance Cat Litter (dept 8)\n",
      "(id=  57) Flat Toothpicks (dept 17)\n",
      "(id=  71) Ultra 7 Inch Polypropylene Traditional Plates (dept 17)\n",
      "(id= 111) Fabric Softener, Geranium Scent (dept 17)\n",
      "(id= 112) Hot Tomatillo Salsa (dept 13)\n",
      "\n",
      "Output products:\n",
      "(id=  57) Flat Toothpicks (dept 17)\n",
      "(id=  71) Ultra 7 Inch Polypropylene Traditional Plates (dept 17)\n",
      "(id= 111) Fabric Softener, Geranium Scent (dept 17)\n"
     ]
    }
   ],
   "source": [
    "def show_output(df:pd.DataFrame):\n",
    "    for i, row in df.iterrows():\n",
    "        print(f'(id={i:4}) {row.product_name} (dept {row.department_id})')\n",
    "\n",
    "def test_select(df:pd.DataFrame, prod_IDs:list, dep_IDs:list):\n",
    "    print(f'Test case: \\nProducts: {prod_IDs}\\nDepartments:{dep_IDs}')\n",
    "    \n",
    "    print(f'\\nInput products:')\n",
    "    input_prods = select_from_departments(df, prod_IDs)\n",
    "    show_output(input_prods)\n",
    "    \n",
    "    print(f'\\nOutput products:')\n",
    "    output_prods = select_from_departments(df, prod_IDs, dep_IDs)\n",
    "    show_output(output_prods)"
   ]
  },
  {
   "cell_type": "code",
   "execution_count": 107,
   "metadata": {},
   "outputs": [
    {
     "name": "stdout",
     "output_type": "stream",
     "text": [
      "======================================================\n",
      "Test case: \n",
      "Products: [22, 26, 45, 54, 57, 71, 111, 112]\n",
      "Departments:[3, 17]\n",
      "\n",
      "Input products:\n",
      "(id=  22) Fresh Breath Oral Rinse Mild Mint (dept 11)\n",
      "(id=  26) Fancy Feast Trout Feast Flaked Wet Cat Food (dept 8)\n",
      "(id=  45) European Cucumber (dept 4)\n",
      "(id=  54) 24/7 Performance Cat Litter (dept 8)\n",
      "(id=  57) Flat Toothpicks (dept 17)\n",
      "(id=  71) Ultra 7 Inch Polypropylene Traditional Plates (dept 17)\n",
      "(id= 111) Fabric Softener, Geranium Scent (dept 17)\n",
      "(id= 112) Hot Tomatillo Salsa (dept 13)\n",
      "\n",
      "Output products:\n",
      "(id=  57) Flat Toothpicks (dept 17)\n",
      "(id=  71) Ultra 7 Inch Polypropylene Traditional Plates (dept 17)\n",
      "(id= 111) Fabric Softener, Geranium Scent (dept 17)\n",
      "======================================================\n",
      "Test case: \n",
      "Products: [2158, 5474, 6632, 5828, 4794, 7129, 3125, 1685]\n",
      "Departments:[4]\n",
      "\n",
      "Input products:\n",
      "(id=2158) #2 Cone White Coffee Filters (dept 7)\n",
      "(id=5474) Crackers, Puffed, Lightly Salted Corn (dept 19)\n",
      "(id=6632) Brown Rice Salmon Avocado Roll (dept 20)\n",
      "(id=5828) Powder Fresh Roll-On Antiperspirant Deodorant (dept 11)\n",
      "(id=4794) Pure Vegetable Oil Soap, Original Wood Cleaner, Concentrated (dept 17)\n",
      "(id=7129) Thyme Automatic Dishwashing Detergent Pods Thyme & Fig 24 loads (dept 17)\n",
      "(id=3125) Raw Pistachios (dept 2)\n",
      "(id=1685) Clean Care 1-Ply Double Rolls Toilet Paper (dept 17)\n",
      "\n",
      "Output products:\n",
      "======================================================\n",
      "Test case: \n",
      "Products: [786, 7049, 6068, 4458, 1150, 902, 7349, 2028]\n",
      "Departments:[5, 7, 18]\n",
      "\n",
      "Input products:\n",
      "(id= 786) Thick Gel Toilet Bowl Cleaner (dept 17)\n",
      "(id=7049) Nutrient Enhanced Water (dept 7)\n",
      "(id=6068) Black Pepper, Fine Grind (dept 13)\n",
      "(id=4458) Hot & Fit Mayan Blend Cereal (dept 14)\n",
      "(id=1150) AFC Sushi Spicy Salmon Roll Prepared In Store, Ready To Eat (dept 20)\n",
      "(id= 902) Baked Rice Crisps, Sour Cream & Wasabi, Medium (dept 19)\n",
      "(id=7349) Bread, Sliced, Extra Sourdough (dept 3)\n",
      "(id=2028) Aspirin 325mg (dept 11)\n",
      "\n",
      "Output products:\n",
      "(id=7049) Nutrient Enhanced Water (dept 7)\n"
     ]
    }
   ],
   "source": [
    "tests = [\n",
    "    [[22, 26, 45, 54, 57, 71, 111, 112], [DEPT_BAKERY, DEPT_CLEANING]],\n",
    "    [[2158, 5474, 6632, 5828, 4794, 7129, 3125, 1685], [DEPT_VEGGIES]],\n",
    "    [[786, 7049, 6068, 4458, 1150, 902, 7349, 2028], [DEPT_ALCOHOL, DEPT_DRINKS, DEPT_BABIES]]\n",
    "]\n",
    "\n",
    "for t in tests:\n",
    "    print('======================================================')\n",
    "    test_select(products, t[0], t[1])"
   ]
  },
  {
   "cell_type": "markdown",
   "metadata": {},
   "source": [
    "## 2.2. Read and filter transactions"
   ]
  },
  {
   "cell_type": "markdown",
   "metadata": {},
   "source": [
    "The transactions file is a compressed file containing one row per transaction. Each transaction is a comma-separated list of *product_id*. The following code iterates through this file:\n",
    "\n",
    "```python\n",
    "# Open a compressed file\n",
    "with gzip.open(INPUT_TRANSACTIONS, \"rt\") as inputfile:\n",
    "    \n",
    "    # Create a CSV reader\n",
    "    reader = csv.reader(inputfile, delimiter=\",\")\n",
    "    \n",
    "    # Iterate through the CSV file\n",
    "    for row in reader:\n",
    "        \n",
    "        # Convert to integers\n",
    "        items = [int(x) for x in row]\n",
    "```\n",
    "\n",
    "Read the transactions, filtering the items by department. Stop reading (`break`) after you have stored 5000 transactions into an array named `transactions`. Every 1000 transactions read, print the number of transactions read and the number of transactions stored.\n",
    "\n",
    "<font size=\"-1\" color=\"gray\">(Remove this cell when delivering.)</font>"
   ]
  },
  {
   "cell_type": "markdown",
   "metadata": {},
   "source": [
    "<font size=\"+1\" color=\"red\">Replace this cell with your code to read transactions, keeping only items in DEPT_PHARMACY. Remember to stop after storing 5000 of the transactions read.</font>"
   ]
  },
  {
   "cell_type": "code",
   "execution_count": 136,
   "metadata": {},
   "outputs": [],
   "source": [
    "def extract_transactions(filename, dept_IDs):\n",
    "    transactions = []\n",
    "\n",
    "    # Open a compressed file\n",
    "    with gzip.open(filename, \"rt\") as inputfile:\n",
    "        \n",
    "        # Create a CSV reader\n",
    "        reader = csv.reader(inputfile, delimiter=\",\")\n",
    "        \n",
    "        # Iterate through the CSV file\n",
    "        for row in reader:\n",
    "            \n",
    "            # Convert to integers\n",
    "            items = [int(x) for x in row]\n",
    "            \n",
    "            index = select_from_departments(products, items, dept_IDs).index.to_list()\n",
    "            if len(index) != 0:\n",
    "                transactions.append(index)\n",
    "\n",
    "            if len(transactions)>5000:\n",
    "                break\n",
    "    \n",
    "    return transactions"
   ]
  },
  {
   "cell_type": "code",
   "execution_count": 137,
   "metadata": {},
   "outputs": [],
   "source": [
    "transactions = extract_transactions(INPUT_TRANSACTIONS, [DEPT_PHARMACY])"
   ]
  },
  {
   "cell_type": "markdown",
   "metadata": {},
   "source": [
    "## 2.3. Extract association rules and comment on them"
   ]
  },
  {
   "cell_type": "markdown",
   "metadata": {},
   "source": [
    "You are now ready to run the association rules mining algorithm over the selected transactions:\n",
    "\n",
    "```python\n",
    "results = list(apriori(transactions, min_support=..., min_confidence=..., min_lift=...))\n",
    "print_apyori_output(results, products, 'product_name')\n",
    "```\n",
    "\n",
    "*Tip:* if you set `min_support` to a very small value, your notebook will probably hang.\n",
    "\n",
    "<font size=\"-1\" color=\"gray\">(Remove this cell when delivering.)</font>"
   ]
  },
  {
   "cell_type": "markdown",
   "metadata": {},
   "source": [
    "<font size=\"+1\" color=\"red\">Replace this cell with your code to extract association rules from the read transactions.</font>"
   ]
  },
  {
   "cell_type": "code",
   "execution_count": 138,
   "metadata": {},
   "outputs": [
    {
     "name": "stdout",
     "output_type": "stream",
     "text": [
      "Rules involving itemset [5584, 4898]\n",
      "['Vitamin C 250 mg 60 Gummies'] => ['Vitamin D3 Gummies, 1000 IU, Great Wild Berry Taste!'] (support=0.0004, confidence=1.00, lift=2500.50)\n",
      "['Vitamin D3 Gummies, 1000 IU, Great Wild Berry Taste!'] => ['Vitamin C 250 mg 60 Gummies'] (support=0.0004, confidence=1.00, lift=2500.50)\n",
      "\n",
      "Rules involving itemset [23425, 5019]\n",
      "['Nourish & Moisturize Shampoo'] => ['Nourish+ Moisturize Conditioner'] (support=0.0006, confidence=1.00, lift=1250.25)\n",
      "\n",
      "Rules involving itemset [11007, 5663]\n",
      "['Chocolate Energy Supplement'] => ['Chocolate Calming Supplement'] (support=0.0006, confidence=1.00, lift=1250.25)\n",
      "\n",
      "Rules involving itemset [10979, 6876]\n",
      "['Sheer Blonde Highlight Activating Conditioner'] => ['Sheer Blonde Highlight Activating Brightening Shampoo'] (support=0.0004, confidence=1.00, lift=1250.25)\n",
      "\n",
      "Rules involving itemset [13899, 9951]\n",
      "['Outlast Long Lasting Mint Mouthwash'] => ['Mint Glide Floss Picks'] (support=0.0004, confidence=1.00, lift=555.67)\n",
      "\n",
      "Rules involving itemset [17472, 15282]\n",
      "['Juicy Green Apple Shampoo'] => ['Juicy Green Apple Conditioner'] (support=0.0004, confidence=1.00, lift=1667.00)\n",
      "\n",
      "Rules involving itemset [11824, 11007, 5663]\n",
      "['Chocolate Sleep Supplement', 'Chocolate Energy Supplement'] => ['Chocolate Calming Supplement'] (support=0.0004, confidence=1.00, lift=1250.25)\n",
      "['Chocolate Sleep Supplement', 'Chocolate Calming Supplement'] => ['Chocolate Energy Supplement'] (support=0.0004, confidence=1.00, lift=1667.00)\n",
      "\n",
      "Rules involving itemset [7976, 16122, 44138]\n",
      "['One Plant-Based Chocolate Flavor Nutritional Shake Drink Mix', 'Plant-Based Vanilla Chai Flavor Nutritional Shake Drink Mix'] => ['All In One Coconut Almond Packet'] (support=0.0004, confidence=1.00, lift=833.50)\n",
      "\n"
     ]
    }
   ],
   "source": [
    "results = list(apriori(transactions, min_support=0.0002, min_confidence=0.9, min_lift=1.0))\n",
    "print_apyori_output(results, products, 'product_name')"
   ]
  },
  {
   "cell_type": "markdown",
   "metadata": {},
   "source": [
    "<font size=\"+1\" color=\"red\">Replace this cell with a brief commentary on what you would recommend to the shopping app considering the extracted association rules.</font>"
   ]
  },
  {
   "cell_type": "markdown",
   "metadata": {},
   "source": [
    "# TODO"
   ]
  },
  {
   "cell_type": "markdown",
   "metadata": {},
   "source": [
    "## 2.4. Extract association rules and comment on them (other departments)"
   ]
  },
  {
   "cell_type": "markdown",
   "metadata": {},
   "source": [
    "<font size=\"+1\" color=\"red\">Replace this cell with code to select a different set of departments (at least two, not DEPT_PHARMACY) and extract transactions again. Avoid replicating code when possible.</font>"
   ]
  },
  {
   "cell_type": "code",
   "execution_count": 146,
   "metadata": {},
   "outputs": [
    {
     "name": "stdout",
     "output_type": "stream",
     "text": [
      "Rules involving itemset [31747, 32748]\n",
      "['Classic Cod Sole & Shrimp Feast Cat Food'] => ['Classic Salmon & Shrimp Feast Cat Food'] (support=0.0010, confidence=1.00, lift=833.50)\n",
      "\n",
      "Rules involving itemset [31747, 24508, 32748]\n",
      "['Classic Salmon & Shrimp Feast Cat Food', 'Classic Ocean Whitefish & Tuna Feast Cat Food'] => ['Classic Cod Sole & Shrimp Feast Cat Food'] (support=0.0008, confidence=1.00, lift=1000.20)\n",
      "['Classic Ocean Whitefish & Tuna Feast Cat Food', 'Classic Cod Sole & Shrimp Feast Cat Food'] => ['Classic Salmon & Shrimp Feast Cat Food'] (support=0.0008, confidence=1.00, lift=833.50)\n",
      "\n"
     ]
    }
   ],
   "source": [
    "transactions = extract_transactions(INPUT_TRANSACTIONS, [DEPT_CLEANING, DEPT_PETS])\n",
    "results = list(apriori(transactions, min_support=0.0006, min_confidence=0.9, min_lift=1.0))\n",
    "print_apyori_output(results, products, 'product_name')"
   ]
  },
  {
   "cell_type": "markdown",
   "metadata": {},
   "source": [
    "<font size=\"+1\" color=\"red\">Replace this cell with your commentary on the obtained rules.</font>"
   ]
  },
  {
   "cell_type": "markdown",
   "metadata": {},
   "source": [
    "# DELIVER (individually)\n",
    "\n",
    "Remember to read the section on \"delivering your code\" in the [course evaluation guidelines](https://github.com/chatox/data-mining-course/blob/master/upf/upf-evaluation.md).\n",
    "\n",
    "Deliver a zip file containing:\n",
    "\n",
    "* This notebook\n",
    "\n",
    "## Extra points available\n",
    "\n",
    "For more learning and extra points, copy the function `print_apyori_output` to `print_apyori_output_diff_dept` and modify it to filter the obtained association rules so that you print only the ones involving products in different departments.\n",
    "\n",
    "To be precise, this means rules in which there is at least a product in the *consequence* that belongs to a department that none of the products in the *antecedent* belongs to. Experiment with different combinations of departments, and try to discover interesting groups of products in different departments that are related to each other.\n",
    "\n",
    "**Note:** if you go for the extra points, add ``<font size=\"+2\" color=\"blue\">Additional results: experiments on cross-department association rules</font>`` at the top of your notebook.\n",
    "\n",
    "<font size=\"-1\" color=\"gray\">(Remove this cell when delivering.)</font>"
   ]
  },
  {
   "cell_type": "markdown",
   "metadata": {},
   "source": [
    "<font size=\"+2\" color=\"#003300\">I hereby declare that, except for the code provided by the course instructors, all of my code, report, and figures were produced by myself.</font>"
   ]
  }
 ],
 "metadata": {
  "kernelspec": {
   "display_name": ".venv",
   "language": "python",
   "name": "python3"
  },
  "language_info": {
   "codemirror_mode": {
    "name": "ipython",
    "version": 3
   },
   "file_extension": ".py",
   "mimetype": "text/x-python",
   "name": "python",
   "nbconvert_exporter": "python",
   "pygments_lexer": "ipython3",
   "version": "3.12.6"
  }
 },
 "nbformat": 4,
 "nbformat_minor": 2
}
