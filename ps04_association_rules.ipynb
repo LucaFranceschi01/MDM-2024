{
 "cells": [
  {
   "cell_type": "markdown",
   "metadata": {},
   "source": [
    "# Practice Session 04: Basket analysis"
   ]
  },
  {
   "cell_type": "markdown",
   "metadata": {},
   "source": [
    "Association rule mining techniques are useful to analyze datasets consisting of transactions, in which each transaction is a collection of items.\n",
    "\n",
    "We will use a well-known dataset named [Instacart](https://www.kaggle.com/c/instacart-market-basket-analysis) containing more than 3 million orders of products through a grocery shopping app. You can find it in the `instacart/` directory of the practicum data files.\n",
    "\n",
    "<font size=\"-1\" color=\"gray\">(Remove this cell when delivering.)</font>"
   ]
  },
  {
   "cell_type": "markdown",
   "metadata": {},
   "source": [
    "Author: <font color=\"blue\">Your name here</font>\n",
    "\n",
    "E-mail: <font color=\"blue\">Your e-mail here</font>\n",
    "\n",
    "Date: <font color=\"blue\">The current date here</font>"
   ]
  },
  {
   "cell_type": "code",
   "execution_count": 1,
   "metadata": {},
   "outputs": [
    {
     "ename": "ModuleNotFoundError",
     "evalue": "No module named 'apyori'",
     "output_type": "error",
     "traceback": [
      "\u001b[0;31m---------------------------------------------------------------------------\u001b[0m",
      "\u001b[0;31mModuleNotFoundError\u001b[0m                       Traceback (most recent call last)",
      "Cell \u001b[0;32mIn[1], line 7\u001b[0m\n\u001b[1;32m      4\u001b[0m \u001b[38;5;28;01mimport\u001b[39;00m \u001b[38;5;21;01mcsv\u001b[39;00m\n\u001b[1;32m      5\u001b[0m \u001b[38;5;28;01mimport\u001b[39;00m \u001b[38;5;21;01mgzip\u001b[39;00m\n\u001b[0;32m----> 7\u001b[0m \u001b[38;5;28;01mfrom\u001b[39;00m \u001b[38;5;21;01mapyori\u001b[39;00m \u001b[38;5;28;01mimport\u001b[39;00m apriori\n",
      "\u001b[0;31mModuleNotFoundError\u001b[0m: No module named 'apyori'"
     ]
    }
   ],
   "source": [
    "import numpy as np  \n",
    "import matplotlib.pyplot as plt  \n",
    "import pandas as pd  \n",
    "import csv\n",
    "import gzip\n",
    "\n",
    "from apyori import apriori"
   ]
  },
  {
   "cell_type": "markdown",
   "metadata": {},
   "source": [
    "If the apyori library is not already installed in your laptop, you can install it with: `pip install apyori`\n",
    "\n",
    "<font size=\"-1\" color=\"gray\">(Remove this cell when delivering.)</font>"
   ]
  },
  {
   "cell_type": "markdown",
   "metadata": {},
   "source": [
    "## 0. The Apriori Algorithm in a nutshell\n",
    "\n",
    "There are three major components of Apriori algorithm, which we describe below using as an example the case where transactions are purchase histories.\n",
    "\n",
    "**Support**: the number of transactions containing a particular item divided by total number of transactions:\n",
    "\n",
    "   *Support(A) = (Transactions containing (A))/(Total Transactions)*\n",
    "\n",
    "**Confidence**: normally indicates the likelihood that an item B is also bought if item A is bought. It can be calculated by finding the number of transactions where A and B are bought together, divided by total number of transactions where A is bought:\n",
    "\n",
    "   *Confidence(A→B) = (Transactions containing both (A and B))/(Transactions containing A)*\n",
    "\n",
    "**Lift**: the increase in the ratio of sale of B when A is sold. Lift(A –> B) can be calculated by dividing Confidence(A -> B) by Support(B):\n",
    "\n",
    "   *Lift(A→B) = (Confidence (A→B))/(Support (B))*\n",
    "   \n",
    "A Lift of 1 means there is no association between products A and B. Lift greater than 1.0 means products A and B are more likely to be bought together. Lift less than 1.0 indicates two products are unlikely to be bought together.\n",
    "\n",
    "The Apriori algorithm first finds itemsets having the desired level of support, and then within those itemsets tries to derive rules having the desired confidence and lift.\n",
    "\n",
    "<font size=\"-1\" color=\"gray\">(Remove this cell when delivering.)</font>"
   ]
  },
  {
   "cell_type": "markdown",
   "metadata": {},
   "source": [
    "# 1. Playing with apyori"
   ]
  },
  {
   "cell_type": "markdown",
   "metadata": {},
   "source": [
    "The [apyori library](https://pypi.org/project/apyori/) is an implementation of the Apriori algorithm. Its typical usage is to receive a list of transactions and then print the association rules it found.\n",
    "\n",
    "To use this library, we pass a list in which each element represents a transaction, for instance:\n",
    "\n",
    "```python\n",
    "transactions = [\n",
    "    ['Barbie', 'Nomadland', 'Everything, Everywhere, all at Once'],\n",
    "    ['Barbie', 'Everything, Everywhere, all at Once'],\n",
    "    ['Nomadland', 'Everything, Everywhere, all at Once'],\n",
    "    ['Barbie', 'Nomadland', 'Soul', 'Everything, Everywhere, all at Once'],\n",
    "    ['Encanto', 'Nomadland'],\n",
    "    ['Barbie', 'Nomadland', 'Mad Max: Furiosa', 'Everything, Everywhere, all at Once'],\n",
    "    ['Barbie', 'Mad Max: Furiosa'],\n",
    "    ['Oppenheimer', 'Spiderman'],\n",
    "    ['Spiderman', 'Top Gun: Maverick', 'Mad Max: Furiosa'],\n",
    "    ['Spiderman', 'Top Gun: Maverick', 'Suicide Squad', 'Max Max: Furiosa'],\n",
    "    ['Suicide Squad', 'Top Gun: Maverick', 'Mad Max: Furiosa'],\n",
    "    ['Tenet', 'Everything, Everywhere, all at Once'],\n",
    "    ['Encanto', 'Soul'],\n",
    "    ['Soul', 'Spiderman'],\n",
    "    ['Encanto', 'Soul', 'Inside Out'],\n",
    "    ['Encanto', 'Inside Out'],\n",
    "    ['Inside Out', 'Spiderman'],\n",
    "    ['Nomadland', 'Soul'],\n",
    "    \n",
    "]\n",
    "results = list(apriori(transactions, min_support=0.1, min_confidence=0.9, min_lift=1.0))\n",
    "print_apyori_output(results)\n",
    "\n",
    "```\n",
    "\n",
    "The function below, which you can leave as-is, prints the output of the apyori library in a readable format. Use it to print the results of your association rules mining:\n",
    "\n",
    "```python\n",
    "print_apyori_output(results)\n",
    "```\n",
    "\n",
    "<font size=\"-1\" color=\"gray\">(Remove this cell when delivering.)</font>"
   ]
  },
  {
   "cell_type": "code",
   "execution_count": null,
   "metadata": {},
   "outputs": [],
   "source": [
    "# LEAVE AS-IS\n",
    "\n",
    "def print_apyori_output (association_results, info=False, info_key=False):\n",
    "    for relation_record in association_results:\n",
    "        itemset = list(relation_record.items)\n",
    "        \n",
    "        # Consider only itemsets of two elements\n",
    "        if len(itemset) > 1: \n",
    "        \n",
    "            print(\"Rules involving itemset %s\" % itemset)\n",
    "            support = relation_record.support\n",
    "\n",
    "            for rules in relation_record.ordered_statistics:\n",
    "                antecedent = list(rules.items_base)\n",
    "                consequent = list(rules.items_add)\n",
    "                \n",
    "                if info_key:\n",
    "                    antecedent = [info.loc[x][info_key] for x in antecedent]\n",
    "                    consequent = [info.loc[x][info_key] for x in consequent]\n",
    "                \n",
    "                confidence = rules.confidence\n",
    "                lift = rules.lift\n",
    "\n",
    "                print(\"%s => %s (support=%.4f, confidence=%.2f, lift=%.2f)\" %\n",
    "                      (antecedent, consequent, support, confidence, lift))\n",
    "            print()"
   ]
  },
  {
   "cell_type": "markdown",
   "metadata": {},
   "source": [
    "Next, invent your own set of transactions. Be **creative** but **tasteful,** and think of a list of transactions that **makes sense,** e.g., involving food, music, books, products, places, apps, or other items. \n",
    "\n",
    "<font size=\"-1\" color=\"gray\">(Remove this cell when delivering.)</font>"
   ]
  },
  {
   "cell_type": "markdown",
   "metadata": {},
   "source": [
    "<font size=\"+1\" color=\"red\">Replace this cell with your own example of transactions (at least 20 transactions). Execute the apriori algorithm, in which you should obtain at least <strong>two</strong> rules of the form ['A', 'B'] => ['C'], i.e., at least two rules having a 2-itemset in the antecedent and a 1-itemset in the consequent. Modify the transactions until you obtain such rules.</font>"
   ]
  },
  {
   "cell_type": "markdown",
   "metadata": {},
   "source": [
    "<font size=\"+1\" color=\"red\">Replace this cell with a markdown cell containing (1) a printout of the rules you have obtained, and (2) for each of those rules, indicate clearly how the support, confidence, and lift is calculated. Do not merely repeat the formula: indicate how each number is computed based on the transactions you provided, as if you were trying to verify that the numbers are correct.</font>"
   ]
  },
  {
   "cell_type": "markdown",
   "metadata": {},
   "source": [
    "# 2. Load and prepare the shopping baskets"
   ]
  },
  {
   "cell_type": "markdown",
   "metadata": {},
   "source": [
    "The following code, which you should leave as-is, loads the information about products into a dataframe indexed by product id.\n",
    "\n",
    "<font size=\"-1\" color=\"gray\">(Remove this cell when delivering.)</font>"
   ]
  },
  {
   "cell_type": "code",
   "execution_count": null,
   "metadata": {},
   "outputs": [],
   "source": [
    "# LEAVE AS-IS\n",
    "\n",
    "# File names\n",
    "INPUT_PRODUCTS = \"instacart-products.csv\"\n",
    "INPUT_TRANSACTIONS = \"instacart-transactions.csv.gz\"\n",
    "\n",
    "# Read into a dataframe\n",
    "products = pd.read_csv(INPUT_PRODUCTS, delimiter=\",\")\n",
    "\n",
    "# Set product_id as index, and drop column aisle_id\n",
    "products = products.set_index('product_id').drop(columns=['aisle_id'])\n",
    "\n",
    "products.head(100)"
   ]
  },
  {
   "cell_type": "markdown",
   "metadata": {},
   "source": [
    "## 2.1. Select by department"
   ]
  },
  {
   "cell_type": "markdown",
   "metadata": {},
   "source": [
    "As this file is large and complex, we will focus on one or two departments and try to get some conclusions about the products in those departments. The following cell, which you should leave as-is, list some department names.\n",
    "\n",
    "<font size=\"-1\" color=\"gray\">(Remove this cell when delivering.)</font>"
   ]
  },
  {
   "cell_type": "code",
   "execution_count": null,
   "metadata": {},
   "outputs": [],
   "source": [
    "# LEAVE AS-IS\n",
    "\n",
    "DEPT_BAKERY = 3\n",
    "DEPT_VEGGIES = 4\n",
    "DEPT_ALCOHOL = 5\n",
    "DEPT_WORLD = 6\n",
    "DEPT_DRINKS = 7\n",
    "DEPT_PETS = 8\n",
    "DEPT_PHARMACY = 11\n",
    "DEPT_CLEANING = 17\n",
    "DEPT_BABIES = 18"
   ]
  },
  {
   "cell_type": "markdown",
   "metadata": {},
   "source": [
    "Write code that can select a list of products from a set of departments. Do this with a function named `select_from_departments` that takes as input:\n",
    "\n",
    "* A dataframe containing product information, which will be the `products` dataframe we just loaded.\n",
    "* A list of product ids\n",
    "* A list of department ids\n",
    "\n",
    "It should return a list containing only the product ids that belong to one of the listed departments. This may return an empty list if no product belongs to any of the specified departments.\n",
    "\n",
    "Given that the products dataframe is indexed by *product_id*, if you want to obtain the *department_id* of product *product_id*, use:\n",
    "\n",
    "```python\n",
    "products.loc[product_id].department_id\n",
    "```\n",
    "\n",
    "Note that *product_id* must be an integer.\n",
    "\n",
    "<font size=\"-1\" color=\"gray\">(Remove this cell when delivering.)</font>"
   ]
  },
  {
   "cell_type": "markdown",
   "metadata": {},
   "source": [
    "<font size=\"+1\" color=\"red\">Replace this cell with your code for *select_from_departments*.</font>"
   ]
  },
  {
   "cell_type": "markdown",
   "metadata": {},
   "source": [
    "Test your function by passing it a list of products and ensuring it selects only the products in the 1-2 departments you have selected. To obtain test cases you can open the products file with a spreadsheet program.\n",
    "\n",
    "Each test case should print:\n",
    "\n",
    "* The product name and department id of each item in the input list\n",
    "* The product name and department id of each item in the output list\n",
    "\n",
    "For instance, suppose a test case is `[22, 26, 45, 54, 57, 71, 111, 112]` and we select products from DEPT_BAKERY and DEPT_CLEANING, a test case run should print something similar to this:\n",
    "\n",
    "```\n",
    "Test case:\n",
    "[22, 26, 45, 54, 57, 71, 111, 112]\n",
    "\n",
    "Input products:\n",
    "22 Fresh Breath Oral Rinse Mild Mint (dept 11)\n",
    "26 Fancy Feast Trout Feast Flaked Wet Cat Food (dept 8)\n",
    "45 European Cucumber (dept 4)\n",
    "54 24/7 Performance Cat Litter (dept 8)\n",
    "57 Flat Toothpicks (dept 17)\n",
    "71 Ultra 7 Inch Polypropylene Traditional Plates (dept 17)\n",
    "111 Fabric Softener, Geranium Scent (dept 17)\n",
    "112 Hot Tomatillo Salsa (dept 13)\n",
    "\n",
    "Selected products:\n",
    "57 Flat Toothpicks (dept 17)\n",
    "71 Ultra 7 Inch Polypropylene Traditional Plates (dept 17)\n",
    "111 Fabric Softener, Geranium Scent (dept 17)\n",
    "```\n",
    "\n",
    "Do not replicate code that can be easily factored in a function in your answer.\n",
    "\n",
    "<font size=\"-1\" color=\"gray\">(Remove this cell when delivering.)</font>"
   ]
  },
  {
   "cell_type": "markdown",
   "metadata": {},
   "source": [
    "<font size=\"+1\" color=\"red\">Replace this cell with code to test your function with three different test cases. Each test case is a list of items and a list of 1, 2, or 3 departments.</font>"
   ]
  },
  {
   "cell_type": "markdown",
   "metadata": {},
   "source": [
    "## 2.2. Read and filter transactions"
   ]
  },
  {
   "cell_type": "markdown",
   "metadata": {},
   "source": [
    "The transactions file is a compressed file containing one row per transaction. Each transaction is a comma-separated list of *product_id*. The following code iterates through this file:\n",
    "\n",
    "```python\n",
    "# Open a compressed file\n",
    "with gzip.open(INPUT_TRANSACTIONS, \"rt\") as inputfile:\n",
    "    \n",
    "    # Create a CSV reader\n",
    "    reader = csv.reader(inputfile, delimiter=\",\")\n",
    "    \n",
    "    # Iterate through the CSV file\n",
    "    for row in reader:\n",
    "        \n",
    "        # Convert to integers\n",
    "        items = [int(x) for x in row]\n",
    "```\n",
    "\n",
    "Read the transactions, filtering the items by department. Stop reading (`break`) after you have stored 5000 transactions into an array named `transactions`. Every 1000 transactions read, print the number of transactions read and the number of transactions stored.\n",
    "\n",
    "<font size=\"-1\" color=\"gray\">(Remove this cell when delivering.)</font>"
   ]
  },
  {
   "cell_type": "markdown",
   "metadata": {},
   "source": [
    "<font size=\"+1\" color=\"red\">Replace this cell with your code to read transactions, keeping only items in DEPT_PHARMACY. Remember to stop after storing 5000 of the transactions read.</font>"
   ]
  },
  {
   "cell_type": "markdown",
   "metadata": {},
   "source": [
    "## 2.3. Extract association rules and comment on them"
   ]
  },
  {
   "cell_type": "markdown",
   "metadata": {},
   "source": [
    "You are now ready to run the association rules mining algorithm over the selected transactions:\n",
    "\n",
    "```python\n",
    "results = list(apriori(transactions, min_support=..., min_confidence=..., min_lift=...))\n",
    "print_apyori_output(results, products, 'product_name')\n",
    "```\n",
    "\n",
    "*Tip:* if you set `min_support` to a very small value, your notebook will probably hang.\n",
    "\n",
    "<font size=\"-1\" color=\"gray\">(Remove this cell when delivering.)</font>"
   ]
  },
  {
   "cell_type": "markdown",
   "metadata": {},
   "source": [
    "<font size=\"+1\" color=\"red\">Replace this cell with your code to extract association rules from the read transactions.</font>"
   ]
  },
  {
   "cell_type": "markdown",
   "metadata": {},
   "source": [
    "<font size=\"+1\" color=\"red\">Replace this cell with a brief commentary on what you would recommend to the shopping app considering the extracted association rules.</font>"
   ]
  },
  {
   "cell_type": "markdown",
   "metadata": {},
   "source": [
    "## 2.4. Extract association rules and comment on them (other departments)"
   ]
  },
  {
   "cell_type": "markdown",
   "metadata": {},
   "source": [
    "<font size=\"+1\" color=\"red\">Replace this cell with code to select a different set of departments (at least two, not DEPT_PHARMACY) and extract transactions again. Avoid replicating code when possible.</font>"
   ]
  },
  {
   "cell_type": "markdown",
   "metadata": {},
   "source": [
    "<font size=\"+1\" color=\"red\">Replace this cell with your commentary on the obtained rules.</font>"
   ]
  },
  {
   "cell_type": "markdown",
   "metadata": {},
   "source": [
    "# DELIVER (individually)\n",
    "\n",
    "Remember to read the section on \"delivering your code\" in the [course evaluation guidelines](https://github.com/chatox/data-mining-course/blob/master/upf/upf-evaluation.md).\n",
    "\n",
    "Deliver a zip file containing:\n",
    "\n",
    "* This notebook\n",
    "\n",
    "## Extra points available\n",
    "\n",
    "For more learning and extra points, copy the function `print_apyori_output` to `print_apyori_output_diff_dept` and modify it to filter the obtained association rules so that you print only the ones involving products in different departments.\n",
    "\n",
    "To be precise, this means rules in which there is at least a product in the *consequence* that belongs to a department that none of the products in the *antecedent* belongs to. Experiment with different combinations of departments, and try to discover interesting groups of products in different departments that are related to each other.\n",
    "\n",
    "**Note:** if you go for the extra points, add ``<font size=\"+2\" color=\"blue\">Additional results: experiments on cross-department association rules</font>`` at the top of your notebook.\n",
    "\n",
    "<font size=\"-1\" color=\"gray\">(Remove this cell when delivering.)</font>"
   ]
  },
  {
   "cell_type": "markdown",
   "metadata": {},
   "source": [
    "<font size=\"+2\" color=\"#003300\">I hereby declare that, except for the code provided by the course instructors, all of my code, report, and figures were produced by myself.</font>"
   ]
  }
 ],
 "metadata": {
  "kernelspec": {
   "display_name": ".venv",
   "language": "python",
   "name": "python3"
  },
  "language_info": {
   "codemirror_mode": {
    "name": "ipython",
    "version": 3
   },
   "file_extension": ".py",
   "mimetype": "text/x-python",
   "name": "python",
   "nbconvert_exporter": "python",
   "pygments_lexer": "ipython3",
   "version": "3.12.6"
  }
 },
 "nbformat": 4,
 "nbformat_minor": 2
}
