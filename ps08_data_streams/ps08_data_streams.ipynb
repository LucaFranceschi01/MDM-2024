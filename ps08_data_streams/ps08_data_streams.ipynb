{
 "cells": [
  {
   "cell_type": "markdown",
   "metadata": {},
   "source": [
    "# Practice Session 08: Data streams\n",
    "\n",
    "In this session we will take a large corpus of documents and compute some statistics using data streams methods.\n",
    "\n",
    "<font size=\"-1\" color=\"gray\">(Remove this cell when delivering.)</font>"
   ]
  },
  {
   "cell_type": "markdown",
   "metadata": {},
   "source": [
    "Author: <font color=\"blue\">Luca Franceschi</font>\n",
    "\n",
    "E-mail: <font color=\"blue\">luca.franceschi01@estudiant.upf.edu</font>\n",
    "\n",
    "Date: <font color=\"blue\">12/11/2024</font>"
   ]
  },
  {
   "cell_type": "code",
   "execution_count": 1,
   "metadata": {},
   "outputs": [],
   "source": [
    "import io\n",
    "import nltk\n",
    "import gzip\n",
    "import random\n",
    "import statistics\n",
    "import secrets\n",
    "import re\n",
    "import gzip"
   ]
  },
  {
   "cell_type": "code",
   "execution_count": 2,
   "metadata": {},
   "outputs": [],
   "source": [
    "# nltk.download('punkt_tab')\n",
    "# nltk.download('averaged_perceptron_tagger_eng')"
   ]
  },
  {
   "cell_type": "markdown",
   "metadata": {},
   "source": [
    "# 0. Dataset and how to iterate"
   ]
  },
  {
   "cell_type": "markdown",
   "metadata": {},
   "source": [
    "The input file contain lines of dialogue of a set of movies from the [Movie Dialog Corpus](https://www.kaggle.com/datasets/Cornell-University/movie-dialog-corpus). We will use the file `movie_lines.tsv` which contains the text of the dialogue, about 3 million words in about 300,000 lines of dialogue.\n",
    "\n",
    "During this practice, **we will never load this file in memory.**\n",
    "\n",
    "<font size=\"-1\" color=\"gray\">(Remove this cell when delivering.)</font>"
   ]
  },
  {
   "cell_type": "code",
   "execution_count": 3,
   "metadata": {},
   "outputs": [],
   "source": [
    "# Leave this code as-is\n",
    "\n",
    "INPUT_FILE = 'movie_lines.tsv.gz'"
   ]
  },
  {
   "cell_type": "markdown",
   "metadata": {},
   "source": [
    "The function `read_by_words` is a [generator](https://wiki.python.org/moin/Generators), that is, a function that behaves as an iterator. This is a common pattern used in stream processing, and in Python is implemented with the `yield` keyword, instead of `return`.\n",
    "\n",
    "<font size=\"-1\" color=\"gray\">(Remove this cell when delivering.)</font>"
   ]
  },
  {
   "cell_type": "code",
   "execution_count": 4,
   "metadata": {},
   "outputs": [],
   "source": [
    "# Leave this code as-is\n",
    "\n",
    "POS_NOUN = 'NN'\n",
    "POS_VERB = 'VB'\n",
    "POS_ADJECTIVE = 'JJ'\n",
    "\n",
    "\n",
    "# Producer in Python that reads a file by words that are nouns\n",
    "def read_by_parts_of_speech(filename, parts_of_speech, max_words=-1, report_every=-1):\n",
    "\n",
    "    # Open the input file\n",
    "    with gzip.open(INPUT_FILE, 'rt', encoding='utf8') as file:\n",
    "\n",
    "        # Initialize counter of words to stop at max_words\n",
    "        counter = 0\n",
    "\n",
    "        # Iterate through lines in the file\n",
    "        for line in file:\n",
    "\n",
    "            elements = line.split('\\t')\n",
    "\n",
    "            text = \"\"\n",
    "            if len(elements) >= 5:\n",
    "                text = elements[4].strip()\n",
    "\n",
    "            if counter > max_words and max_words != -1:\n",
    "                break\n",
    "\n",
    "            for sentence in nltk.sent_tokenize(text):\n",
    "\n",
    "                tagged = nltk.pos_tag(nltk.word_tokenize(sentence))\n",
    "                for word in [part[0] for part in tagged if part[1] in parts_of_speech]:\n",
    "\n",
    "                    counter += 1\n",
    "\n",
    "                    # Report\n",
    "                    if (report_every != -1) and (counter % report_every == 0):\n",
    "                        if max_words == -1:\n",
    "                            print('- Read %d words so far' % (counter))\n",
    "                        else:\n",
    "                            print('- Read %d/%d words so far' % (counter, max_words))\n",
    "\n",
    "                    # Produce the word in lowercase\n",
    "                    yield word.lower()"
   ]
  },
  {
   "cell_type": "markdown",
   "metadata": {},
   "source": [
    "We will do a first pass over the data. Here we will read only the first 30K nouns. Try with a larger limit if your computer is fast, with a lower limit if your computer is slow. Find something that makes one pass take about 30 seconds and use it for development.\n",
    "\n",
    "<font size=\"-1\" color=\"gray\">(Remove this cell when delivering.)</font>"
   ]
  },
  {
   "cell_type": "code",
   "execution_count": 5,
   "metadata": {},
   "outputs": [
    {
     "name": "stdout",
     "output_type": "stream",
     "text": [
      "Current noun 'ambitious'\n",
      "Current noun 'lovely'\n",
      "Current noun 'own'\n",
      "Current noun 'last'\n",
      "Current noun 'nice'\n",
      "Current noun 'pink'\n",
      "Current noun 'shit'\n",
      "Current noun ''\n",
      "Current noun 'set-top'\n",
      "Current noun 'ya'\n",
      "Current noun 'thirty'\n",
      "Current noun 'morphine'\n",
      "Current noun 'other'\n",
      "- Read 10000/30000 words so far\n",
      "Current noun 'first'\n",
      "Current noun 'survive'\n",
      "Current noun 'own'\n",
      "Current noun 'great'\n",
      "Current noun 'bad'\n",
      "Current noun 'clear'\n",
      "Current noun 'sensitive'\n",
      "Current noun 'sippin'\n",
      "Current noun 'unlucky'\n",
      "Current noun 'little'\n",
      "Current noun 'incredible'\n",
      "- Read 20000/30000 words so far\n",
      "Current noun 'sorry'\n",
      "Current noun 'right'\n",
      "Current noun 'grand'\n",
      "Current noun 'arrest'\n",
      "Current noun 'helpful'\n",
      "Current noun 'scared'\n",
      "Current noun 'other'\n",
      "Current noun 'cute'\n",
      "Current noun 'sarah'\n",
      "Current noun 'human'\n",
      "Current noun 'palooka'\n",
      "- Read 30000/30000 words so far\n"
     ]
    }
   ],
   "source": [
    "for word in read_by_parts_of_speech(\n",
    "    INPUT_FILE, [POS_ADJECTIVE], max_words=30000, report_every=10000\n",
    "):\n",
    "    # Prints 1/1000 of words\n",
    "    if random.random() < 0.001:\n",
    "        print('Current noun \\'%s\\'' % (word))"
   ]
  },
  {
   "cell_type": "markdown",
   "metadata": {},
   "source": [
    "**Tip:** NLTK may complain that you have some missing files. The following commands may help:\n",
    "\n",
    "```python3\n",
    "nltk.download('punkt')\n",
    "nltk.download('averaged_perceptron_tagger_eng')\n",
    "```\n",
    "\n",
    "<font size=\"-1\" color=\"gray\">(Remove this cell when delivering.)</font>"
   ]
  },
  {
   "cell_type": "markdown",
   "metadata": {},
   "source": [
    "# 1. Determine approximately the top-10 words"
   ]
  },
  {
   "cell_type": "markdown",
   "metadata": {},
   "source": [
    "Instead of loading the entire dataset in main memory, we will use reservoir sampling to determine approximately the top-10 words.\n",
    "\n",
    "**Reservoir sampling**: In reservoir sampling, if we have a reservoir of size S:\n",
    "\n",
    "* We store the first S elements of the stream\n",
    "* When the n<sup>th</sup> element arrives (let's call it X<sub>n</sub>):\n",
    "   * With probability 1 - s/n, we ignore this element.\n",
    "   * With probability s/n, we:\n",
    "      * Discard a random element from the reservoir\n",
    "      * Add element X<sub>n</sub> to the reservoir (calling *add_to_reservoir*)\n",
    "      \n",
    "<font size=\"-1\" color=\"gray\">(Remove this cell when delivering.)</font>"
   ]
  },
  {
   "cell_type": "markdown",
   "metadata": {},
   "source": [
    "Implement a function `add_reservoir(reservoir, item, max_size)` that adds an item to the reservoir, maintaining its size. If the reservoir is already of size *max_size*, a random item is selected and evicted *before* adding the item. It is important to evict an old item *before* adding the new item. Use the following skeleton:\n",
    "\n",
    "```python\n",
    "def add_to_reservoir(reservoir, item, max_reservoir_size):\n",
    "    # YOUR CODE HERE\n",
    "    assert(len(reservoir) <= max_reservoir_size)\n",
    "```\n",
    "\n",
    "<font size=\"-1\" color=\"gray\">(Remove this cell when delivering.)</font>"
   ]
  },
  {
   "cell_type": "markdown",
   "metadata": {},
   "source": [
    "<font size=\"+1\" color=\"red\">Replace this cell with your code for \"add_reservoir\"</font>"
   ]
  },
  {
   "cell_type": "code",
   "execution_count": 6,
   "metadata": {},
   "outputs": [],
   "source": [
    "def add_to_reservoir(reservoir: list, item, max_reservoir_size):\n",
    "    if len(reservoir) == max_reservoir_size:\n",
    "        if random.random() < 1 / max_reservoir_size:\n",
    "            reservoir[random.choice(range(max_reservoir_size))] = item\n",
    "    else:\n",
    "        reservoir.append(item)\n",
    "    assert len(reservoir) <= max_reservoir_size"
   ]
  },
  {
   "cell_type": "markdown",
   "metadata": {},
   "source": [
    "Create a function to iterate through the file using the reservoir sampling method seen in class. In this function you will decide, for every item, whether to call *add_to_reservoir* or to ignore the item.\n",
    "\n",
    "You can use the following skeleton:\n",
    "\n",
    "```python\n",
    "def reservoir_sampling(filename, reservoir_size, max_words=-1, report_every=-1):\n",
    "    reservoir = []\n",
    "    \n",
    "    words_read = 0\n",
    "    \n",
    "    for word in read_by_parts_of_speech(filename, max_words=max_words, report_every=report_every):\n",
    "    \n",
    "            # YOUR CODE HERE\n",
    "\n",
    "    return (words_read, reservoir)\n",
    "```\n",
    "\n",
    "<font size=\"-1\" color=\"gray\">(Remove this cell when delivering.)</font>"
   ]
  },
  {
   "cell_type": "markdown",
   "metadata": {},
   "source": [
    "<font size=\"+1\" color=\"red\">Replace this cell with your code for \"reservoir_sampling\"</font>"
   ]
  },
  {
   "cell_type": "code",
   "execution_count": 7,
   "metadata": {},
   "outputs": [],
   "source": [
    "def reservoir_sampling(\n",
    "    filename, parts_of_speech, reservoir_size, max_words=-1, report_every=-1\n",
    "):\n",
    "    reservoir = []\n",
    "\n",
    "    words_read = 0\n",
    "\n",
    "    for word in read_by_parts_of_speech(\n",
    "        filename,\n",
    "        max_words=max_words,\n",
    "        report_every=report_every,\n",
    "        parts_of_speech=parts_of_speech,\n",
    "    ):\n",
    "\n",
    "        add_to_reservoir(reservoir, word, reservoir_size)\n",
    "        words_read += 1\n",
    "\n",
    "    return (words_read, reservoir)"
   ]
  },
  {
   "cell_type": "markdown",
   "metadata": {},
   "source": [
    "Test your function using the following code:\n",
    "\n",
    "<font size=\"-1\" color=\"gray\">(Remove this cell when delivering.)</font>"
   ]
  },
  {
   "cell_type": "code",
   "execution_count": 8,
   "metadata": {},
   "outputs": [
    {
     "name": "stdout",
     "output_type": "stream",
     "text": [
      "- Read 10000/30000 words so far\n",
      "- Read 20000/30000 words so far\n",
      "- Read 30000/30000 words so far\n",
      "Number of items seen    : 30001\n",
      "Number of items sampled : 1500\n"
     ]
    }
   ],
   "source": [
    "# Leave this code as-is\n",
    "\n",
    "reservoir_size = 1500\n",
    "(items_seen, reservoir) = reservoir_sampling(\n",
    "    INPUT_FILE, [POS_ADJECTIVE], reservoir_size, max_words=30000, report_every=10000\n",
    ")\n",
    "\n",
    "print('Number of items seen    : %d' % items_seen)\n",
    "print('Number of items sampled : %d' % len(reservoir))"
   ]
  },
  {
   "cell_type": "markdown",
   "metadata": {},
   "source": [
    "The reservoir contains repeated items. You can compute the absolute frequencies of the top 20 using the following code.\n",
    "\n",
    "<font size=\"-1\" color=\"gray\">(Remove this cell when delivering.)</font>"
   ]
  },
  {
   "cell_type": "code",
   "execution_count": 9,
   "metadata": {},
   "outputs": [
    {
     "name": "stdout",
     "output_type": "stream",
     "text": [
      "61 good\n",
      "32 other\n",
      "32 little\n",
      "31 right\n",
      "28 sure\n",
      "24 last\n",
      "23 real\n",
      "23 bad\n",
      "22 sorry\n",
      "22 much\n",
      "21 own\n",
      "19 great\n",
      "18 only\n",
      "18 big\n",
      "17 wrong\n",
      "16 first\n",
      "14 true\n",
      "14 same\n",
      "14 next\n",
      "14 long\n"
     ]
    }
   ],
   "source": [
    "# Leave this code as-is\n",
    "\n",
    "freq = {}\n",
    "for item in reservoir:\n",
    "    freq[item] = reservoir.count(item)\n",
    "\n",
    "most_frequent_items = sorted(\n",
    "    [(frequency, word) for word, frequency in freq.items()], reverse=True\n",
    ")[:20]\n",
    "\n",
    "for absolute_frequency, word in most_frequent_items:\n",
    "    print('%d %s' % (absolute_frequency, word))"
   ]
  },
  {
   "cell_type": "markdown",
   "metadata": {},
   "source": [
    "Write code to compute the 20 most frequent items in the reservoir and their relative frequencies, as percentages.\n",
    "\n",
    "<font size=\"-1\" color=\"gray\">(Remove this cell when delivering.)</font>"
   ]
  },
  {
   "cell_type": "markdown",
   "metadata": {},
   "source": [
    "<font size=\"+1\" color=\"red\">Replace this cell with your code to print the top items and their relative frequencies</font>"
   ]
  },
  {
   "cell_type": "code",
   "execution_count": 10,
   "metadata": {},
   "outputs": [
    {
     "name": "stdout",
     "output_type": "stream",
     "text": [
      "61 good (4.07%)\n",
      "32 other (2.13%)\n",
      "32 little (2.13%)\n",
      "31 right (2.07%)\n",
      "28 sure (1.87%)\n",
      "24 last (1.60%)\n",
      "23 real (1.53%)\n",
      "23 bad (1.53%)\n",
      "22 sorry (1.47%)\n",
      "22 much (1.47%)\n",
      "21 own (1.40%)\n",
      "19 great (1.27%)\n",
      "18 only (1.20%)\n",
      "18 big (1.20%)\n",
      "17 wrong (1.13%)\n",
      "16 first (1.07%)\n",
      "14 true (0.93%)\n",
      "14 same (0.93%)\n",
      "14 next (0.93%)\n",
      "14 long (0.93%)\n"
     ]
    }
   ],
   "source": [
    "for absolute_frequency, word in most_frequent_items:\n",
    "    print(\n",
    "        '{} {} ({:.2%})'.format(\n",
    "            absolute_frequency, word, absolute_frequency / reservoir_size\n",
    "        )\n",
    "    )"
   ]
  },
  {
   "cell_type": "markdown",
   "metadata": {},
   "source": [
    "If you see an item C times in the reservoir, you can estimate the item appears *C x dataset_size / reservoir_size* times in the entire dataset (*dataset_size* is the size of the entire dataset). \n",
    "\n",
    "For various sizes of the reservoir, e.g., 50, 100, 500, ..., list the top-5 words and your estimate of their frequency in the entire dataset.\n",
    " \n",
    "<font size=\"-1\" color=\"gray\">(Remove this cell when delivering.)</font>"
   ]
  },
  {
   "cell_type": "markdown",
   "metadata": {},
   "source": [
    "<font size=\"+1\" color=\"red\">Increase the max limit of words so that one pass takes about 2-3 minutes to be completed. Replace this cell with your code to try different reservoir sizes. In each case, print your estimate for the relative and absolute frequency of the words in the entire dataset.</font>"
   ]
  },
  {
   "cell_type": "code",
   "execution_count": 11,
   "metadata": {},
   "outputs": [],
   "source": [
    "import time"
   ]
  },
  {
   "cell_type": "code",
   "execution_count": 12,
   "metadata": {},
   "outputs": [
    {
     "name": "stdout",
     "output_type": "stream",
     "text": [
      "Reservoir size = 50 (0.17%)\n",
      "- Read 10000/30000 words so far\n",
      "- Read 20000/30000 words so far\n",
      "- Read 30000/30000 words so far\n",
      "word                │ abs_freq │ rel_freq │ E(abs_freq|dataset)\n",
      "────────────────────┼──────────┼──────────┼─────────────────────\n",
      "little              │    5     │  10.00%  │         3000        \n",
      "ta                  │    2     │  4.00%   │         1200        \n",
      "high                │    2     │  4.00%   │         1200        \n",
      "good                │    2     │  4.00%   │         1200        \n",
      "whole               │    1     │  2.00%   │         600         \n",
      "white               │    1     │  2.00%   │         600         \n",
      "welcome             │    1     │  2.00%   │         600         \n",
      "uniformed           │    1     │  2.00%   │         600         \n",
      "true                │    1     │  2.00%   │         600         \n",
      "tough               │    1     │  2.00%   │         600         \n",
      "tired               │    1     │  2.00%   │         600         \n",
      "sworn               │    1     │  2.00%   │         600         \n",
      "sure                │    1     │  2.00%   │         600         \n",
      "sudden              │    1     │  2.00%   │         600         \n",
      "stuck               │    1     │  2.00%   │         600         \n",
      "shark               │    1     │  2.00%   │         600         \n",
      "serious             │    1     │  2.00%   │         600         \n",
      "same                │    1     │  2.00%   │         600         \n",
      "right               │    1     │  2.00%   │         600         \n",
      "rich                │    1     │  2.00%   │         600         \n",
      "========================= TIME: 21.30s =========================\n",
      "Reservoir size = 100 (0.33%)\n",
      "- Read 10000/30000 words so far\n",
      "- Read 20000/30000 words so far\n",
      "- Read 30000/30000 words so far\n",
      "word                │ abs_freq │ rel_freq │ E(abs_freq|dataset)\n",
      "────────────────────┼──────────┼──────────┼─────────────────────\n",
      "right               │    4     │  4.00%   │         1200        \n",
      "good                │    4     │  4.00%   │         1200        \n",
      "whole               │    3     │  3.00%   │         900         \n",
      "many                │    3     │  3.00%   │         900         \n",
      "little              │    3     │  3.00%   │         900         \n",
      "fine                │    3     │  3.00%   │         900         \n",
      "young               │    2     │  2.00%   │         600         \n",
      "sure                │    2     │  2.00%   │         600         \n",
      "small               │    2     │  2.00%   │         600         \n",
      "romantic            │    2     │  2.00%   │         600         \n",
      "real                │    2     │  2.00%   │         600         \n",
      "pregnant            │    2     │  2.00%   │         600         \n",
      "own                 │    2     │  2.00%   │         600         \n",
      "first               │    2     │  2.00%   │         600         \n",
      "few                 │    2     │  2.00%   │         600         \n",
      "bad                 │    2     │  2.00%   │         600         \n",
      "whatcha             │    1     │  1.00%   │         300         \n",
      "weird               │    1     │  1.00%   │         300         \n",
      "wanted              │    1     │  1.00%   │         300         \n",
      "vagrant             │    1     │  1.00%   │         300         \n",
      "========================= TIME: 20.78s =========================\n",
      "Reservoir size = 300 (1.00%)\n",
      "- Read 10000/30000 words so far\n",
      "- Read 20000/30000 words so far\n",
      "- Read 30000/30000 words so far\n",
      "word                │ abs_freq │ rel_freq │ E(abs_freq|dataset)\n",
      "────────────────────┼──────────┼──────────┼─────────────────────\n",
      "good                │    11    │  3.67%   │         1100        \n",
      "sure                │    9     │  3.00%   │         900         \n",
      "own                 │    8     │  2.67%   │         800         \n",
      "little              │    7     │  2.33%   │         700         \n",
      "right               │    5     │  1.67%   │         500         \n",
      "other               │    5     │  1.67%   │         500         \n",
      "normal              │    5     │  1.67%   │         500         \n",
      "busy                │    5     │  1.67%   │         500         \n",
      "only                │    4     │  1.33%   │         400         \n",
      "new                 │    4     │  1.33%   │         400         \n",
      "great               │    4     │  1.33%   │         400         \n",
      "big                 │    4     │  1.33%   │         400         \n",
      "whole               │    3     │  1.00%   │         300         \n",
      "such                │    3     │  1.00%   │         300         \n",
      "same                │    3     │  1.00%   │         300         \n",
      "ready               │    3     │  1.00%   │         300         \n",
      "precious            │    3     │  1.00%   │         300         \n",
      "many                │    3     │  1.00%   │         300         \n",
      "last                │    3     │  1.00%   │         300         \n",
      "interested          │    3     │  1.00%   │         300         \n",
      "========================= TIME: 20.53s =========================\n",
      "Reservoir size = 500 (1.67%)\n",
      "- Read 10000/30000 words so far\n",
      "- Read 20000/30000 words so far\n",
      "- Read 30000/30000 words so far\n",
      "word                │ abs_freq │ rel_freq │ E(abs_freq|dataset)\n",
      "────────────────────┼──────────┼──────────┼─────────────────────\n",
      "good                │    17    │  3.40%   │         1020        \n",
      "right               │    11    │  2.20%   │         660         \n",
      "own                 │    11    │  2.20%   │         660         \n",
      "little              │    11    │  2.20%   │         660         \n",
      "sure                │    10    │  2.00%   │         600         \n",
      "other               │    10    │  2.00%   │         600         \n",
      "new                 │    8     │  1.60%   │         480         \n",
      "big                 │    8     │  1.60%   │         480         \n",
      "such                │    7     │  1.40%   │         420         \n",
      "only                │    7     │  1.40%   │         420         \n",
      "bad                 │    7     │  1.40%   │         420         \n",
      "last                │    6     │  1.20%   │         360         \n",
      "dead                │    6     │  1.20%   │         360         \n",
      "afraid              │    6     │  1.20%   │         360         \n",
      "whole               │    5     │  1.00%   │         300         \n",
      "stupid              │    5     │  1.00%   │         300         \n",
      "normal              │    5     │  1.00%   │         300         \n",
      "much                │    5     │  1.00%   │         300         \n",
      "busy                │    5     │  1.00%   │         300         \n",
      "wrong               │    4     │  0.80%   │         240         \n",
      "========================= TIME: 20.40s =========================\n",
      "Reservoir size = 1000 (3.33%)\n",
      "- Read 10000/30000 words so far\n",
      "- Read 20000/30000 words so far\n",
      "- Read 30000/30000 words so far\n",
      "word                │ abs_freq │ rel_freq │ E(abs_freq|dataset)\n",
      "────────────────────┼──────────┼──────────┼─────────────────────\n",
      "good                │    34    │  3.40%   │         1020        \n",
      "sure                │    24    │  2.40%   │         720         \n",
      "right               │    21    │  2.10%   │         630         \n",
      "little              │    20    │  2.00%   │         600         \n",
      "other               │    19    │  1.90%   │         570         \n",
      "own                 │    16    │  1.60%   │         480         \n",
      "true                │    14    │  1.40%   │         420         \n",
      "much                │    14    │  1.40%   │         420         \n",
      "bad                 │    13    │  1.30%   │         390         \n",
      "sorry               │    12    │  1.20%   │         360         \n",
      "real                │    12    │  1.20%   │         360         \n",
      "great               │    12    │  1.20%   │         360         \n",
      "next                │    11    │  1.10%   │         330         \n",
      "continued           │    11    │  1.10%   │         330         \n",
      "big                 │    11    │  1.10%   │         330         \n",
      "last                │    10    │  1.00%   │         300         \n",
      "first               │    10    │  1.00%   │         300         \n",
      "fine                │    10    │  1.00%   │         300         \n",
      "afraid              │    10    │  1.00%   │         300         \n",
      "such                │    9     │  0.90%   │         270         \n",
      "========================= TIME: 20.40s =========================\n",
      "Reservoir size = 1500 (5.00%)\n",
      "- Read 10000/30000 words so far\n",
      "- Read 20000/30000 words so far\n",
      "- Read 30000/30000 words so far\n",
      "word                │ abs_freq │ rel_freq │ E(abs_freq|dataset)\n",
      "────────────────────┼──────────┼──────────┼─────────────────────\n",
      "good                │    64    │  4.27%   │         1280        \n",
      "other               │    33    │  2.20%   │         660         \n",
      "little              │    32    │  2.13%   │         640         \n",
      "right               │    31    │  2.07%   │         620         \n",
      "sure                │    29    │  1.93%   │         580         \n",
      "last                │    24    │  1.60%   │         480         \n",
      "real                │    23    │  1.53%   │         460         \n",
      "bad                 │    23    │  1.53%   │         460         \n",
      "sorry               │    22    │  1.47%   │         440         \n",
      "own                 │    22    │  1.47%   │         440         \n",
      "much                │    22    │  1.47%   │         440         \n",
      "only                │    19    │  1.27%   │         380         \n",
      "great               │    19    │  1.27%   │         380         \n",
      "big                 │    17    │  1.13%   │         340         \n",
      "first               │    16    │  1.07%   │         320         \n",
      "wrong               │    15    │  1.00%   │         300         \n",
      "true                │    14    │  0.93%   │         280         \n",
      "same                │    14    │  0.93%   │         280         \n",
      "next                │    14    │  0.93%   │         280         \n",
      "dead                │    14    │  0.93%   │         280         \n",
      "========================= TIME: 20.15s =========================\n",
      "Reservoir size = 2999 (10.00%)\n",
      "- Read 10000/30000 words so far\n",
      "- Read 20000/30000 words so far\n",
      "- Read 30000/30000 words so far\n",
      "word                │ abs_freq │ rel_freq │ E(abs_freq|dataset)\n",
      "────────────────────┼──────────┼──────────┼─────────────────────\n",
      "good                │   107    │  3.57%   │         1070        \n",
      "little              │    75    │  2.50%   │         750         \n",
      "right               │    65    │  2.17%   │         650         \n",
      "u                   │    63    │  2.10%   │         630         \n",
      "other               │    56    │  1.87%   │         560         \n",
      "sure                │    52    │  1.73%   │         520         \n",
      "last                │    47    │  1.57%   │         470         \n",
      "bad                 │    45    │  1.50%   │         450         \n",
      "real                │    44    │  1.47%   │         440         \n",
      "much                │    44    │  1.47%   │         440         \n",
      "dead                │    42    │  1.40%   │         420         \n",
      "wrong               │    41    │  1.37%   │         410         \n",
      "sorry               │    40    │  1.33%   │         400         \n",
      "big                 │    40    │  1.33%   │         400         \n",
      "only                │    34    │  1.13%   │         340         \n",
      "few                 │    34    │  1.13%   │         340         \n",
      "own                 │    30    │  1.00%   │         300         \n",
      "nice                │    29    │  0.97%   │         290         \n",
      "first               │    29    │  0.97%   │         290         \n",
      "old                 │    28    │  0.93%   │         280         \n",
      "========================= TIME: 20.11s =========================\n",
      "Reservoir size = 3000 (10.00%)\n",
      "- Read 10000/30000 words so far\n",
      "- Read 20000/30000 words so far\n",
      "- Read 30000/30000 words so far\n",
      "word                │ abs_freq │ rel_freq │ E(abs_freq|dataset)\n",
      "────────────────────┼──────────┼──────────┼─────────────────────\n",
      "good                │   109    │  3.63%   │         1090        \n",
      "little              │    75    │  2.50%   │         750         \n",
      "right               │    65    │  2.17%   │         650         \n",
      "u                   │    63    │  2.10%   │         630         \n",
      "other               │    56    │  1.87%   │         560         \n",
      "sure                │    52    │  1.73%   │         520         \n",
      "last                │    47    │  1.57%   │         470         \n",
      "bad                 │    45    │  1.50%   │         450         \n",
      "real                │    44    │  1.47%   │         440         \n",
      "much                │    44    │  1.47%   │         440         \n",
      "dead                │    43    │  1.43%   │         430         \n",
      "wrong               │    41    │  1.37%   │         410         \n",
      "sorry               │    40    │  1.33%   │         400         \n",
      "big                 │    40    │  1.33%   │         400         \n",
      "few                 │    34    │  1.13%   │         340         \n",
      "only                │    33    │  1.10%   │         330         \n",
      "own                 │    30    │  1.00%   │         300         \n",
      "nice                │    29    │  0.97%   │         290         \n",
      "first               │    29    │  0.97%   │         290         \n",
      "old                 │    28    │  0.93%   │         280         \n",
      "========================= TIME: 20.46s =========================\n",
      "Reservoir size = 3001 (10.00%)\n",
      "- Read 10000/30000 words so far\n",
      "- Read 20000/30000 words so far\n",
      "- Read 30000/30000 words so far\n",
      "word                │ abs_freq │ rel_freq │ E(abs_freq|dataset)\n",
      "────────────────────┼──────────┼──────────┼─────────────────────\n",
      "good                │   109    │  3.63%   │         1090        \n",
      "little              │    74    │  2.47%   │         740         \n",
      "right               │    65    │  2.17%   │         650         \n",
      "u                   │    63    │  2.10%   │         630         \n",
      "other               │    56    │  1.87%   │         560         \n",
      "sure                │    53    │  1.77%   │         530         \n",
      "last                │    47    │  1.57%   │         470         \n",
      "real                │    45    │  1.50%   │         450         \n",
      "much                │    44    │  1.47%   │         440         \n",
      "bad                 │    44    │  1.47%   │         440         \n",
      "dead                │    42    │  1.40%   │         420         \n",
      "wrong               │    41    │  1.37%   │         410         \n",
      "sorry               │    40    │  1.33%   │         400         \n",
      "big                 │    40    │  1.33%   │         400         \n",
      "few                 │    34    │  1.13%   │         340         \n",
      "only                │    33    │  1.10%   │         330         \n",
      "first               │    30    │  1.00%   │         300         \n",
      "own                 │    29    │  0.97%   │         290         \n",
      "nice                │    29    │  0.97%   │         290         \n",
      "old                 │    28    │  0.93%   │         280         \n",
      "========================= TIME: 21.48s =========================\n",
      "Reservoir size = 6000 (20.00%)\n",
      "- Read 10000/30000 words so far\n",
      "- Read 20000/30000 words so far\n",
      "- Read 30000/30000 words so far\n",
      "word                │ abs_freq │ rel_freq │ E(abs_freq|dataset)\n",
      "────────────────────┼──────────┼──────────┼─────────────────────\n",
      "good                │   217    │  3.62%   │         1085        \n",
      "little              │   153    │  2.55%   │         765         \n",
      "right               │   128    │  2.13%   │         640         \n",
      "other               │   111    │  1.85%   │         555         \n",
      "last                │    99    │  1.65%   │         495         \n",
      "sure                │    92    │  1.53%   │         460         \n",
      "much                │    89    │  1.48%   │         445         \n",
      "sorry               │    81    │  1.35%   │         405         \n",
      "bad                 │    79    │  1.32%   │         395         \n",
      "dead                │    72    │  1.20%   │         360         \n",
      "big                 │    69    │  1.15%   │         345         \n",
      "real                │    67    │  1.12%   │         335         \n",
      "own                 │    65    │  1.08%   │         325         \n",
      "u                   │    63    │  1.05%   │         315         \n",
      "wrong               │    62    │  1.03%   │         310         \n",
      "first               │    57    │  0.95%   │         285         \n",
      "few                 │    56    │  0.93%   │         280         \n",
      "only                │    55    │  0.92%   │         275         \n",
      "old                 │    53    │  0.88%   │         265         \n",
      "next                │    53    │  0.88%   │         265         \n",
      "========================= TIME: 21.07s =========================\n",
      "Reservoir size = 12000 (40.00%)\n",
      "- Read 10000/30000 words so far\n",
      "- Read 20000/30000 words so far\n",
      "- Read 30000/30000 words so far\n",
      "word                │ abs_freq │ rel_freq │ E(abs_freq|dataset)\n",
      "────────────────────┼──────────┼──────────┼─────────────────────\n",
      "good                │   558    │  4.65%   │         1395        \n",
      "little              │   316    │  2.63%   │         790         \n",
      "right               │   235    │  1.96%   │         588         \n",
      "other               │   220    │  1.83%   │         550         \n",
      "last                │   205    │  1.71%   │         513         \n",
      "much                │   193    │  1.61%   │         483         \n",
      "sorry               │   180    │  1.50%   │         450         \n",
      "sure                │   179    │  1.49%   │         448         \n",
      "bad                 │   161    │  1.34%   │         403         \n",
      "dead                │   151    │  1.26%   │         378         \n",
      "real                │   142    │  1.18%   │         355         \n",
      "big                 │   140    │  1.17%   │         350         \n",
      "own                 │   129    │  1.07%   │         323         \n",
      "wrong               │   125    │  1.04%   │         313         \n",
      "great               │   123    │  1.03%   │         308         \n",
      "first               │   120    │  1.00%   │         300         \n",
      "old                 │   114    │  0.95%   │         285         \n",
      "same                │   112    │  0.93%   │         280         \n",
      "new                 │   107    │  0.89%   │         268         \n",
      "only                │   106    │  0.88%   │         265         \n",
      "========================= TIME: 22.30s =========================\n",
      "Reservoir size = 15000 (50.00%)\n",
      "- Read 10000/30000 words so far\n",
      "- Read 20000/30000 words so far\n",
      "- Read 30000/30000 words so far\n",
      "word                │ abs_freq │ rel_freq │ E(abs_freq|dataset)\n",
      "────────────────────┼──────────┼──────────┼─────────────────────\n",
      "good                │   720    │  4.80%   │         1440        \n",
      "little              │   401    │  2.67%   │         802         \n",
      "other               │   284    │  1.89%   │         568         \n",
      "right               │   280    │  1.87%   │         560         \n",
      "last                │   258    │  1.72%   │         516         \n",
      "much                │   244    │  1.63%   │         488         \n",
      "sorry               │   229    │  1.53%   │         458         \n",
      "sure                │   219    │  1.46%   │         438         \n",
      "bad                 │   205    │  1.37%   │         410         \n",
      "big                 │   178    │  1.19%   │         356         \n",
      "dead                │   166    │  1.11%   │         332         \n",
      "real                │   163    │  1.09%   │         326         \n",
      "great               │   152    │  1.01%   │         304         \n",
      "own                 │   150    │  1.00%   │         300         \n",
      "first               │   149    │  0.99%   │         298         \n",
      "wrong               │   146    │  0.97%   │         292         \n",
      "old                 │   141    │  0.94%   │         282         \n",
      "next                │   136    │  0.91%   │         272         \n",
      "same                │   130    │  0.87%   │         260         \n",
      "new                 │   127    │  0.85%   │         254         \n",
      "========================= TIME: 22.96s =========================\n",
      "Reservoir size = 30000 (100.00%)\n",
      "- Read 10000/30000 words so far\n",
      "- Read 20000/30000 words so far\n",
      "- Read 30000/30000 words so far\n",
      "word                │ abs_freq │ rel_freq │ E(abs_freq|dataset)\n",
      "────────────────────┼──────────┼──────────┼─────────────────────\n",
      "good                │   1330   │  4.43%   │         1330        \n",
      "little              │   774    │  2.58%   │         774         \n",
      "right               │   590    │  1.97%   │         590         \n",
      "other               │   555    │  1.85%   │         555         \n",
      "last                │   503    │  1.68%   │         503         \n",
      "much                │   482    │  1.61%   │         482         \n",
      "sure                │   465    │  1.55%   │         465         \n",
      "sorry               │   407    │  1.36%   │         407         \n",
      "big                 │   369    │  1.23%   │         369         \n",
      "old                 │   359    │  1.20%   │         359         \n",
      "bad                 │   356    │  1.19%   │         356         \n",
      "dead                │   337    │  1.12%   │         337         \n",
      "real                │   333    │  1.11%   │         333         \n",
      "wrong               │   326    │  1.09%   │         326         \n",
      "great               │   318    │  1.06%   │         318         \n",
      "first               │   309    │  1.03%   │         309         \n",
      "own                 │   289    │  0.96%   │         289         \n",
      "same                │   265    │  0.88%   │         265         \n",
      "new                 │   256    │  0.85%   │         256         \n",
      "next                │   249    │  0.83%   │         249         \n",
      "========================= TIME: 30.05s =========================\n"
     ]
    }
   ],
   "source": [
    "sizes = [50, 100, 300, 500, 1000, 1500, 2999, 3000, 3001, 6000, 12000, 15000, 30000]\n",
    "\n",
    "for reservoir_size in sizes:\n",
    "    print(f'Reservoir size = {reservoir_size} ({reservoir_size/30000:.2%})')\n",
    "    start = time.time()\n",
    "    (items_seen, reservoir) = reservoir_sampling(\n",
    "        INPUT_FILE, [POS_ADJECTIVE], reservoir_size, max_words=30000, report_every=10000\n",
    "    )\n",
    "\n",
    "    freq = {}\n",
    "    for item in reservoir:\n",
    "        freq[item] = reservoir.count(item)\n",
    "    most_frequent_items = sorted(\n",
    "        [(frequency, word) for word, frequency in freq.items()], reverse=True\n",
    "    )[:20]\n",
    "\n",
    "    print(\n",
    "        '{:<19s} \\u2502 {:<8s} \\u2502 {:<8s} \\u2502 {:<19s}'.format(\n",
    "            'word', 'abs_freq', 'rel_freq', 'E(abs_freq|dataset)'\n",
    "        )\n",
    "    )\n",
    "    print(\n",
    "        '{:\\u2500<20s}\\u253C{:\\u2500<10s}\\u253C{:\\u2500<10s}\\u253C{:\\u2500<21s}'.format(\n",
    "            '', '', '', ''\n",
    "        )\n",
    "    )\n",
    "    for absolute_frequency, word in most_frequent_items:\n",
    "        print(\n",
    "            '{:<19s} \\u2502 {:^8d} \\u2502 {:^8.2%} \\u2502 {:^20d}'.format(\n",
    "                word,\n",
    "                absolute_frequency,\n",
    "                absolute_frequency / reservoir_size,\n",
    "                round(absolute_frequency * items_seen / reservoir_size),\n",
    "            )\n",
    "        )\n",
    "\n",
    "    end = time.time()\n",
    "    print(\n",
    "        '========================= TIME: {:.2f}s ========================='.format(\n",
    "            end - start\n",
    "        )\n",
    "    )"
   ]
  },
  {
   "cell_type": "markdown",
   "metadata": {},
   "source": [
    "Find by trial and error, and include in your report, the minimum reservoir size you need to have somewhat stable results (e.g., the same top-3 words in two consecutive runs of the algorithm).\n",
    "\n",
    "<font size=\"-1\" color=\"gray\">(Remove this cell when delivering.)</font>"
   ]
  },
  {
   "cell_type": "markdown",
   "metadata": {},
   "source": [
    "<font size=\"+1\" color=\"red\">Replace this cell with a brief commentary indicating what reservoir size you would recommend to use, and your overall conclusions.</font>"
   ]
  },
  {
   "cell_type": "markdown",
   "metadata": {},
   "source": [
    "With reservoir size around 3000 the results tend to stabilize.\n",
    "\n",
    "TODO: finish"
   ]
  },
  {
   "cell_type": "markdown",
   "metadata": {},
   "source": [
    "# 2. Determine approximately the distinct number of words"
   ]
  },
  {
   "cell_type": "markdown",
   "metadata": {},
   "source": [
    "We will estimate the number of distinct words without creating a dictionary or hash table, but instead, we will use the Flajolet-Martin probabilistic counting method.\n",
    "\n",
    "**Flajolet-Martin probabilistic counting**:\n",
    "\n",
    "* For several passes\n",
    "   * Create hash funcion h\n",
    "   * For every element *u* in the stream:\n",
    "      * Compute hash value *h(u)*\n",
    "      * Let *r(u)* be the number of trailing zeroes in *h(u)*\n",
    "      * Maintain *R* as the maximum value of *r(u)* seen so far\n",
    "   * Add *2<sup>R</sup>* as an estimate for the number of distinct elements *u* seen\n",
    "* The final estimate is the average or the median of the estimates found in each pass\n",
    "\n",
    "<font size=\"-1\" color=\"gray\">(Remove this cell when delivering.)</font>"
   ]
  },
  {
   "cell_type": "markdown",
   "metadata": {},
   "source": [
    "Use this function to count trailing zeroes in the binary representation of a number.\n",
    "\n",
    "<font size=\"-1\" color=\"gray\">(Remove this cell when delivering.)</font>"
   ]
  },
  {
   "cell_type": "code",
   "execution_count": 13,
   "metadata": {},
   "outputs": [],
   "source": [
    "# Leave this code as-is\n",
    "\n",
    "\n",
    "def count_trailing_zeroes(number):\n",
    "    count = 0\n",
    "    while number & 1 == 0:\n",
    "        count += 1\n",
    "        number = number >> 1\n",
    "    return count"
   ]
  },
  {
   "cell_type": "markdown",
   "metadata": {},
   "source": [
    "Use this function to generate a random hash function. Note this generates a function, so you can do `hash_function = random_hash_function()` and then call `hash_function(x)` to compute the hash value of `x`. \n",
    "\n",
    "We want to make sure each hash is different, so we will create each hash function with a different [salt](https://en.wikipedia.org/wiki/Salt_(cryptography)), which is an additional input that we will take using a good random string generator from the [secrets](https://docs.python.org/3/library/secrets.html) library.\n",
    "\n",
    "<font size=\"-1\" color=\"gray\">(Remove this cell when delivering.)</font>"
   ]
  },
  {
   "cell_type": "code",
   "execution_count": 14,
   "metadata": {},
   "outputs": [],
   "source": [
    "# Leave this code as-is\n",
    "\n",
    "\n",
    "def random_hash_function():\n",
    "    # We use a cryptographically safe generator for the salt of our hash function\n",
    "    salt = secrets.token_bytes(32)\n",
    "    return lambda string: hash(string + str(salt))"
   ]
  },
  {
   "cell_type": "markdown",
   "metadata": {},
   "source": [
    "Perform *number_of_passes* passes over the file, reading the entire file on each pass (we don't use the reservoir in this part). In each pass, create a new hash function and use it to hash userids. Keep the maximum number of trailing zeroes seen in the hash value of a userid. \n",
    "\n",
    "```python\n",
    "number_of_passes = 5\n",
    "estimates = []\n",
    "\n",
    "for i in range(number_of_passes):\n",
    "    # YOUR_CODE_HERE: read the file and generate an estimate\n",
    "    \n",
    "    estimates.append(estimate)\n",
    "    print(\"Estimate on pass %d: %d distinct words\" % (i+1, estimate))\n",
    "```\n",
    "\n",
    "<font size=\"-1\" color=\"gray\">(Remove this cell when delivering.)</font>"
   ]
  },
  {
   "cell_type": "markdown",
   "metadata": {},
   "source": [
    "<font size=\"+1\" color=\"red\">Replace this cell with your code to perform the requested number of passes.</font>"
   ]
  },
  {
   "cell_type": "code",
   "execution_count": 15,
   "metadata": {},
   "outputs": [
    {
     "ename": "NameError",
     "evalue": "name 'estimates' is not defined",
     "output_type": "error",
     "traceback": [
      "\u001b[0;31m---------------------------------------------------------------------------\u001b[0m",
      "\u001b[0;31mNameError\u001b[0m                                 Traceback (most recent call last)",
      "Cell \u001b[0;32mIn[15], line 3\u001b[0m\n\u001b[1;32m      1\u001b[0m \u001b[38;5;66;03m# Leave this code as-is\u001b[39;00m\n\u001b[0;32m----> 3\u001b[0m \u001b[38;5;28mprint\u001b[39m(\u001b[38;5;124m\"\u001b[39m\u001b[38;5;124m* Average of estimates: \u001b[39m\u001b[38;5;132;01m%.1f\u001b[39;00m\u001b[38;5;124m\"\u001b[39m \u001b[38;5;241m%\u001b[39m statistics\u001b[38;5;241m.\u001b[39mmean(\u001b[43mestimates\u001b[49m))\n\u001b[1;32m      4\u001b[0m \u001b[38;5;28mprint\u001b[39m(\u001b[38;5;124m\"\u001b[39m\u001b[38;5;124m* Median  of estimates: \u001b[39m\u001b[38;5;132;01m%.1f\u001b[39;00m\u001b[38;5;124m\"\u001b[39m \u001b[38;5;241m%\u001b[39m statistics\u001b[38;5;241m.\u001b[39mmedian(estimates))\n",
      "\u001b[0;31mNameError\u001b[0m: name 'estimates' is not defined"
     ]
    }
   ],
   "source": [
    "# Leave this code as-is\n",
    "\n",
    "print(\"* Average of estimates: %.1f\" % statistics.mean(estimates))\n",
    "print(\"* Median  of estimates: %.1f\" % statistics.median(estimates))"
   ]
  },
  {
   "cell_type": "markdown",
   "metadata": {},
   "source": [
    "You can increase the limit of words to read (but do not use more than 5 minutes of computing time), and perform the 10 passes. \n",
    "\n",
    "<font size=\"-1\" color=\"gray\">(Remove this cell when delivering.)</font>"
   ]
  },
  {
   "cell_type": "markdown",
   "metadata": {},
   "source": [
    "<font size=\"+1\" color=\"red\">Compute the median of average estimates in 3 separate runs of your algorithm; each run should do 10 passes over the file. Repeat this for nouns (POS_NOUN), adjectives (POS_ADJECTIVE), and verbs (POS_VERB). Replace this cell with the results you obtained in each pass, and whether the average or the median seem more appropriate for this probabilistic counting.</font>"
   ]
  },
  {
   "cell_type": "markdown",
   "metadata": {},
   "source": [
    "# DELIVER (individually)\n",
    "\n",
    "Remember to read the section on \"delivering your code\" in the [course evaluation guidelines](https://github.com/chatox/data-mining-course/blob/master/upf/upf-evaluation.md).\n",
    "\n",
    "Deliver a zip file containing:\n",
    "\n",
    "* This notebook\n",
    "\n",
    "## Extra points available\n",
    "\n",
    "For more learning and extra points, notice that the number of **distinct** words in a corpus, as a function of the **total** number of words in the corpus, follows an empirical law known as [Heap's Law](https://en.wikipedia.org/wiki/Heaps%27_law).\n",
    "\n",
    "Repeat the probabilistic counting experiment for various values of `max_word` and plot the total number of words read versus the number of distinct words (remember to label axes). Check if it follows Heap's law for nouns, verbs, and adjectives.\n",
    "\n",
    "Please note that using probabilistic counting means a substantial amount of noise will be introduced and perhaps the Heap's law will not be clear in your plot.\n",
    "\n",
    "**Note:** if you go for the extra points, add ``<font size=\"+2\" color=\"blue\">Additional results: Heap's law</font>`` at the top of your notebook. \n",
    "\n",
    "<font size=\"-1\" color=\"gray\">(Remove this cell when delivering.)</font>"
   ]
  },
  {
   "cell_type": "markdown",
   "metadata": {},
   "source": [
    "<font size=\"+2\" color=\"#003300\">I hereby declare that, except for the code provided by the course instructors, all of my code, report, and figures were produced by myself.</font>"
   ]
  }
 ],
 "metadata": {
  "kernelspec": {
   "display_name": ".venv",
   "language": "python",
   "name": "python3"
  },
  "language_info": {
   "codemirror_mode": {
    "name": "ipython",
    "version": 3
   },
   "file_extension": ".py",
   "mimetype": "text/x-python",
   "name": "python",
   "nbconvert_exporter": "python",
   "pygments_lexer": "ipython3",
   "version": "3.13.0"
  }
 },
 "nbformat": 4,
 "nbformat_minor": 2
}
