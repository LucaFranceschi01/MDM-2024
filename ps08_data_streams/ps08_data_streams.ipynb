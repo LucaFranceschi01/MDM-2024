{
 "cells": [
  {
   "cell_type": "markdown",
   "metadata": {},
   "source": [
    "# Practice Session 08: Data streams\n",
    "\n",
    "In this session we will take a large corpus of documents and compute some statistics using data streams methods.\n",
    "\n",
    "<font size=\"-1\" color=\"gray\">(Remove this cell when delivering.)</font>"
   ]
  },
  {
   "cell_type": "markdown",
   "metadata": {},
   "source": [
    "Author: <font color=\"blue\">Luca Franceschi</font>\n",
    "\n",
    "E-mail: <font color=\"blue\">luca.franceschi01@estudiant.upf.edu</font>\n",
    "\n",
    "Date: <font color=\"blue\">4/12/2024</font>"
   ]
  },
  {
   "cell_type": "code",
   "execution_count": 1,
   "metadata": {},
   "outputs": [],
   "source": [
    "import io\n",
    "import nltk\n",
    "import gzip\n",
    "import random\n",
    "import statistics\n",
    "import secrets\n",
    "import re\n",
    "import gzip\n",
    "import time"
   ]
  },
  {
   "cell_type": "code",
   "execution_count": 2,
   "metadata": {},
   "outputs": [],
   "source": [
    "# nltk.download('punkt_tab')\n",
    "# nltk.download('averaged_perceptron_tagger_eng')"
   ]
  },
  {
   "cell_type": "markdown",
   "metadata": {},
   "source": [
    "# 0. Dataset and how to iterate"
   ]
  },
  {
   "cell_type": "markdown",
   "metadata": {},
   "source": [
    "The input file contain lines of dialogue of a set of movies from the [Movie Dialog Corpus](https://www.kaggle.com/datasets/Cornell-University/movie-dialog-corpus). We will use the file `movie_lines.tsv` which contains the text of the dialogue, about 3 million words in about 300,000 lines of dialogue.\n",
    "\n",
    "During this practice, **we will never load this file in memory.**\n",
    "\n",
    "<font size=\"-1\" color=\"gray\">(Remove this cell when delivering.)</font>"
   ]
  },
  {
   "cell_type": "code",
   "execution_count": 3,
   "metadata": {},
   "outputs": [],
   "source": [
    "# Leave this code as-is\n",
    "\n",
    "INPUT_FILE = 'movie_lines.tsv.gz'"
   ]
  },
  {
   "cell_type": "markdown",
   "metadata": {},
   "source": [
    "The function `read_by_words` is a [generator](https://wiki.python.org/moin/Generators), that is, a function that behaves as an iterator. This is a common pattern used in stream processing, and in Python is implemented with the `yield` keyword, instead of `return`.\n",
    "\n",
    "<font size=\"-1\" color=\"gray\">(Remove this cell when delivering.)</font>"
   ]
  },
  {
   "cell_type": "code",
   "execution_count": 4,
   "metadata": {},
   "outputs": [],
   "source": [
    "# Leave this code as-is\n",
    "\n",
    "POS_NOUN = 'NN'\n",
    "POS_VERB = 'VB'\n",
    "POS_ADJECTIVE = 'JJ'\n",
    "\n",
    "\n",
    "# Producer in Python that reads a file by words that are nouns\n",
    "def read_by_parts_of_speech(filename, parts_of_speech, max_words=-1, report_every=-1):\n",
    "\n",
    "    # Open the input file\n",
    "    with gzip.open(filename, 'rt', encoding='utf8') as file:\n",
    "\n",
    "        # Initialize counter of words to stop at max_words\n",
    "        counter = 0\n",
    "\n",
    "        # Iterate through lines in the file\n",
    "        for line in file:\n",
    "\n",
    "            elements = line.split('\\t')\n",
    "\n",
    "            text = \"\"\n",
    "            if len(elements) >= 5:\n",
    "                text = elements[4].strip()\n",
    "\n",
    "            if counter > max_words and max_words != -1:\n",
    "                break\n",
    "\n",
    "            for sentence in nltk.sent_tokenize(text):\n",
    "\n",
    "                tagged = nltk.pos_tag(nltk.word_tokenize(sentence))\n",
    "                for word in [part[0] for part in tagged if part[1] in parts_of_speech]:\n",
    "\n",
    "                    counter += 1\n",
    "\n",
    "                    # Report\n",
    "                    if (report_every != -1) and (counter % report_every == 0):\n",
    "                        if max_words == -1:\n",
    "                            print('- Read %d words so far' % (counter))\n",
    "                        else:\n",
    "                            print('- Read %d/%d words so far' % (counter, max_words))\n",
    "\n",
    "                    # Produce the word in lowercase\n",
    "                    yield word.lower()"
   ]
  },
  {
   "cell_type": "markdown",
   "metadata": {},
   "source": [
    "We will do a first pass over the data. Here we will read only the first 30K nouns. Try with a larger limit if your computer is fast, with a lower limit if your computer is slow. Find something that makes one pass take about 30 seconds and use it for development.\n",
    "\n",
    "<font size=\"-1\" color=\"gray\">(Remove this cell when delivering.)</font>"
   ]
  },
  {
   "cell_type": "code",
   "execution_count": 5,
   "metadata": {},
   "outputs": [
    {
     "name": "stdout",
     "output_type": "stream",
     "text": [
      "Current noun 'important'\n",
      "Current noun 'real'\n",
      "Current noun 'nervous'\n",
      "Current noun 'morphine'\n",
      "Current noun 'sir'\n",
      "Current noun 'other'\n",
      "Current noun 'stick'\n",
      "Current noun 'ridiculous'\n",
      "Current noun 'bad'\n",
      "Current noun 'first'\n",
      "- Read 10000/30000 words so far\n",
      "Current noun 'fish'\n",
      "Current noun 'outside'\n",
      "Current noun 'your'\n",
      "Current noun 'global'\n",
      "Current noun 'normal'\n",
      "Current noun 'good'\n",
      "Current noun 'colonial'\n",
      "Current noun 'funny'\n",
      "Current noun 'big'\n",
      "Current noun 'poor'\n",
      "- Read 20000/30000 words so far\n",
      "Current noun 'sixteen'\n",
      "Current noun 'good'\n",
      "Current noun 'good'\n",
      "Current noun 'busy'\n",
      "Current noun 'five-'\n",
      "Current noun 'first'\n",
      "Current noun 'dead'\n",
      "Current noun 'new'\n",
      "Current noun 'brother-in-'\n",
      "Current noun 'long'\n",
      "Current noun 'same'\n",
      "Current noun 'other'\n",
      "- Read 30000/30000 words so far\n"
     ]
    }
   ],
   "source": [
    "for word in read_by_parts_of_speech(\n",
    "    INPUT_FILE, [POS_ADJECTIVE], max_words=30000, report_every=10000\n",
    "):\n",
    "    # Prints 1/1000 of words\n",
    "    if random.random() < 0.001:\n",
    "        print('Current noun \\'%s\\'' % (word))"
   ]
  },
  {
   "cell_type": "markdown",
   "metadata": {},
   "source": [
    "**Tip:** NLTK may complain that you have some missing files. The following commands may help:\n",
    "\n",
    "```python3\n",
    "nltk.download('punkt')\n",
    "nltk.download('averaged_perceptron_tagger_eng')\n",
    "```\n",
    "\n",
    "<font size=\"-1\" color=\"gray\">(Remove this cell when delivering.)</font>"
   ]
  },
  {
   "cell_type": "markdown",
   "metadata": {},
   "source": [
    "# 1. Determine approximately the top-10 words"
   ]
  },
  {
   "cell_type": "markdown",
   "metadata": {},
   "source": [
    "Instead of loading the entire dataset in main memory, we will use reservoir sampling to determine approximately the top-10 words.\n",
    "\n",
    "**Reservoir sampling**: In reservoir sampling, if we have a reservoir of size S:\n",
    "\n",
    "* We store the first S elements of the stream\n",
    "* When the n<sup>th</sup> element arrives (let's call it X<sub>n</sub>):\n",
    "   * With probability 1 - s/n, we ignore this element.\n",
    "   * With probability s/n, we:\n",
    "      * Discard a random element from the reservoir\n",
    "      * Add element X<sub>n</sub> to the reservoir (calling *add_to_reservoir*)\n",
    "      \n",
    "<font size=\"-1\" color=\"gray\">(Remove this cell when delivering.)</font>"
   ]
  },
  {
   "cell_type": "markdown",
   "metadata": {},
   "source": [
    "Implement a function `add_reservoir(reservoir, item, max_size)` that adds an item to the reservoir, maintaining its size. If the reservoir is already of size *max_size*, a random item is selected and evicted *before* adding the item. It is important to evict an old item *before* adding the new item. Use the following skeleton:\n",
    "\n",
    "```python\n",
    "def add_to_reservoir(reservoir, item, max_reservoir_size):\n",
    "    # YOUR CODE HERE\n",
    "    assert(len(reservoir) <= max_reservoir_size)\n",
    "```\n",
    "\n",
    "<font size=\"-1\" color=\"gray\">(Remove this cell when delivering.)</font>"
   ]
  },
  {
   "cell_type": "markdown",
   "metadata": {},
   "source": [
    "<font size=\"+1\" color=\"red\">Replace this cell with your code for \"add_reservoir\"</font>"
   ]
  },
  {
   "cell_type": "code",
   "execution_count": 6,
   "metadata": {},
   "outputs": [],
   "source": [
    "def add_to_reservoir(reservoir: list, item, max_reservoir_size):\n",
    "    if len(reservoir) == max_reservoir_size:\n",
    "        if random.random() < 1 / max_reservoir_size:\n",
    "            reservoir[random.choice(range(max_reservoir_size))] = item\n",
    "    else:\n",
    "        reservoir.append(item)\n",
    "    assert len(reservoir) <= max_reservoir_size"
   ]
  },
  {
   "cell_type": "markdown",
   "metadata": {},
   "source": [
    "Create a function to iterate through the file using the reservoir sampling method seen in class. In this function you will decide, for every item, whether to call *add_to_reservoir* or to ignore the item.\n",
    "\n",
    "You can use the following skeleton:\n",
    "\n",
    "```python\n",
    "def reservoir_sampling(filename, reservoir_size, max_words=-1, report_every=-1):\n",
    "    reservoir = []\n",
    "    \n",
    "    words_read = 0\n",
    "    \n",
    "    for word in read_by_parts_of_speech(filename, max_words=max_words, report_every=report_every):\n",
    "    \n",
    "            # YOUR CODE HERE\n",
    "\n",
    "    return (words_read, reservoir)\n",
    "```\n",
    "\n",
    "<font size=\"-1\" color=\"gray\">(Remove this cell when delivering.)</font>"
   ]
  },
  {
   "cell_type": "markdown",
   "metadata": {},
   "source": [
    "<font size=\"+1\" color=\"red\">Replace this cell with your code for \"reservoir_sampling\"</font>"
   ]
  },
  {
   "cell_type": "code",
   "execution_count": 7,
   "metadata": {},
   "outputs": [],
   "source": [
    "def reservoir_sampling(\n",
    "    filename, parts_of_speech, reservoir_size, max_words=-1, report_every=-1\n",
    "):\n",
    "    reservoir = []\n",
    "\n",
    "    words_read = 0\n",
    "\n",
    "    for word in read_by_parts_of_speech(\n",
    "        filename,\n",
    "        max_words=max_words,\n",
    "        report_every=report_every,\n",
    "        parts_of_speech=parts_of_speech,\n",
    "    ):\n",
    "\n",
    "        add_to_reservoir(reservoir, word, reservoir_size)\n",
    "        words_read += 1\n",
    "\n",
    "    return (words_read, reservoir)"
   ]
  },
  {
   "cell_type": "markdown",
   "metadata": {},
   "source": [
    "Test your function using the following code:\n",
    "\n",
    "<font size=\"-1\" color=\"gray\">(Remove this cell when delivering.)</font>"
   ]
  },
  {
   "cell_type": "code",
   "execution_count": 8,
   "metadata": {},
   "outputs": [
    {
     "name": "stdout",
     "output_type": "stream",
     "text": [
      "- Read 10000/30000 words so far\n",
      "- Read 20000/30000 words so far\n",
      "- Read 30000/30000 words so far\n",
      "Number of items seen    : 30001\n",
      "Number of items sampled : 1500\n"
     ]
    }
   ],
   "source": [
    "# Leave this code as-is\n",
    "\n",
    "reservoir_size = 1500\n",
    "(items_seen, reservoir) = reservoir_sampling(\n",
    "    INPUT_FILE, [POS_ADJECTIVE], reservoir_size, max_words=30000, report_every=10000\n",
    ")\n",
    "\n",
    "print('Number of items seen    : %d' % items_seen)\n",
    "print('Number of items sampled : %d' % len(reservoir))"
   ]
  },
  {
   "cell_type": "markdown",
   "metadata": {},
   "source": [
    "The reservoir contains repeated items. You can compute the absolute frequencies of the top 20 using the following code.\n",
    "\n",
    "<font size=\"-1\" color=\"gray\">(Remove this cell when delivering.)</font>"
   ]
  },
  {
   "cell_type": "code",
   "execution_count": 9,
   "metadata": {},
   "outputs": [
    {
     "name": "stdout",
     "output_type": "stream",
     "text": [
      "60 good\n",
      "33 right\n",
      "33 other\n",
      "32 little\n",
      "29 sure\n",
      "24 last\n",
      "23 real\n",
      "23 bad\n",
      "22 sorry\n",
      "22 much\n",
      "20 own\n",
      "19 great\n",
      "18 big\n",
      "17 only\n",
      "16 first\n",
      "15 wrong\n",
      "14 true\n",
      "14 same\n",
      "14 next\n",
      "14 long\n"
     ]
    }
   ],
   "source": [
    "# Leave this code as-is\n",
    "\n",
    "freq = {}\n",
    "for item in reservoir:\n",
    "    freq[item] = reservoir.count(item)\n",
    "\n",
    "most_frequent_items = sorted(\n",
    "    [(frequency, word) for word, frequency in freq.items()], reverse=True\n",
    ")[:20]\n",
    "\n",
    "for absolute_frequency, word in most_frequent_items:\n",
    "    print('%d %s' % (absolute_frequency, word))"
   ]
  },
  {
   "cell_type": "markdown",
   "metadata": {},
   "source": [
    "Write code to compute the 20 most frequent items in the reservoir and their relative frequencies, as percentages.\n",
    "\n",
    "<font size=\"-1\" color=\"gray\">(Remove this cell when delivering.)</font>"
   ]
  },
  {
   "cell_type": "markdown",
   "metadata": {},
   "source": [
    "<font size=\"+1\" color=\"red\">Replace this cell with your code to print the top items and their relative frequencies</font>"
   ]
  },
  {
   "cell_type": "code",
   "execution_count": 10,
   "metadata": {},
   "outputs": [
    {
     "name": "stdout",
     "output_type": "stream",
     "text": [
      "60 good (4.00%)\n",
      "33 right (2.20%)\n",
      "33 other (2.20%)\n",
      "32 little (2.13%)\n",
      "29 sure (1.93%)\n",
      "24 last (1.60%)\n",
      "23 real (1.53%)\n",
      "23 bad (1.53%)\n",
      "22 sorry (1.47%)\n",
      "22 much (1.47%)\n",
      "20 own (1.33%)\n",
      "19 great (1.27%)\n",
      "18 big (1.20%)\n",
      "17 only (1.13%)\n",
      "16 first (1.07%)\n",
      "15 wrong (1.00%)\n",
      "14 true (0.93%)\n",
      "14 same (0.93%)\n",
      "14 next (0.93%)\n",
      "14 long (0.93%)\n"
     ]
    }
   ],
   "source": [
    "for absolute_frequency, word in most_frequent_items:\n",
    "    print(\n",
    "        '{} {} ({:.2%})'.format(\n",
    "            absolute_frequency, word, absolute_frequency / reservoir_size\n",
    "        )\n",
    "    )"
   ]
  },
  {
   "cell_type": "markdown",
   "metadata": {},
   "source": [
    "If you see an item C times in the reservoir, you can estimate the item appears *C x dataset_size / reservoir_size* times in the entire dataset (*dataset_size* is the size of the entire dataset). \n",
    "\n",
    "For various sizes of the reservoir, e.g., 50, 100, 500, ..., list the top-5 words and your estimate of their frequency in the entire dataset.\n",
    " \n",
    "<font size=\"-1\" color=\"gray\">(Remove this cell when delivering.)</font>"
   ]
  },
  {
   "cell_type": "markdown",
   "metadata": {},
   "source": [
    "<font size=\"+1\" color=\"red\">Increase the max limit of words so that one pass takes about 2-3 minutes to be completed. Replace this cell with your code to try different reservoir sizes. In each case, print your estimate for the relative and absolute frequency of the words in the entire dataset.</font>"
   ]
  },
  {
   "cell_type": "code",
   "execution_count": 11,
   "metadata": {},
   "outputs": [
    {
     "name": "stdout",
     "output_type": "stream",
     "text": [
      "Reservoir size = 50 (0.00%)\n",
      "- Read 10000/50000 words so far\n",
      "- Read 20000/50000 words so far\n",
      "- Read 30000/50000 words so far\n",
      "- Read 40000/50000 words so far\n",
      "- Read 50000/50000 words so far\n",
      "word                │ abs_freq │ rel_freq │ E(abs_freq|dataset)\n",
      "────────────────────┼──────────┼──────────┼─────────────────────\n",
      "old                 │    3     │  6.00%   │        180000       \n",
      "good                │    3     │  6.00%   │        180000       \n",
      "nice                │    2     │  4.00%   │        120000       \n",
      "much                │    2     │  4.00%   │        120000       \n",
      "many                │    2     │  4.00%   │        120000       \n",
      "========================= TIME: 37.86s =========================\n",
      "Reservoir size = 100 (0.00%)\n",
      "- Read 10000/50000 words so far\n",
      "- Read 20000/50000 words so far\n",
      "- Read 30000/50000 words so far\n",
      "- Read 40000/50000 words so far\n",
      "- Read 50000/50000 words so far\n",
      "word                │ abs_freq │ rel_freq │ E(abs_freq|dataset)\n",
      "────────────────────┼──────────┼──────────┼─────────────────────\n",
      "real                │    3     │  3.00%   │        90000        \n",
      "much                │    3     │  3.00%   │        90000        \n",
      "such                │    2     │  2.00%   │        60000        \n",
      "sorry               │    2     │  2.00%   │        60000        \n",
      "right               │    2     │  2.00%   │        60000        \n",
      "========================= TIME: 38.09s =========================\n",
      "Reservoir size = 300 (0.01%)\n",
      "- Read 10000/50000 words so far\n",
      "- Read 20000/50000 words so far\n",
      "- Read 30000/50000 words so far\n",
      "- Read 40000/50000 words so far\n",
      "- Read 50000/50000 words so far\n",
      "word                │ abs_freq │ rel_freq │ E(abs_freq|dataset)\n",
      "────────────────────┼──────────┼──────────┼─────────────────────\n",
      "little              │    10    │  3.33%   │        100000       \n",
      "good                │    10    │  3.33%   │        100000       \n",
      "other               │    8     │  2.67%   │        80000        \n",
      "big                 │    7     │  2.33%   │        70000        \n",
      "own                 │    6     │  2.00%   │        60000        \n",
      "========================= TIME: 38.64s =========================\n",
      "Reservoir size = 500 (0.02%)\n",
      "- Read 10000/50000 words so far\n",
      "- Read 20000/50000 words so far\n",
      "- Read 30000/50000 words so far\n",
      "- Read 40000/50000 words so far\n",
      "- Read 50000/50000 words so far\n",
      "word                │ abs_freq │ rel_freq │ E(abs_freq|dataset)\n",
      "────────────────────┼──────────┼──────────┼─────────────────────\n",
      "good                │    20    │  4.00%   │        120000       \n",
      "little              │    16    │  3.20%   │        96000        \n",
      "right               │    14    │  2.80%   │        84000        \n",
      "other               │    13    │  2.60%   │        78000        \n",
      "sure                │    10    │  2.00%   │        60000        \n",
      "========================= TIME: 39.27s =========================\n",
      "Reservoir size = 1000 (0.03%)\n",
      "- Read 10000/50000 words so far\n",
      "- Read 20000/50000 words so far\n",
      "- Read 30000/50000 words so far\n",
      "- Read 40000/50000 words so far\n",
      "- Read 50000/50000 words so far\n",
      "word                │ abs_freq │ rel_freq │ E(abs_freq|dataset)\n",
      "────────────────────┼──────────┼──────────┼─────────────────────\n",
      "good                │    38    │  3.80%   │        114000       \n",
      "other               │    22    │  2.20%   │        66000        \n",
      "right               │    21    │  2.10%   │        63000        \n",
      "sure                │    20    │  2.00%   │        60000        \n",
      "little              │    18    │  1.80%   │        54000        \n",
      "========================= TIME: 38.09s =========================\n",
      "Reservoir size = 1500 (0.05%)\n",
      "- Read 10000/50000 words so far\n",
      "- Read 20000/50000 words so far\n",
      "- Read 30000/50000 words so far\n",
      "- Read 40000/50000 words so far\n",
      "- Read 50000/50000 words so far\n",
      "word                │ abs_freq │ rel_freq │ E(abs_freq|dataset)\n",
      "────────────────────┼──────────┼──────────┼─────────────────────\n",
      "good                │    59    │  3.93%   │        118000       \n",
      "other               │    33    │  2.20%   │        66000        \n",
      "little              │    32    │  2.13%   │        64000        \n",
      "right               │    31    │  2.07%   │        62000        \n",
      "sure                │    28    │  1.87%   │        56000        \n",
      "========================= TIME: 37.93s =========================\n",
      "Reservoir size = 2999 (0.10%)\n",
      "- Read 10000/50000 words so far\n",
      "- Read 20000/50000 words so far\n",
      "- Read 30000/50000 words so far\n",
      "- Read 40000/50000 words so far\n",
      "- Read 50000/50000 words so far\n",
      "word                │ abs_freq │ rel_freq │ E(abs_freq|dataset)\n",
      "────────────────────┼──────────┼──────────┼─────────────────────\n",
      "good                │   110    │  3.67%   │        110037       \n",
      "little              │    74    │  2.47%   │        74025        \n",
      "right               │    65    │  2.17%   │        65022        \n",
      "u                   │    63    │  2.10%   │        63021        \n",
      "other               │    56    │  1.87%   │        56019        \n",
      "========================= TIME: 37.68s =========================\n",
      "Reservoir size = 3000 (0.10%)\n",
      "- Read 10000/50000 words so far\n",
      "- Read 20000/50000 words so far\n",
      "- Read 30000/50000 words so far\n",
      "- Read 40000/50000 words so far\n",
      "- Read 50000/50000 words so far\n",
      "word                │ abs_freq │ rel_freq │ E(abs_freq|dataset)\n",
      "────────────────────┼──────────┼──────────┼─────────────────────\n",
      "good                │   109    │  3.63%   │        109000       \n",
      "little              │    73    │  2.43%   │        73000        \n",
      "right               │    65    │  2.17%   │        65000        \n",
      "u                   │    63    │  2.10%   │        63000        \n",
      "other               │    55    │  1.83%   │        55000        \n",
      "========================= TIME: 37.60s =========================\n",
      "Reservoir size = 3001 (0.10%)\n",
      "- Read 10000/50000 words so far\n",
      "- Read 20000/50000 words so far\n",
      "- Read 30000/50000 words so far\n",
      "- Read 40000/50000 words so far\n",
      "- Read 50000/50000 words so far\n",
      "word                │ abs_freq │ rel_freq │ E(abs_freq|dataset)\n",
      "────────────────────┼──────────┼──────────┼─────────────────────\n",
      "good                │   109    │  3.63%   │        108964       \n",
      "little              │    74    │  2.47%   │        73975        \n",
      "right               │    64    │  2.13%   │        63979        \n",
      "u                   │    62    │  2.07%   │        61979        \n",
      "other               │    55    │  1.83%   │        54982        \n",
      "========================= TIME: 38.09s =========================\n",
      "Reservoir size = 6000 (0.20%)\n",
      "- Read 10000/50000 words so far\n",
      "- Read 20000/50000 words so far\n",
      "- Read 30000/50000 words so far\n",
      "- Read 40000/50000 words so far\n",
      "- Read 50000/50000 words so far\n",
      "word                │ abs_freq │ rel_freq │ E(abs_freq|dataset)\n",
      "────────────────────┼──────────┼──────────┼─────────────────────\n",
      "good                │   217    │  3.62%   │        108500       \n",
      "little              │   154    │  2.57%   │        77000        \n",
      "right               │   128    │  2.13%   │        64000        \n",
      "other               │   111    │  1.85%   │        55500        \n",
      "last                │   100    │  1.67%   │        50000        \n",
      "========================= TIME: 37.97s =========================\n",
      "Reservoir size = 12000 (0.40%)\n",
      "- Read 10000/50000 words so far\n",
      "- Read 20000/50000 words so far\n",
      "- Read 30000/50000 words so far\n",
      "- Read 40000/50000 words so far\n",
      "- Read 50000/50000 words so far\n",
      "word                │ abs_freq │ rel_freq │ E(abs_freq|dataset)\n",
      "────────────────────┼──────────┼──────────┼─────────────────────\n",
      "good                │   558    │  4.65%   │        139500       \n",
      "little              │   314    │  2.62%   │        78500        \n",
      "right               │   235    │  1.96%   │        58750        \n",
      "other               │   220    │  1.83%   │        55000        \n",
      "last                │   205    │  1.71%   │        51250        \n",
      "========================= TIME: 39.32s =========================\n",
      "Reservoir size = 15000 (0.50%)\n",
      "- Read 10000/50000 words so far\n",
      "- Read 20000/50000 words so far\n",
      "- Read 30000/50000 words so far\n",
      "- Read 40000/50000 words so far\n",
      "- Read 50000/50000 words so far\n",
      "word                │ abs_freq │ rel_freq │ E(abs_freq|dataset)\n",
      "────────────────────┼──────────┼──────────┼─────────────────────\n",
      "good                │   720    │  4.80%   │        144000       \n",
      "little              │   401    │  2.67%   │        80200        \n",
      "other               │   284    │  1.89%   │        56800        \n",
      "right               │   280    │  1.87%   │        56000        \n",
      "last                │   258    │  1.72%   │        51600        \n",
      "========================= TIME: 40.50s =========================\n",
      "Reservoir size = 30000 (1.00%)\n",
      "- Read 10000/50000 words so far\n",
      "- Read 20000/50000 words so far\n",
      "- Read 30000/50000 words so far\n",
      "- Read 40000/50000 words so far\n",
      "- Read 50000/50000 words so far\n",
      "word                │ abs_freq │ rel_freq │ E(abs_freq|dataset)\n",
      "────────────────────┼──────────┼──────────┼─────────────────────\n",
      "good                │   1330   │  4.43%   │        133000       \n",
      "little              │   774    │  2.58%   │        77400        \n",
      "right               │   590    │  1.97%   │        59000        \n",
      "other               │   555    │  1.85%   │        55500        \n",
      "last                │   503    │  1.68%   │        50300        \n",
      "========================= TIME: 48.31s =========================\n",
      "Reservoir size = 50000 (1.67%)\n",
      "- Read 10000/50000 words so far\n",
      "- Read 20000/50000 words so far\n",
      "- Read 30000/50000 words so far\n",
      "- Read 40000/50000 words so far\n",
      "- Read 50000/50000 words so far\n",
      "word                │ abs_freq │ rel_freq │ E(abs_freq|dataset)\n",
      "────────────────────┼──────────┼──────────┼─────────────────────\n",
      "good                │   2172   │  4.34%   │        130320       \n",
      "little              │   1357   │  2.71%   │        81420        \n",
      "right               │   989    │  1.98%   │        59340        \n",
      "other               │   907    │  1.81%   │        54420        \n",
      "last                │   868    │  1.74%   │        52080        \n",
      "========================= TIME: 72.88s =========================\n"
     ]
    }
   ],
   "source": [
    "sizes = [\n",
    "    50,\n",
    "    100,\n",
    "    300,\n",
    "    500,\n",
    "    1000,\n",
    "    1500,\n",
    "    2999,\n",
    "    3000,\n",
    "    3001,\n",
    "    6000,\n",
    "    12000,\n",
    "    15000,\n",
    "    30000,\n",
    "    50000,\n",
    "]\n",
    "top_n = 5\n",
    "dataset_size = 3000000  # from the problem statement\n",
    "max_words = 50000\n",
    "\n",
    "for reservoir_size in sizes:\n",
    "    print(f'Reservoir size = {reservoir_size} ({reservoir_size/dataset_size:.2%})')\n",
    "    start = time.time()\n",
    "    (_, reservoir) = reservoir_sampling(\n",
    "        INPUT_FILE,\n",
    "        [POS_ADJECTIVE],\n",
    "        reservoir_size,\n",
    "        max_words=max_words,\n",
    "        report_every=10000,\n",
    "    )\n",
    "\n",
    "    freq = {}\n",
    "    for item in reservoir:\n",
    "        freq[item] = reservoir.count(item)\n",
    "    most_frequent_items = sorted(\n",
    "        [(frequency, word) for word, frequency in freq.items()], reverse=True\n",
    "    )[:top_n]\n",
    "\n",
    "    print(\n",
    "        '{:<19s} \\u2502 {:<8s} \\u2502 {:<8s} \\u2502 {:<19s}'.format(\n",
    "            'word', 'abs_freq', 'rel_freq', 'E(abs_freq|dataset)'\n",
    "        )\n",
    "    )\n",
    "    print(\n",
    "        '{:\\u2500<20s}\\u253C{:\\u2500<10s}\\u253C{:\\u2500<10s}\\u253C{:\\u2500<21s}'.format(\n",
    "            '', '', '', ''\n",
    "        )\n",
    "    )\n",
    "    for absolute_frequency, word in most_frequent_items:\n",
    "        print(\n",
    "            '{:<19s} \\u2502 {:^8d} \\u2502 {:^8.2%} \\u2502 {:^20d}'.format(\n",
    "                word,\n",
    "                absolute_frequency,\n",
    "                absolute_frequency / reservoir_size,\n",
    "                round(absolute_frequency * dataset_size / reservoir_size),\n",
    "            )\n",
    "        )\n",
    "\n",
    "    end = time.time()\n",
    "    print(\n",
    "        f'========================= TIME: {end - start:.2f}s ========================='\n",
    "    )"
   ]
  },
  {
   "cell_type": "markdown",
   "metadata": {},
   "source": [
    "Find by trial and error, and include in your report, the minimum reservoir size you need to have somewhat stable results (e.g., the same top-3 words in two consecutive runs of the algorithm).\n",
    "\n",
    "<font size=\"-1\" color=\"gray\">(Remove this cell when delivering.)</font>"
   ]
  },
  {
   "cell_type": "markdown",
   "metadata": {},
   "source": [
    "<font size=\"+1\" color=\"red\">Replace this cell with a brief commentary indicating what reservoir size you would recommend to use, and your overall conclusions.</font>"
   ]
  },
  {
   "cell_type": "markdown",
   "metadata": {},
   "source": [
    "The optimal reservoir size may depend on the max_words value, in this case it is about 10% of the total words read (around 3000 elements in the reservoir) the results tend to stabilize. However for even more stable results bigger reservoir sizes may be used. This choice typically depends on the system specifications of the device running this code and how many samples it can handle."
   ]
  },
  {
   "cell_type": "markdown",
   "metadata": {},
   "source": [
    "# 2. Determine approximately the distinct number of words"
   ]
  },
  {
   "cell_type": "markdown",
   "metadata": {},
   "source": [
    "We will estimate the number of distinct words without creating a dictionary or hash table, but instead, we will use the Flajolet-Martin probabilistic counting method.\n",
    "\n",
    "**Flajolet-Martin probabilistic counting**:\n",
    "\n",
    "* For several passes\n",
    "   * Create hash funcion h\n",
    "   * For every element *u* in the stream:\n",
    "      * Compute hash value *h(u)*\n",
    "      * Let *r(u)* be the number of trailing zeroes in *h(u)*\n",
    "      * Maintain *R* as the maximum value of *r(u)* seen so far\n",
    "   * Add *2<sup>R</sup>* as an estimate for the number of distinct elements *u* seen\n",
    "* The final estimate is the average or the median of the estimates found in each pass\n",
    "\n",
    "<font size=\"-1\" color=\"gray\">(Remove this cell when delivering.)</font>"
   ]
  },
  {
   "cell_type": "markdown",
   "metadata": {},
   "source": [
    "Use this function to count trailing zeroes in the binary representation of a number.\n",
    "\n",
    "<font size=\"-1\" color=\"gray\">(Remove this cell when delivering.)</font>"
   ]
  },
  {
   "cell_type": "code",
   "execution_count": 12,
   "metadata": {},
   "outputs": [],
   "source": [
    "# Leave this code as-is\n",
    "\n",
    "\n",
    "def count_trailing_zeroes(number):\n",
    "    count = 0\n",
    "    while number & 1 == 0:\n",
    "        count += 1\n",
    "        number = number >> 1\n",
    "    return count"
   ]
  },
  {
   "cell_type": "markdown",
   "metadata": {},
   "source": [
    "Use this function to generate a random hash function. Note this generates a function, so you can do `hash_function = random_hash_function()` and then call `hash_function(x)` to compute the hash value of `x`. \n",
    "\n",
    "We want to make sure each hash is different, so we will create each hash function with a different [salt](https://en.wikipedia.org/wiki/Salt_(cryptography)), which is an additional input that we will take using a good random string generator from the [secrets](https://docs.python.org/3/library/secrets.html) library.\n",
    "\n",
    "<font size=\"-1\" color=\"gray\">(Remove this cell when delivering.)</font>"
   ]
  },
  {
   "cell_type": "code",
   "execution_count": 13,
   "metadata": {},
   "outputs": [],
   "source": [
    "# Leave this code as-is\n",
    "\n",
    "\n",
    "def random_hash_function():\n",
    "    # We use a cryptographically safe generator for the salt of our hash function\n",
    "    salt = secrets.token_bytes(32)\n",
    "    return lambda string: hash(string + str(salt))"
   ]
  },
  {
   "cell_type": "markdown",
   "metadata": {},
   "source": [
    "Perform *number_of_passes* passes over the file, reading the entire file on each pass (we don't use the reservoir in this part). In each pass, create a new hash function and use it to hash userids. Keep the maximum number of trailing zeroes seen in the hash value of a userid. \n",
    "\n",
    "```python\n",
    "number_of_passes = 5\n",
    "estimates = []\n",
    "\n",
    "for i in range(number_of_passes):\n",
    "    # YOUR_CODE_HERE: read the file and generate an estimate\n",
    "    \n",
    "    estimates.append(estimate)\n",
    "    print(\"Estimate on pass %d: %d distinct words\" % (i+1, estimate))\n",
    "```\n",
    "\n",
    "<font size=\"-1\" color=\"gray\">(Remove this cell when delivering.)</font>"
   ]
  },
  {
   "cell_type": "markdown",
   "metadata": {},
   "source": [
    "<font size=\"+1\" color=\"red\">Replace this cell with your code to perform the requested number of passes.</font>"
   ]
  },
  {
   "cell_type": "code",
   "execution_count": 14,
   "metadata": {},
   "outputs": [
    {
     "name": "stdout",
     "output_type": "stream",
     "text": [
      "- Read 10000/30000 words so far\n",
      "- Read 20000/30000 words so far\n",
      "- Read 30000/30000 words so far\n",
      "Estimate on pass 1: 1024 distinct words\n",
      "- Read 10000/30000 words so far\n",
      "- Read 20000/30000 words so far\n",
      "- Read 30000/30000 words so far\n",
      "Estimate on pass 2: 2048 distinct words\n",
      "- Read 10000/30000 words so far\n",
      "- Read 20000/30000 words so far\n",
      "- Read 30000/30000 words so far\n",
      "Estimate on pass 3: 8192 distinct words\n",
      "- Read 10000/30000 words so far\n",
      "- Read 20000/30000 words so far\n",
      "- Read 30000/30000 words so far\n",
      "Estimate on pass 4: 4096 distinct words\n",
      "- Read 10000/30000 words so far\n",
      "- Read 20000/30000 words so far\n",
      "- Read 30000/30000 words so far\n",
      "Estimate on pass 5: 2048 distinct words\n"
     ]
    }
   ],
   "source": [
    "number_of_passes = 5\n",
    "\n",
    "\n",
    "def probabilistic_counting(\n",
    "    number_of_passes, filename, parts_of_speech, max_words=30000, report_every=10000\n",
    "):\n",
    "    estimates = []\n",
    "\n",
    "    for i in range(number_of_passes):\n",
    "        # YOUR_CODE_HERE: read the file and generate an estimate\n",
    "        hash_function = random_hash_function()\n",
    "        estimate = -1\n",
    "        for word in read_by_parts_of_speech(\n",
    "            filename, parts_of_speech, max_words, report_every\n",
    "        ):\n",
    "            estimate = max(estimate, count_trailing_zeroes(hash_function(word)))\n",
    "        estimate = 2**estimate\n",
    "        estimates.append(estimate)\n",
    "        print('Estimate on pass %d: %d distinct words' % (i + 1, estimate))\n",
    "    return estimates\n",
    "\n",
    "\n",
    "estimates = probabilistic_counting(number_of_passes, INPUT_FILE, [POS_ADJECTIVE])"
   ]
  },
  {
   "cell_type": "code",
   "execution_count": 15,
   "metadata": {},
   "outputs": [
    {
     "name": "stdout",
     "output_type": "stream",
     "text": [
      "* Average of estimates: 3481.6\n",
      "* Median  of estimates: 2048.0\n"
     ]
    }
   ],
   "source": [
    "# Leave this code as-is\n",
    "\n",
    "print('* Average of estimates: %.1f' % statistics.mean(estimates))\n",
    "print('* Median  of estimates: %.1f' % statistics.median(estimates))"
   ]
  },
  {
   "cell_type": "markdown",
   "metadata": {},
   "source": [
    "You can increase the limit of words to read (but do not use more than 5 minutes of computing time), and perform the 10 passes. \n",
    "\n",
    "<font size=\"-1\" color=\"gray\">(Remove this cell when delivering.)</font>"
   ]
  },
  {
   "cell_type": "markdown",
   "metadata": {},
   "source": [
    "<font size=\"+1\" color=\"red\">Compute the median of average estimates in 3 separate runs of your algorithm; each run should do 10 passes over the file. Repeat this for nouns (POS_NOUN), adjectives (POS_ADJECTIVE), and verbs (POS_VERB). Replace this cell with the results you obtained in each pass, and whether the average or the median seem more appropriate for this probabilistic counting.</font>"
   ]
  },
  {
   "cell_type": "code",
   "execution_count": 16,
   "metadata": {},
   "outputs": [
    {
     "name": "stdout",
     "output_type": "stream",
     "text": [
      "Counting NN part of speech\n",
      "Estimate on pass 1: 4096 distinct words\n",
      "Estimate on pass 2: 16384 distinct words\n",
      "Estimate on pass 3: 2048 distinct words\n",
      "Estimate on pass 4: 16384 distinct words\n",
      "Estimate on pass 5: 2048 distinct words\n",
      "Estimate on pass 6: 16384 distinct words\n",
      "Estimate on pass 7: 1024 distinct words\n",
      "Estimate on pass 8: 4096 distinct words\n",
      "Estimate on pass 9: 2048 distinct words\n",
      "Estimate on pass 10: 4096 distinct words\n",
      "============ TIME: 90.28s ============\n",
      "Counting JJ part of speech\n",
      "Estimate on pass 1: 4096 distinct words\n",
      "Estimate on pass 2: 8192 distinct words\n",
      "Estimate on pass 3: 4096 distinct words\n",
      "Estimate on pass 4: 262144 distinct words\n",
      "Estimate on pass 5: 4096 distinct words\n",
      "Estimate on pass 6: 8192 distinct words\n",
      "Estimate on pass 7: 4096 distinct words\n",
      "Estimate on pass 8: 4096 distinct words\n",
      "Estimate on pass 9: 2048 distinct words\n",
      "Estimate on pass 10: 8192 distinct words\n",
      "============ TIME: 219.13s ============\n",
      "Counting VB part of speech\n",
      "Estimate on pass 1: 1024 distinct words\n",
      "Estimate on pass 2: 2048 distinct words\n",
      "Estimate on pass 3: 2048 distinct words\n",
      "Estimate on pass 4: 8192 distinct words\n",
      "Estimate on pass 5: 8192 distinct words\n",
      "Estimate on pass 6: 512 distinct words\n",
      "Estimate on pass 7: 4096 distinct words\n",
      "Estimate on pass 8: 512 distinct words\n",
      "Estimate on pass 9: 1024 distinct words\n",
      "Estimate on pass 10: 1024 distinct words\n",
      "============ TIME: 3933.10s ============\n"
     ]
    }
   ],
   "source": [
    "parts_of_speech = [(POS_NOUN), (POS_ADJECTIVE), (POS_VERB)]\n",
    "number_of_passes = 10\n",
    "\n",
    "estimates = {}\n",
    "\n",
    "for part_of_speech in parts_of_speech:\n",
    "    print(f'Counting {part_of_speech} part of speech')\n",
    "    start = time.time()\n",
    "    estimates[part_of_speech] = probabilistic_counting(\n",
    "        number_of_passes, INPUT_FILE, part_of_speech, report_every=-1\n",
    "    )\n",
    "    end = time.time()\n",
    "    print(f'============ TIME: {end - start:.2f}s ============')"
   ]
  },
  {
   "cell_type": "code",
   "execution_count": 18,
   "metadata": {},
   "outputs": [
    {
     "name": "stdout",
     "output_type": "stream",
     "text": [
      "Statistics for NN part of speech\n",
      "* Average of estimates: 6860.8\n",
      "* Median  of estimates: 4096.0\n",
      "Statistics for JJ part of speech\n",
      "* Average of estimates: 30924.8\n",
      "* Median  of estimates: 4096.0\n",
      "Statistics for VB part of speech\n",
      "* Average of estimates: 2867.2\n",
      "* Median  of estimates: 1536.0\n"
     ]
    }
   ],
   "source": [
    "for key in estimates:\n",
    "    print(f'Statistics for {key} part of speech')\n",
    "    print('* Average of estimates: %.1f' % statistics.mean(estimates[key]))\n",
    "    print('* Median  of estimates: %.1f' % statistics.median(estimates[key]))"
   ]
  },
  {
   "cell_type": "markdown",
   "metadata": {},
   "source": [
    "I would say that the median is more appropiate since there is some small chance that we get a hash function that maps a single word to a number that has a ton of trailing zeros, causing the estimate of a single pass to be a couple of orders of magnitude higher, driving the average to a much higher value than expected. This happens in our run with the NN (nouns) part of speech. We can say that the median is more stable in this probabilistic counting situation."
   ]
  },
  {
   "cell_type": "markdown",
   "metadata": {},
   "source": [
    "# DELIVER (individually)\n",
    "\n",
    "Remember to read the section on \"delivering your code\" in the [course evaluation guidelines](https://github.com/chatox/data-mining-course/blob/master/upf/upf-evaluation.md).\n",
    "\n",
    "Deliver a zip file containing:\n",
    "\n",
    "* This notebook\n",
    "\n",
    "## Extra points available\n",
    "\n",
    "For more learning and extra points, notice that the number of **distinct** words in a corpus, as a function of the **total** number of words in the corpus, follows an empirical law known as [Heap's Law](https://en.wikipedia.org/wiki/Heaps%27_law).\n",
    "\n",
    "Repeat the probabilistic counting experiment for various values of `max_word` and plot the total number of words read versus the number of distinct words (remember to label axes). Check if it follows Heap's law for nouns, verbs, and adjectives.\n",
    "\n",
    "Please note that using probabilistic counting means a substantial amount of noise will be introduced and perhaps the Heap's law will not be clear in your plot.\n",
    "\n",
    "**Note:** if you go for the extra points, add ``<font size=\"+2\" color=\"blue\">Additional results: Heap's law</font>`` at the top of your notebook. \n",
    "\n",
    "<font size=\"-1\" color=\"gray\">(Remove this cell when delivering.)</font>"
   ]
  },
  {
   "cell_type": "markdown",
   "metadata": {},
   "source": [
    "<font size=\"+2\" color=\"#003300\">I hereby declare that, except for the code provided by the course instructors, all of my code, report, and figures were produced by myself.</font>"
   ]
  }
 ],
 "metadata": {
  "kernelspec": {
   "display_name": ".venv",
   "language": "python",
   "name": "python3"
  },
  "language_info": {
   "codemirror_mode": {
    "name": "ipython",
    "version": 3
   },
   "file_extension": ".py",
   "mimetype": "text/x-python",
   "name": "python",
   "nbconvert_exporter": "python",
   "pygments_lexer": "ipython3",
   "version": "3.13.0"
  }
 },
 "nbformat": 4,
 "nbformat_minor": 2
}
