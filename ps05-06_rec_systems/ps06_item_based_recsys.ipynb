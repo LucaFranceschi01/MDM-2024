{
 "cells": [
  {
   "cell_type": "markdown",
   "metadata": {},
   "source": [
    "# Practice PS06: Recommendations engines (interactions-based)"
   ]
  },
  {
   "cell_type": "markdown",
   "metadata": {},
   "source": [
    "For this assignment we will build and apply an item-based and model-based collaborative filtering recommenders for movies. "
   ]
  },
  {
   "cell_type": "markdown",
   "metadata": {},
   "source": [
    "Author: <font color=\"blue\">Your name here</font>\n",
    "\n",
    "E-mail: <font color=\"blue\">Your e-mail here</font>\n",
    "\n",
    "Date: <font color=\"blue\">The current date here</font>"
   ]
  },
  {
   "cell_type": "markdown",
   "metadata": {},
   "source": [
    "# 1. The Movies dataset"
   ]
  },
  {
   "cell_type": "markdown",
   "metadata": {},
   "source": [
    "We will use the same dataset as in ps05, the 25M version of [MovieLens DataSet](https://grouplens.org/datasets/movielens/) released in late 2019. We will use a sub-set containing only movies released in the 2000s, and only 10% of the users and all of their ratings.\n",
    "\n",
    "* **MOVIES** are described in `movies-2000s.csv` in the following format: `movieId,title,genres`.\n",
    "* **RATINGS** are contained in `ratings-2000s.csv` in the following format: `userId,movieId,rating`\n",
    "* **TAGS** are contained in `tags.csv` in the following format: `userId,movieId,tag,timestamp`\n",
    "\n",
    "<font size=\"-1\" color=\"gray\">(Remove this cell when delivering.)</font>"
   ]
  },
  {
   "cell_type": "markdown",
   "metadata": {},
   "source": [
    "# 1.1. Load the input files"
   ]
  },
  {
   "cell_type": "code",
   "execution_count": null,
   "metadata": {},
   "outputs": [],
   "source": [
    "# Leave this code as-is\n",
    "\n",
    "import numpy as np\n",
    "import pandas as pd \n",
    "import matplotlib.pyplot as plt\n",
    "from math import*\n",
    "from scipy.sparse.linalg import svds\n",
    "from sklearn.metrics.pairwise import linear_kernel"
   ]
  },
  {
   "cell_type": "code",
   "execution_count": null,
   "metadata": {},
   "outputs": [],
   "source": [
    "# Leave this code as-is\n",
    "\n",
    "FILENAME_MOVIES = \"movies-2000s.csv\"\n",
    "FILENAME_RATINGS = \"ratings-2000s.csv\"\n",
    "FILENAME_TAGS = \"tags-2000s.csv\""
   ]
  },
  {
   "cell_type": "code",
   "execution_count": null,
   "metadata": {},
   "outputs": [],
   "source": [
    "# Leave this code as-is\n",
    "\n",
    "movies = pd.read_csv(FILENAME_MOVIES, \n",
    "                    sep=',', \n",
    "                    engine='python', \n",
    "                    encoding='latin-1',\n",
    "                    names=['movie_id', 'title', 'genres'])\n",
    "display(movies.head(5))\n",
    "\n",
    "ratings_raw = pd.read_csv(FILENAME_RATINGS, \n",
    "                    sep=',', \n",
    "                    encoding='latin-1',\n",
    "                    engine='python',\n",
    "                    names=['user_id', 'movie_id', 'rating'])\n",
    "display(ratings_raw.head(5))"
   ]
  },
  {
   "cell_type": "markdown",
   "metadata": {},
   "source": [
    "# 1.2. Merge the data into a single dataframe"
   ]
  },
  {
   "cell_type": "markdown",
   "metadata": {},
   "source": [
    "Join the data into a single dataframe that should contain columns: user_id, movie_id, rating, timestamp, title, genders.\n",
    "\n",
    "<font size=\"-1\" color=\"gray\">(Remove this cell when delivering.)</font>"
   ]
  },
  {
   "cell_type": "markdown",
   "metadata": {},
   "source": [
    "<font size=\"+1\" color=\"red\">Replace this cell with your code from the previous practice that joined these three dataframes using \"merge\" into a single dataframe named \"ratings\". Print the first 5 rows of the resulting dataframe, which should contain columns \"user_id\", \"movie_id\", \"rating\", \"title\", and \"genres\".</font>"
   ]
  },
  {
   "cell_type": "markdown",
   "metadata": {},
   "source": [
    "<font size=\"+1\" color=\"red\">Replace this cell with your code from the previous practice for \"find_movies\" that list movies containing a keyword</font>"
   ]
  },
  {
   "cell_type": "code",
   "execution_count": null,
   "metadata": {},
   "outputs": [],
   "source": [
    "# LEAVE AS-IS\n",
    "\n",
    "# For testing, this should print 9 movies\n",
    "find_movies(\"Spider-Man\", movies)"
   ]
  },
  {
   "cell_type": "markdown",
   "metadata": {},
   "source": [
    "The following function, which you can leave as-is, prints the title of a movie given its movie_id.\n",
    "\n",
    "<font size=\"-1\" color=\"gray\">(Remove this cell when delivering.)</font>"
   ]
  },
  {
   "cell_type": "code",
   "execution_count": null,
   "metadata": {},
   "outputs": [],
   "source": [
    "# LEAVE AS-IS\n",
    "\n",
    "def get_title(movie_id, movies):\n",
    "    return movies[movies['movie_id'] == movie_id].title.iloc[0]"
   ]
  },
  {
   "cell_type": "code",
   "execution_count": null,
   "metadata": {},
   "outputs": [],
   "source": [
    "# LEAVE AS-IS\n",
    "\n",
    "# For testing, should print \"Spider-Man 2 (2004)\"\n",
    "print(get_title(8636, movies))"
   ]
  },
  {
   "cell_type": "markdown",
   "metadata": {},
   "source": [
    "## 1.3. Count unique registers"
   ]
  },
  {
   "cell_type": "markdown",
   "metadata": {},
   "source": [
    "Count the number of unique users and unique movies in the `ratings` variable. Use [unique()](https://pandas.pydata.org/pandas-docs/stable/reference/api/pandas.unique.html). Print also the total number of movies in the `movies` variable. Your code should print:\n",
    "\n",
    "```\n",
    "Number of users who have rated a movie : 12676\n",
    "Number of movies that have been rated  : 2049\n",
    "Total number of movies                 : 33168\n",
    "```\n",
    "\n",
    "Note that ratings are heavily concentrated on a few popular movies.\n",
    "\n",
    "<font size=\"-1\" color=\"gray\">(Remove this cell when delivering.)</font>"
   ]
  },
  {
   "cell_type": "markdown",
   "metadata": {},
   "source": [
    "<font size=\"+1\" color=\"red\">Replace this cell with your own code to indicate the number of unique users and unique movies in the \"ratings\" variable.</font>"
   ]
  },
  {
   "cell_type": "markdown",
   "metadata": {},
   "source": [
    "# 2. Item-based Collaborative Filtering"
   ]
  },
  {
   "cell_type": "markdown",
   "metadata": {},
   "source": [
    "The two main types of interactions-based recommender system, also known as *collaborative filtering* algorithms are:\n",
    "\n",
    "1. **User-based Collaborative Filtering**: To recommend items for user A, we first look at other users B1, B2, ..., Bk with a similar behavior to A, and aggregate their preferences. For instance, if all Bi like a movie that A has not watched, it would be a good candidate to be recommended. \n",
    "\n",
    "\n",
    "2. **Item-based Collaborative Filtering**: To recommend items for user A, we first look at all the items I1, I2, ..., Ik that the user A has consumed, and find items that elicit similar ratings from other users. For instnce, an item that is rated positively by the same users that rate positively the Ii items, and negatively by the same users that rate negatively the Ii items, would be a good candidate to be recommended.\n",
    "\n",
    "In both cases, a similarity matrix needs to be built. For user-based, the **user-similarity matrix** will consist of some **distance metrics** that measure the similarity between any two pairs of users. For item-based, the **matrix** will measure the similarity between any two pairs of items.\n",
    "\n",
    "As we already know, there are several metrics strategy for measure the \"similarity\" of two items. Some of the most used metrics are Jaccard, Cosine and Pearson. Meanwhile, Jaccard similarity is based on the number of users which have rated item A and B divided by the number of users who have rated either A or B (very useful for those use cases where there is not a numeric rating but just a boolean value like a product being bought), in Pearson and Cosine similarities we measure the similarity between two vectors.\n",
    "\n",
    "For the purpose of this assignment, we will use **Pearson Similarity** and we will implement a **Item-based Collaborative filtering**.\n",
    "\n",
    "<font size=\"-1\" color=\"gray\">(Remove this cell when delivering.)</font>"
   ]
  },
  {
   "cell_type": "markdown",
   "metadata": {},
   "source": [
    "## 2.1. Data pre-processing"
   ]
  },
  {
   "cell_type": "markdown",
   "metadata": {},
   "source": [
    "Firstly, create a new dataframe called \"rated_movies\" that is simply the \"ratings\" dataset with column genres removed using the [Drop](https://pandas.pydata.org/pandas-docs/stable/reference/api/pandas.DataFrame.drop.html) function.\n",
    "\n",
    "<font size=\"-1\" color=\"gray\">(Remove this cell when delivering.)</font>"
   ]
  },
  {
   "cell_type": "markdown",
   "metadata": {},
   "source": [
    "<font size=\"+1\" color=\"red\">Replace this cell with your code to generate \"rated_movies\" and print the first ten rows. This should have columns user_id, movie_id, rating, title</font>"
   ]
  },
  {
   "cell_type": "markdown",
   "metadata": {},
   "source": [
    "Now, using the `rated_movies` dataframe, create a new dataframe named `ratings_summary` containing the following columns:\n",
    "\n",
    "* movie_id\n",
    "* title\n",
    "* ratings_mean (average rating)\n",
    "* ratings_count (number of people who have rated this movie)\n",
    "\n",
    "You can use the following operations:\n",
    "\n",
    "* Initialize `ratings_summary` to be only the movie_id and title of all movies in `rated_movies`\n",
    "   * To group dataframe `df` by column `a` and keep only one unique row per value of `a`, use: `df.groupby('a').first()`\n",
    "* Compute two series: `ratings_mean` and `ratings_count`:\n",
    "   * To obtain a series with the average of column `a` for each distinct value of column `b` in dataframe `df`, use: `df.groupby(b)['a'].mean()`\n",
    "   * To obtain a series with the count of column `a` for each distinct value of column `b` in dataframe `df`, use: `df.groupby(b)['a'].count()`\n",
    "* Add these series to the `ratings_summary`\n",
    "   * To add a series `s` with column name `a` to dataframe `df`, use: `df['a'] = s`\n",
    "    \n",
    "<font size=\"-1\" color=\"gray\">(Remove this cell when delivering.)</font>"
   ]
  },
  {
   "cell_type": "markdown",
   "metadata": {},
   "source": [
    "<font size=\"+1\" color=\"red\">Replace this cell with your code to generate \"ratings_summary\" and print the first 10 rows.</font>"
   ]
  },
  {
   "cell_type": "markdown",
   "metadata": {},
   "source": [
    "To select from dataframe A those having column C larger or equal to N, you can do `A[A.C >= N]`.\n",
    "\n",
    "To sort dataframe A by decreasing values of column C, you can do `A.sort_values(by='C', ascending=False)`.\n",
    "\n",
    "<font size=\"-1\" color=\"gray\">(Remove this cell when delivering.)</font>"
   ]
  },
  {
   "cell_type": "markdown",
   "metadata": {},
   "source": [
    "<font size=\"+1\" color=\"red\">Replace this cell with code to print the top 5 highest rated movies, considering only movies receiving at least 100 ratings.</font>"
   ]
  },
  {
   "cell_type": "markdown",
   "metadata": {},
   "source": [
    "<font size=\"+1\" color=\"red\">Repeat this, but this time consider movies receiving at least 3 ratings.</font>"
   ]
  },
  {
   "cell_type": "markdown",
   "metadata": {},
   "source": [
    "<font size=\"+1\" color=\"red\">Replace this cell with a brief commentary, in your own words, on what happens when the number of ratings is set to a small value.</font>"
   ]
  },
  {
   "cell_type": "markdown",
   "metadata": {},
   "source": [
    "## 2.2. Compute the user-movie matrix"
   ]
  },
  {
   "cell_type": "markdown",
   "metadata": {},
   "source": [
    "Before calculating the **similarity matrix**, we create a table where columns are movies and rows are users, and each movie-user cell contains the score of that user for that movie.\n",
    "\n",
    "We will use the [pivot_table](https://pandas.pydata.org/pandas-docs/stable/reference/api/pandas.pivot_table.html) function of Pandas, which receives a dataframe plus the variable that will make the rows, the variable that will make the columns, and the variable that will make the cells, and transform it into a matrix of the specified rows, columns, and cells.\n",
    "\n",
    "For instance, if you have a dataframe D containing:\n",
    "\n",
    "```\n",
    "U V W\n",
    "1 a 3.0\n",
    "1 b 2.0\n",
    "2 a 1.0\n",
    "2 c 4.0\n",
    "```\n",
    "\n",
    "Calling `D.pivot_table(index='U', columns='V', values='W')` will create the following:\n",
    "\n",
    "```\n",
    "V  a   b   c\n",
    "U\n",
    "1 3.0 2.0 NaN\n",
    "2 1.0 NaN 4.0\n",
    "```\n",
    "\n",
    "<font size=\"-1\" color=\"gray\">(Remove this cell when delivering.)</font>"
   ]
  },
  {
   "cell_type": "markdown",
   "metadata": {},
   "source": [
    "<font size=\"+1\" color=\"red\">Replace this cell with code to generate a \"user_movie\" matrix by calling \"pivot_table\" on \"rated_movies\". Print the first 5 rows. It might take about one minute to compute, depending on your computer.</font>"
   ]
  },
  {
   "cell_type": "markdown",
   "metadata": {},
   "source": [
    "<font size=\"+1\" color=\"red\">Replace this a brief commentary indicating why do you think the \"user_movie\" matrix has so many \"NaN\" values. How do we call this characteristic of user ratings in recommender systems?</font>"
   ]
  },
  {
   "cell_type": "markdown",
   "metadata": {},
   "source": [
    "# 2.3. Explore some correlations in the user-movie matrix"
   ]
  },
  {
   "cell_type": "markdown",
   "metadata": {},
   "source": [
    "Now let us explore whether correlations in this matrix make sense.\n",
    "\n",
    "1. Locate the movie_id for the following three movies:\n",
    "  * [Lord of the Rings: The Fellowship of the Ring (2001)](https://en.wikipedia.org/wiki/The_Lord_of_the_Rings:_The_Fellowship_of_the_Ring) -- name this id_pivot\n",
    "  * [Finding Nemo (2003)](https://en.wikipedia.org/wiki/Finding_Nemo) -- name this id_m1\n",
    "  * [Talk to Her (Hable con Ella) (2002)](https://en.wikipedia.org/wiki/Talk_to_Her) -- name this id_m2\n",
    "2. Obtain the ratings for each of these movies: `user_movie[movie_id].dropna()`. You will obtain a column, containing a series of ratings for each movie.\n",
    "3. Consolidate these four series into a single dataframe: `ratings3 = pd.concat([s1, s2, s3], axis=1)`\n",
    "4. Drop from `ratings3` all rows containing a *NaN*. This will keep only the users that have rated all the 3 movies.\n",
    "5. Display the first 10 rows from this table.\n",
    "\n",
    "<font size=\"-1\" color=\"gray\">(Remove this cell when delivering.)</font>"
   ]
  },
  {
   "cell_type": "markdown",
   "metadata": {},
   "source": [
    "<font size=\"+1\" color=\"red\">Replace this cell with code to compute and display the first 10 rows of the \"ratings3\" table as described above.</font>"
   ]
  },
  {
   "cell_type": "markdown",
   "metadata": {},
   "source": [
    "To compute Pearson correlation, we use the [corr](https://pandas.pydata.org/pandas-docs/stable/reference/api/pandas.Series.corr.html) method.\n",
    "\n",
    "To compute the correlation between two columns `a`, `b` in dataframe `df`, we use: `df[a].corr(df[b])`.\n",
    "\n",
    "Compute the correlations between all pairs of columns of the `ratings3` table. You should display:\n",
    "\n",
    "```\n",
    "Similarity between 'Lord of the Rings: The Fellowship of the Ring, The (2001)' and 'Finding Nemo (2003)': 0.38\n",
    "Similarity between 'Lord of the Rings: The Fellowship of the Ring, The (2001)' and 'Talk to Her (Hable con Ella) (2002)': 0.16\n",
    "Similarity between 'Finding Nemo (2003)' and 'Talk to Her (Hable con Ella) (2002)': 0.20\n",
    "```\n",
    "\n",
    "<font size=\"-1\" color=\"gray\">(Remove this cell when delivering.)</font>"
   ]
  },
  {
   "cell_type": "markdown",
   "metadata": {},
   "source": [
    "<font size=\"+1\" color=\"red\">Replace this cell with code to compute all correlations between these three movies, as described above.</font>"
   ]
  },
  {
   "cell_type": "markdown",
   "metadata": {},
   "source": [
    "<font size=\"+1\" color=\"red\">Replace this cell with a brief commentary on the correlations you find.</font>"
   ]
  },
  {
   "cell_type": "markdown",
   "metadata": {},
   "source": [
    "Now let us take the first movie selected above, the one with movie_id `id_pivot`.\n",
    "\n",
    "Select the column corresponding to this movie in `user_movies` and compute its correlation with all other columns in `user_movies`. This can be done with  [corrwith](https://pandas.pydata.org/pandas-docs/stable/reference/api/pandas.DataFrame.corrwith.html).\n",
    "\n",
    "To extract the ratings for a movie into a dataframe containing a single column \"rating\", you can use:\n",
    "\n",
    "```\n",
    "df = pd.DataFrame(user_movie[id_movie].dropna()).rename(columns={id_movie: \"rating\"})\n",
    "```\n",
    "\n",
    "To compute the correlation between two single-column dataframes `df1` and `df2`, you can use:\n",
    "\n",
    "```\n",
    "corr = df1.corrwith(df2)[0]\n",
    "```\n",
    "\n",
    "Store the result in a new dataframe named `similarity_to_pivot` containing two columns: `movie_id` and `corr_with_pivot`.\n",
    "\n",
    "<font size=\"-1\" color=\"gray\">(Remove this cell when delivering.)</font>"
   ]
  },
  {
   "cell_type": "markdown",
   "metadata": {},
   "source": [
    "<font size=\"+1\" color=\"red\">Replace this cell with code to create a \"similarity_to_pivot\" series that contains the computed correlations, droping the NaNs in the series.</font>"
   ]
  },
  {
   "cell_type": "markdown",
   "metadata": {},
   "source": [
    "Next, create a dataframe `corr_with_pivot` by using `similarity_to_pivot` and `ratings_summary`. This dataframe should have the following columns:\n",
    "\n",
    "* movie_id\n",
    "* corr_with_pivot - the correlation between movies movie_id and id_pivot\n",
    "* title\n",
    "* ratings_mean\n",
    "* ratings_count\n",
    "\n",
    "Keep only rows in which *ratings_count* > 500, i.e., popular movies. To filter a dataframe `df` and keep only rows having column `c` larger than `x`, use `df[df[c] > x]`.\n",
    "\n",
    "Display the top 10 rows with the largest correlation. To select the largest `n` rows from dataframe `df` according to column `c`, use `df.sort_values(c, ascending=False).head(n)`. \n",
    "\n",
    "<font size=\"-1\" color=\"gray\">(Remove this cell when delivering.)</font>"
   ]
  },
  {
   "cell_type": "markdown",
   "metadata": {},
   "source": [
    "<font size=\"+1\" color=\"red\">Replace this cell with code to create a \"corr_with_pivot\" dataframe as specified above, and to print the 20 movies (rated 500 times or more) with the highest correlation with the selected movie.</font>"
   ]
  },
  {
   "cell_type": "markdown",
   "metadata": {},
   "source": [
    "<font size=\"+1\" color=\"red\">Replace this cell with a brief commentary about the movies you see on this list. What happens if you set the condition on *ratings_count* to a much larger value? What happens if you set it to a much smaller value?</font>"
   ]
  },
  {
   "cell_type": "markdown",
   "metadata": {},
   "source": [
    "# 2.4. Implement the item-based recommendations"
   ]
  },
  {
   "cell_type": "markdown",
   "metadata": {},
   "source": [
    "Now that we believe that this type of correlation sort of makes sense, let us implement the item-based recommender. We need all correlations between columns in `user_movie`.\n",
    "\n",
    "To compute all correlations between columns in a dataframe, use [corr](https://pandas.pydata.org/pandas-docs/stable/reference/api/pandas.DataFrame.corr.html). This function receives a matrix with *r* rows and *c* columns, and returns a square matrix of *c x c* containing all pair-wise correlations between columns.\n",
    "\n",
    "**This process may take a few minutes.** Print the first 5 rows of the resulting matrix when done.\n",
    "\n",
    "<font size=\"-1\" color=\"gray\">(Remove this cell when delivering.)</font>"
   ]
  },
  {
   "cell_type": "markdown",
   "metadata": {},
   "source": [
    "<font size=\"+1\" color=\"red\">Replace this cell with your code to compute all correlations between columns (movies) in the matrix user_movie. Store this in \"item_similarity\", and print the first 10 rows.</font>"
   ]
  },
  {
   "cell_type": "markdown",
   "metadata": {},
   "source": [
    "Similarities between movies that do not have many ratings in common are unreliable. Fortunately, the `corr` method includes a parameter `min_periods` that establishes a minimum number of elements in common that two columns must have to compute the correlation.\n",
    "\n",
    "Re-generate item_similarity setting min_periods to 100.\n",
    "\n",
    "This process will also take a few minutes. Print the first 5 rows of the resulting matrix when done.\n",
    "\n",
    "<font size=\"-1\" color=\"gray\">(Remove this cell when delivering.)</font>"
   ]
  },
  {
   "cell_type": "markdown",
   "metadata": {},
   "source": [
    "<font size=\"+1\" color=\"red\">Replace this cell with your code to compute all correlations between columns (movies) in the matrix user_movie, but considering only movies having at least 100 ratings in common. Store this in \"item_similarity_min_ratings\"</font>"
   ]
  },
  {
   "cell_type": "markdown",
   "metadata": {},
   "source": [
    "We will need to test our function so let us select a couple of interesting users.\n",
    "\n",
    "Our first user, `user_id_super` will be someone who has given the following 3 films a rating higher than 4.5:\n",
    "\n",
    "* movie_id=5349: *Spider-Man (2002)*\n",
    "* movie_id=3793: *X-Men (2000)*\n",
    "* movie_id=6534: *Hulk (2003)* \t\n",
    "\n",
    "Our second user, `user_id_drama` will be someone who has given the following 3 films a rating higher than 4.5:\n",
    "\n",
    "* movie_id=6870: *Mystic River (2003)*\n",
    "* movie_id=5995: *Pianist, The (2002)*\n",
    "* movie_id=3555: *U-571 (2000)*\n",
    "\n",
    "To filter a dataframe by multiple conditions you can use, e.g., `df[(a > 1) & (b > 2)]`. \n",
    "\n",
    "**Important**: these particular users have watched lots of movies, so we cannot tell for sure they have only these interests.\n",
    "\n",
    "<font size=\"-1\" color=\"gray\">(Remove this cell when delivering.)</font>"
   ]
  },
  {
   "cell_type": "markdown",
   "metadata": {},
   "source": [
    "<font size=\"+1\" color=\"red\">Replace this cell with your code to find the userids of two example users: user_id_super (the who liked the three superhero movies), and user_id_drama (the one who liked the three dramas)</font>"
   ]
  },
  {
   "cell_type": "markdown",
   "metadata": {},
   "source": [
    "We will need some auxiliary functions that are provided below. You can leave as-is.\n",
    "\n",
    "<font size=\"-1\" color=\"gray\">(Remove this cell when delivering.)</font>"
   ]
  },
  {
   "cell_type": "code",
   "execution_count": null,
   "metadata": {},
   "outputs": [],
   "source": [
    "# Leave this code as-is\n",
    "\n",
    "# Gets a list of watched movies for a user_id\n",
    "def get_watched_movies(user_id, user_movie):\n",
    "    return list(user_movie.loc[user_id].dropna().sort_values(ascending=False).index)\n",
    "    \n",
    "# Gets the rating a user_id has given to a movie_id\n",
    "def get_rating(user_id, movie_id, user_movie):\n",
    "    return user_movie[movie_id][user_id]\n",
    "\n",
    "# Print watched movies\n",
    "def print_watched_movies(user_id, user_movie, movies):\n",
    "    for movie_id in get_watched_movies(user_id, user_movie):\n",
    "        print(\"%d %.1f %s \" %\n",
    "          (movie_id, get_rating(user_id, movie_id, user_movie), get_title(movie_id, movies)))\n"
   ]
  },
  {
   "cell_type": "code",
   "execution_count": null,
   "metadata": {},
   "outputs": [],
   "source": [
    "# LEAVE AS-IS (TESTING CODE)\n",
    "\n",
    "print_watched_movies(user_id_super, user_movie, movies)"
   ]
  },
  {
   "cell_type": "code",
   "execution_count": null,
   "metadata": {},
   "outputs": [],
   "source": [
    "# LEAVE AS-IS (TESTING CODE)\n",
    "\n",
    "print_watched_movies(user_id_drama, user_movie, movies)"
   ]
  },
  {
   "cell_type": "markdown",
   "metadata": {},
   "source": [
    "For every user, we will consider that the importance of a new movie (a movie s/he has not rated) will be equal to the sum of the similarities between that new movie and all the movies the user has already rated.\n",
    "\n",
    "Indeed, to further improve this, we will compute a weighted sum, in which the weight will be the rating given to the movie.\n",
    "\n",
    "For instance, suppose a user has rated movies as follows:\n",
    "\n",
    "```\n",
    "movie_id rating\n",
    "1        2.0\n",
    "2        3.0\n",
    "3        NaN\n",
    "4        NaN\n",
    "```\n",
    "\n",
    "And that movie similarities are as follows (values with a \".\" do not matter in this example):\n",
    "\n",
    "```\n",
    "movie_id   1   2   3   4\n",
    "1         ...............\n",
    "2         ...............\n",
    "3         0.1 0.2 NaN ...\n",
    "4         0.9 0.8 ... NaN\n",
    "```\n",
    "\n",
    "The importance of movie 3 to this user will be:\n",
    "\n",
    "```\n",
    "2.0 * 0.1 + 3.0 * 0.2 = 0.8\n",
    "```\n",
    "\n",
    "While the importance of movie 4 to this user will be:\n",
    "\n",
    "```\n",
    "2.0 * 0.9 + 3.0 + 0.8 = 5.6\n",
    "```\n",
    "\n",
    "As we can see, we are favoring movies that are highly similar to many movies that the user has rated high.\n",
    "\n",
    "<font size=\"-1\" color=\"gray\">(Remove this cell when delivering.)</font>"
   ]
  },
  {
   "cell_type": "markdown",
   "metadata": {},
   "source": [
    "Create a function `get_movies_relevance` that returns a dataframe with columns `movie_id` and `relevance`. You can use the following template:\n",
    "\n",
    "```python\n",
    "def get_movies_relevance(user_id, user_movie, item_similarity_matrix):\n",
    "    \n",
    "    # Create an empty series\n",
    "    movies_relevance = ...\n",
    "    \n",
    "    # Iterate through the movies the user has watched\n",
    "    for watched_movie in ...\n",
    "        \n",
    "        # Obtain the rating given\n",
    "        rating_given = ...\n",
    "        \n",
    "        # Obtain the vector containing the similarities of watched_movie\n",
    "        # with all other movies in item_similarity_matrix\n",
    "        similarities = ...\n",
    "        \n",
    "        # Multiply this vector by the given rating\n",
    "        weighted_similarities = ...\n",
    "        \n",
    "        # Append these terms to movies_relevance\n",
    "        movies_relevance = pd.concat([movies_relevance, weighted_similarities])\n",
    "    \n",
    "    # Compute the sum for each movie\n",
    "    movies_relevance = movies_relevance.groupby(movies_relevance.index).sum()\n",
    "    \n",
    "    # Convert to a dataframe\n",
    "    movies_relevance_df = pd.DataFrame(movies_relevance, columns=['relevance'])\n",
    "    movies_relevance_df['movie_id'] = movies_relevance_df.index\n",
    "    \n",
    "    return movies_relevance_df\n",
    "\n",
    "```\n",
    "\n",
    "<font size=\"-1\" color=\"gray\">(Remove this cell when delivering.)</font>"
   ]
  },
  {
   "cell_type": "markdown",
   "metadata": {},
   "source": [
    "<font size=\"+1\" color=\"red\">Replace this cell with your code for \"get_movies_relevance\"</font>"
   ]
  },
  {
   "cell_type": "markdown",
   "metadata": {},
   "source": [
    "Apply `get_movies_relevance` to the two users we have selected, `user_id_super` and `user_id_drama`.\n",
    "\n",
    "The result will contain only `movie_id` and `relevance`, you will have to merge with the `movies` dataframe on the `movie_id` attribute.\n",
    "\n",
    "Sort the results by descending relevance and print the top 10 for each case.\n",
    "\n",
    "<font size=\"-1\" color=\"gray\">(Remove this cell when delivering.)</font>"
   ]
  },
  {
   "cell_type": "markdown",
   "metadata": {},
   "source": [
    "<font size=\"+1\" color=\"red\">Replace this cell with your code to obtain the 5 most relevant movies for the users user_id_super (who likes superhero movies) and user_id_drama (who likes dramas)</font>"
   ]
  },
  {
   "cell_type": "markdown",
   "metadata": {},
   "source": [
    "<font size=\"+1\" color=\"red\">Replace this cell with a brief commentary on the movies you see on these lists. How many of them look relevant for the intended users? Feel free to use IMDB or Wikipedia to get info on these movies.</font>\n",
    "\n",
    "<font size=\"-1\" color=\"gray\">All those trivial facts you learned about 1980s and 1990s pop culture were supposed to be useful one day; that day has arrived :-)</font>"
   ]
  },
  {
   "cell_type": "markdown",
   "metadata": {},
   "source": [
    "Finally, you only need to remove the movies the user has watched. To do so:\n",
    "\n",
    "* Obtain the dataframe of relevant movies with `get_movies_relevance`\n",
    "* Set this dataframe index to 'movie_id'\n",
    "* Obtain the list of movie_ids of watched movies with `get_watched_movies`\n",
    "* Drop from the relevant movies dataframe the watched movies\n",
    "\n",
    "<font size=\"-1\" color=\"gray\">(Remove this cell when delivering.)</font>"
   ]
  },
  {
   "cell_type": "markdown",
   "metadata": {},
   "source": [
    "<font size=\"+1\" color=\"red\">Replace this cell with your code implementing \"get_recommended_movies\"</font>"
   ]
  },
  {
   "cell_type": "markdown",
   "metadata": {},
   "source": [
    "<font size=\"+1\" color=\"red\">Replace this cell with your code to obtain the 10 most recommended movies for the users user_id_super and user_id_drama</font>"
   ]
  },
  {
   "cell_type": "markdown",
   "metadata": {},
   "source": [
    "<font size=\"+1\" color=\"red\">Replace this cell with a brief commentary on these recommendations. Do you think they are relevant? Why or why not? After removing the movies the user has already watched, are the relevance scores of the remaining items comparable to the previous lists that contained all relevant movies?</font>"
   ]
  },
  {
   "cell_type": "markdown",
   "metadata": {},
   "source": [
    "# DELIVER (individually)\n",
    "\n",
    "Remember to read the section on \"delivering your code\" in the [course evaluation guidelines](https://github.com/chatox/data-mining-course/blob/master/upf/upf-evaluation.md).\n",
    "\n",
    "Deliver a zip file containing:\n",
    "\n",
    "* This notebook\n",
    "\n",
    "## Extra points available\n",
    "\n",
    "For more learning and extra points, use the [surprise](http://surpriselib.com/) library to generate recommendations for the same two users. Display the generated recommendations and comment on them.\n",
    "\n",
    "**Note:** if you go for the extra points, add ``<font size=\"+2\" color=\"blue\">Additional results: surprise library</font>`` at the top of your notebook.\n",
    "\n",
    "<font size=\"-1\" color=\"gray\">(Remove this cell when delivering.)</font>"
   ]
  },
  {
   "cell_type": "markdown",
   "metadata": {},
   "source": [
    "<font size=\"+2\" color=\"#003300\">I hereby declare that, except for the code provided by the course instructors, all of my code, report, and figures were produced by myself.</font>"
   ]
  }
 ],
 "metadata": {
  "kernelspec": {
   "display_name": "Python 3",
   "language": "python",
   "name": "python3"
  },
  "language_info": {
   "codemirror_mode": {
    "name": "ipython",
    "version": 3
   },
   "file_extension": ".py",
   "mimetype": "text/x-python",
   "name": "python",
   "nbconvert_exporter": "python",
   "pygments_lexer": "ipython3",
   "version": "3.10.12"
  }
 },
 "nbformat": 4,
 "nbformat_minor": 2
}
